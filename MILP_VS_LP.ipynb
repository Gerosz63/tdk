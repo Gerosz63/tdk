{
 "cells": [
  {
   "cell_type": "markdown",
   "metadata": {},
   "source": [
    "# A MILP és az LP solverek összehasonlítása"
   ]
  },
  {
   "cell_type": "markdown",
   "metadata": {},
   "source": [
    "## Importok és globális változók definiálása"
   ]
  },
  {
   "cell_type": "code",
   "execution_count": null,
   "metadata": {},
   "outputs": [],
   "source": [
    "import pandas as pd\n",
    "import numpy as np\n",
    "import vppopt as vo\n",
    "import sys\n",
    "import compare as cp\n",
    "from matplotlib import pyplot as plt\n",
    "\n",
    "np.set_printoptions(suppress=True, linewidth=100000, threshold=sys.maxsize)\n",
    "pd.set_option('display.max_rows',500)\n",
    "pd.set_option('display.max_columns',504)\n",
    "pd.set_option('display.width',1000)\n",
    "# Napelem zajosításához\n",
    "seed = 1000\n",
    "\n",
    "# Kapcsoló az ábrák megjelenítésére \n",
    "cp.globaldisplay=True\n",
    "# kapcsoló az összegzések elvégzéséhez\n",
    "cp.globalsummerize=False\n",
    "\n",
    "\n",
    "T = 24\n",
    "l1 = vo.gen_random_demand(T, 0, 1000, 12200)\n",
    "l2 = vo.gen_random_demand(T, 0, 2000, 4562)\n",
    "l3 = vo.gen_random_demand(T, 0, 3000, 7531)\n",
    "l4 = vo.gen_random_demand(T, 0, 10000, 891234)\n",
    "l5 = vo.gen_random_demand(T, 2000, 4000, 97345)\n",
    "l6 = vo.gen_random_demand(T, 5000, 6000, 895)\n",
    "l7 = vo.gen_random_demand(T, 500, 1000, 12)\n",
    "l8 = vo.gen_random_demand(T, 0, 20000, 7533)\n",
    "l9 = vo.gen_random_demand(T, 10000, 20000, 9453)\n",
    "l10 = np.array([4625, 4420, 4250, 4190, 4269, 4480, 4960, 4931, 4887, 4930, 5063, 5239, 5394, 5551, 5174, 5659, 5137, 5630, 5055, 5444, 4962, 5177, 4932, 4935])\n",
    "d = np.zeros(T)"
   ]
  },
  {
   "cell_type": "markdown",
   "metadata": {},
   "source": [
    "### Fogyasztási görbék megjelenítése"
   ]
  },
  {
   "cell_type": "code",
   "execution_count": null,
   "metadata": {},
   "outputs": [],
   "source": [
    "plt.plot(l1)\n",
    "# plt.plot(l2)\n",
    "# plt.plot(l3)\n",
    "# plt.plot(l4)\n",
    "# plt.plot(l5)\n",
    "# plt.plot(l6)\n",
    "plt.plot(l7)\n",
    "# plt.plot(l8)\n",
    "# plt.plot(l9)\n",
    "# plt.plot(l10)\n",
    "plt.show()\n",
    "pd.DataFrame([l1, l2, l3, l4, l5, l6, l7, l8, l9, l10], columns=range(1,25))"
   ]
  },
  {
   "cell_type": "markdown",
   "metadata": {},
   "source": [
    "# Tesztek a solverek érzékenységére"
   ]
  },
  {
   "cell_type": "markdown",
   "metadata": {},
   "source": [
    "## LP solver"
   ]
  },
  {
   "cell_type": "markdown",
   "metadata": {},
   "source": [
    "### Fel- és lefutás érzékenysége (Gázmotoroknál)"
   ]
  },
  {
   "cell_type": "markdown",
   "metadata": {},
   "source": [
    "#### Csak gázmotorok"
   ]
  },
  {
   "cell_type": "markdown",
   "metadata": {},
   "source": [
    "**1. Teszt:**<br>\n",
    "2-2 gázmotorunk van, amelyek közül a második pár 2. tagjánál módosítjuk a ramp up/down rate-et.\n",
    "Csak az *l1, l2, l3, l7* fogyaztói görbéket használjuk, mivel a többi nem teljesíthető. Ezen teszt esetén a ramp up és down értékeket csak csökkentjük, növelés nem történik.\n",
    "\n",
    "**Eredmény:**\n",
    "A vizsgált fogyasztási görbékre nézve nem tapasztalható a költségben bármiféle változás, viszont a termelés görbékben annál inkább. Ezen esetekben a tesztek többsége során jelentős elmozdulás az első 5%-ban, illetve 30-35%-os csökkentés esetén volt tapasztalható.\n",
    "Ezen felül a 2. és 3. vizsgálat esetén 70 és 35%-nál nagyobb csökkentésre már nem optimalizálható a modell, így az ottani paramétereket módosítva a következő tesztben nézzük meg."
   ]
  },
  {
   "cell_type": "code",
   "execution_count": null,
   "metadata": {},
   "outputs": [],
   "source": [
    "# ====== Ne módosítsd =======\n",
    "cp.globalcurrcat = 0\n",
    "# ===========================\n",
    "\n",
    "def f(val, i):\n",
    "     return [vo.VPPGasEngine(1500, 1500, 1500, 10), vo.VPPGasEngine(1500, val[0]+val[1]*i, val[0]+val[1]*i, 10)]\n",
    "g1_1 = vo.VPPGasEngine(1500, 1500, 1500, 10)\n",
    "g1_2 = vo.VPPGasEngine(1500, 1500, 1500, 10)\n",
    "\n",
    "\n",
    "_ = cp.sensitivity([g1_1,g1_2], f, [(1500, 0)], [(1500, 1500)], T, [l1, l2, l3, l7], [np.zeros(T)])"
   ]
  },
  {
   "cell_type": "markdown",
   "metadata": {},
   "source": [
    "**1.1 Teszt:**<br>\n",
    "Az 1. teszt módosított verziója, hogy a 3. vizsgálat is teljes egészében optimalizálható legyen."
   ]
  },
  {
   "cell_type": "code",
   "execution_count": null,
   "metadata": {},
   "outputs": [],
   "source": [
    "def f(val, i):\n",
    "     return [vo.VPPGasEngine(1500, 1500, 1500, 10), vo.VPPGasEngine(1500, val[0]+val[1]*i, val[0]+val[1]*i, 10)]\n",
    "g1_1 = vo.VPPGasEngine(1500, 1500, 1500, 10)\n",
    "g1_2 = vo.VPPGasEngine(1500, 1500, 1500, 10)\n",
    "\n",
    "\n",
    "_ = cp.sensitivity([g1_1,g1_2], f, [(1500, 0)], [(1500, 1500),(1500, 1165),(1500, 625),(1500, 1500)], T, [l1, l2, l3, l7], [np.zeros(T)])"
   ]
  },
  {
   "cell_type": "markdown",
   "metadata": {},
   "source": [
    "**1.2 Teszt:**<br>\n",
    "Még egy kisebb módosítás, amely a költségeket érinti. Jelen esetben meg lett 10-szerezve az első gázmotor költsége és az olcsóbb gázmotor ramp up/down értékeit csökkentjük.<br>\n",
    "**Eredmény:** Ezzel a módosítással már elég érdekes eremények születtek. Ahogy látható, akár az első tesz esetén is már a költségfüggvény változásnak indult. Ez a változás ránézésre a konstans 0-ból egy exponenciális függvény."
   ]
  },
  {
   "cell_type": "code",
   "execution_count": null,
   "metadata": {},
   "outputs": [],
   "source": [
    "def f(val, i):\n",
    "     return [vo.VPPGasEngine(1500, 1500, 1500, 100), vo.VPPGasEngine(1500, val[0]+val[1]*i, val[0]+val[1]*i, 10)]\n",
    "g1_1 = vo.VPPGasEngine(1500, 1500, 1500, 100)\n",
    "g1_2 = vo.VPPGasEngine(1500, 1500, 1500, 10)\n",
    "\n",
    "_ = cp.sensitivity([g1_1,g1_2], f, [(1500, 0)], [(1500, 1500),(1500, 1165),(1500, 625),(1500, 1500)], T, [l1, l2, l3, l7], [np.zeros(T)])"
   ]
  },
  {
   "cell_type": "markdown",
   "metadata": {},
   "source": [
    "**1.3. Teszt:**<br>\n",
    "Annyi módosítással az 1.2-höz képest, hogy 1500 helyett minden gázmotornak 750 az alap ramp up/down értéke."
   ]
  },
  {
   "cell_type": "code",
   "execution_count": null,
   "metadata": {},
   "outputs": [],
   "source": [
    "def f(val, i):\n",
    "     return [vo.VPPGasEngine(1500, 750, 750, 100), vo.VPPGasEngine(1500, val[0]+val[1]*i, val[0]+val[1]*i, 10)]\n",
    "g1_1 = vo.VPPGasEngine(1500, 750, 750, 100)\n",
    "g1_2 = vo.VPPGasEngine(1500, 750, 750, 10)\n",
    "\n",
    "_ = cp.sensitivity([g1_1,g1_2], f, [(750, 750)], [(750, 593),(750, 750)], T, [l1, l7], [np.zeros(T)])"
   ]
  },
  {
   "cell_type": "markdown",
   "metadata": {},
   "source": [
    "**1.3.1 Teszt:**<br>\n",
    "Az elöző teszteset részletesebb vizsgálata. (1. eset csökkentés)"
   ]
  },
  {
   "cell_type": "code",
   "execution_count": null,
   "metadata": {},
   "outputs": [],
   "source": [
    "def f(val):\n",
    "     return [vo.VPPGasEngine(1500, 750, 750, 100), vo.VPPGasEngine(1500, val, val, 10)]\n",
    "cp.sensitivity_by_participants(f, 190, 1100, 5, l1, d, T, view=(30,250))"
   ]
  },
  {
   "cell_type": "markdown",
   "metadata": {},
   "source": [
    "**2. Teszt**<br>\n",
    "Növeljük meg a maximális termelésüket a motoroknak és ezzel az alap ramp up/down rátát is."
   ]
  },
  {
   "cell_type": "code",
   "execution_count": null,
   "metadata": {},
   "outputs": [],
   "source": [
    "def f(val, i):\n",
    "     return [vo.VPPGasEngine(4000, 2000, 2000, 10), vo.VPPGasEngine(6000, val[0]+val[1]*i, val[0]+val[1]*i, 10)]\n",
    "g1_1 = vo.VPPGasEngine(4000, 2000, 2000, 10)\n",
    "g1_2 = vo.VPPGasEngine(6000, 2000, 2000, 10)\n",
    "\n",
    "_ = cp.sensitivity([g1_1,g1_2], f, [(2000, 4000)], [(2000, 2000),(2000, 2000),(2000, 1677),(2000, 2000),(2000, 2000),(2000, 2000),(2000, 2000)], T, [l1, l2,l3,l5,l6, l7,l10], [np.zeros(T)])"
   ]
  },
  {
   "cell_type": "markdown",
   "metadata": {},
   "source": [
    "**2.1 Teszt:**<br>\n",
    "Legyen drágább a nagyobb max. termeléssel bíró gázmotor."
   ]
  },
  {
   "cell_type": "code",
   "execution_count": null,
   "metadata": {},
   "outputs": [],
   "source": [
    "def f(val, i):\n",
    "     return [vo.VPPGasEngine(4000, 2000, 2000, 10), vo.VPPGasEngine(6000, val[0]+val[1]*i, val[0]+val[1]*i, 100)]\n",
    "g1_1 = vo.VPPGasEngine(4000, 2000, 2000, 10)\n",
    "g1_2 = vo.VPPGasEngine(6000, 2000, 2000, 100)\n",
    "\n",
    "_ = cp.sensitivity([g1_1,g1_2], f, [(2000, 4000)], [(2000, 2000),(2000, 2000),(2000, 1677),(2000, 2000),(2000, 2000),(2000, 2000),(2000, 2000)], T, [l1, l2,l3,l5,l6, l7,l10], [np.zeros(T)])"
   ]
  },
  {
   "cell_type": "markdown",
   "metadata": {},
   "source": [
    "**2.2 Teszt:**<br>\n",
    "Most a másik motor legyen drágább."
   ]
  },
  {
   "cell_type": "code",
   "execution_count": null,
   "metadata": {},
   "outputs": [],
   "source": [
    "def f(val, i):\n",
    "     return [vo.VPPGasEngine(4000, 2000, 2000, 100), vo.VPPGasEngine(6000, val[0]+val[1]*i, val[0]+val[1]*i, 10)]\n",
    "g1_1 = vo.VPPGasEngine(4000, 2000, 2000, 100)\n",
    "g1_2 = vo.VPPGasEngine(6000, 2000, 2000, 10)\n",
    "\n",
    "_ = cp.sensitivity([g1_1,g1_2], f, [(2000, 4000)], [(2000, 2000),(2000, 2000),(2000, 1677),(2000, 2000),(2000, 2000),(2000, 2000),(2000, 2000)], T, [l1, l2,l3,l5,l6, l7,l10], [np.zeros(T)])"
   ]
  },
  {
   "cell_type": "markdown",
   "metadata": {},
   "source": [
    "**Összefogalaló:**<br>\n",
    "Az előbbi tesztek esetén amennyiben azonos költségekkel futottak a motorok azon esetekben a költség nem változott, viszont amint különbség volt közöttük, egyből exponeneciális változás volt tapasztalható.\n",
    "Termelés tekintetében is a költséghez van köze a függvény alakjának, ha a költségek megegyeznek, akkor egy kesze-kusza függvényt kapunk, viszont amint különböznek, ez is átvált exponenciálisba."
   ]
  },
  {
   "cell_type": "markdown",
   "metadata": {},
   "source": [
    "#### Gázmotorok + energia tároló"
   ]
  },
  {
   "cell_type": "markdown",
   "metadata": {},
   "source": [
    "**1. Teszt:**<br>\n",
    "Úgy, hogy bejött a tároló, az eddig nem teljesíthető optimalizáciokat is el lehetett végezni, viszont ennek következtében az ottani költségek hatalmasat ugrottak."
   ]
  },
  {
   "cell_type": "code",
   "execution_count": null,
   "metadata": {},
   "outputs": [],
   "source": [
    "def f(val, i):\n",
    "     return [vo.VPPGasEngine(1500, 1500, 1500, 10), vo.VPPGasEngine(1500, val[0]+val[1]*i, val[0]+val[1]*i, 10), vo.VPPEnergyStorage(0,10000, 1000, 1000, 0.1, 0.1, 10, 10, 0)]\n",
    "g1_1 = vo.VPPGasEngine(1500, 1500, 1500, 10)\n",
    "g1_2 = vo.VPPGasEngine(1500, 1500, 1500, 10)\n",
    "t = vo.VPPEnergyStorage(0,10000, 1000, 1000, 0.1, 0.1, 10, 10, 0)\n",
    "\n",
    "_ = cp.sensitivity([g1_1,g1_2, t], f, [(1500, 0)], [(1500, 1500)], T, [l1, l2, l3, l7], [np.zeros(T)])"
   ]
  },
  {
   "cell_type": "markdown",
   "metadata": {},
   "source": [
    "**1.1 Teszt:**<br>\n",
    "Visszatérve a tároló nélkül is teljesíthető paraméterekre. Ezen eredmények igazolják az előbbi tesztnél leírtakat."
   ]
  },
  {
   "cell_type": "code",
   "execution_count": null,
   "metadata": {},
   "outputs": [],
   "source": [
    "def f(val, i):\n",
    "     return [vo.VPPGasEngine(1500, 1500, 1500, 10), vo.VPPGasEngine(1500, val[0]+val[1]*i, val[0]+val[1]*i, 10), vo.VPPEnergyStorage(0,10000, 1000, 1000, 0.1, 0.1, 10, 10)]\n",
    "g1_1 = vo.VPPGasEngine(1500, 1500, 1500, 10)\n",
    "g1_2 = vo.VPPGasEngine(1500, 1500, 1500, 10)\n",
    "t = vo.VPPEnergyStorage(0,10000, 1000, 1000, 0.1, 0.1, 10, 10)\n",
    "\n",
    "\n",
    "_ = cp.sensitivity([g1_1,g1_2, t], f, [(1500, 0)], [(1500, 1500),(1500, 1165),(1500, 625),(1500, 1500)], T, [l1, l2, l3, l7], [np.zeros(T)])"
   ]
  },
  {
   "cell_type": "markdown",
   "metadata": {},
   "source": [
    "**1.2 Teszt:**<br>\n",
    "Növeljük meg az egyik gázmotor költségét."
   ]
  },
  {
   "cell_type": "code",
   "execution_count": null,
   "metadata": {},
   "outputs": [],
   "source": [
    "def f(val, i):\n",
    "     return [vo.VPPGasEngine(1500, 1500, 1500, 100), vo.VPPGasEngine(1500, val[0]+val[1]*i, val[0]+val[1]*i, 10),vo.VPPEnergyStorage(0,10000, 1000, 1000, 0.1, 0.1, 10, 10)]\n",
    "g1_1 = vo.VPPGasEngine(1500, 1500, 1500, 100)\n",
    "g1_2 = vo.VPPGasEngine(1500, 1500, 1500, 10)\n",
    "t = vo.VPPEnergyStorage(0,10000, 1000, 1000, 0.1, 0.1, 10, 10)\n",
    "\n",
    "_ = cp.sensitivity([g1_1,g1_2,t], f, [(1500, 0)], [(1500, 1500),(1500, 1165),(1500, 625),(1500, 1500)], T, [l1, l2, l3, l7], [np.zeros(T)])"
   ]
  },
  {
   "cell_type": "markdown",
   "metadata": {},
   "source": [
    "**1.2.1 Teszt:**<br>\n",
    "Most helyezzük vissza az összes paramétert úgy, hogy azok 1500-nak százalékos értékével csökkentsék az alap értéket.<br>\n",
    "**Eredmény:** Nem tapasztalható releváns eltérés a grafikonok között. Ránézésre olyan, mintha nagyobb intervallumon vennénk a függvényeket."
   ]
  },
  {
   "cell_type": "code",
   "execution_count": null,
   "metadata": {},
   "outputs": [],
   "source": [
    "def f(val, i):\n",
    "     return [vo.VPPGasEngine(1500, 1500, 1500, 100), vo.VPPGasEngine(1500, val[0]+val[1]*i, val[0]+val[1]*i, 10),vo.VPPEnergyStorage(0,10000, 1000, 1000, 0.1, 0.1, 10, 10)]\n",
    "g1_1 = vo.VPPGasEngine(1500, 1500, 1500, 100)\n",
    "g1_2 = vo.VPPGasEngine(1500, 1500, 1500, 10)\n",
    "t = vo.VPPEnergyStorage(0,10000, 1000, 1000, 0.1, 0.1, 10, 10)\n",
    "\n",
    "_ = cp.sensitivity([g1_1,g1_2,t], f, [(1500, 0)], [(1500, 1500)], T, [l1, l2, l3, l7], [np.zeros(T)])"
   ]
  },
  {
   "cell_type": "markdown",
   "metadata": {},
   "source": [
    "**1.3. Teszt:**<br>\n",
    "Csökentjük az alap ramp up/down értékeket. (1500 $\\rightarrow$ 750)"
   ]
  },
  {
   "cell_type": "code",
   "execution_count": null,
   "metadata": {},
   "outputs": [],
   "source": [
    "def f(val, i):\n",
    "     return [vo.VPPGasEngine(1500, 750, 750, 100), vo.VPPGasEngine(1500, val[0]+val[1]*i, val[0]+val[1]*i, 10),vo.VPPEnergyStorage(0,10000, 1000, 1000, 0.1, 0.1, 10, 10)]\n",
    "g1_1 = vo.VPPGasEngine(1500, 750, 750, 100)\n",
    "g1_2 = vo.VPPGasEngine(1500, 750, 750, 10)\n",
    "t = vo.VPPEnergyStorage(0,10000, 1000, 1000, 0.1, 0.1, 10, 10)\n",
    "\n",
    "_ = cp.sensitivity([g1_1,g1_2,t], f, [(750, 750)], [(750, 750)], T, [l1, l2, l7], [np.zeros(T)])"
   ]
  },
  {
   "cell_type": "markdown",
   "metadata": {},
   "source": [
    "**2. Teszt**<br>\n",
    "Növeljük meg a maximális termelésüket a motoroknak és ezzel az alap ramp up/down rátát is."
   ]
  },
  {
   "cell_type": "code",
   "execution_count": null,
   "metadata": {},
   "outputs": [],
   "source": [
    "def f(val, i):\n",
    "     return [vo.VPPGasEngine(4000, 2000, 2000, 10), vo.VPPGasEngine(6000, val[0]+val[1]*i, val[0]+val[1]*i, 10),vo.VPPEnergyStorage(0,10000, 1000, 1000, 0.1, 0.1, 10, 10)]\n",
    "g1_1 = vo.VPPGasEngine(4000, 2000, 2000, 10)\n",
    "g1_2 = vo.VPPGasEngine(6000, 2000, 2000, 10)\n",
    "t = vo.VPPEnergyStorage(0,10000, 1000, 1000, 0.1, 0.1, 10, 10)\n",
    "\n",
    "_ = cp.sensitivity([g1_1,g1_2,t], f, [(2000, 4000)], [(2000, 2000)], T, [l1, l2,l3,l5,l6, l7,l10], [np.zeros(T)])"
   ]
  },
  {
   "cell_type": "markdown",
   "metadata": {},
   "source": [
    "**2.1 Teszt:**<br>\n",
    "Növeljük meg a második gázmotor költségét."
   ]
  },
  {
   "cell_type": "code",
   "execution_count": null,
   "metadata": {},
   "outputs": [],
   "source": [
    "def f(val, i):\n",
    "     return [vo.VPPGasEngine(4000, 2000, 2000, 10), vo.VPPGasEngine(6000, val[0]+val[1]*i, val[0]+val[1]*i, 100),vo.VPPEnergyStorage(0,10000, 1000, 1000, 0.1, 0.1, 10, 10)]\n",
    "g1_1 = vo.VPPGasEngine(4000, 2000, 2000, 10)\n",
    "g1_2 = vo.VPPGasEngine(6000, 2000, 2000, 100)\n",
    "t = vo.VPPEnergyStorage(0,10000, 1000, 1000, 0.1, 0.1, 10, 10)\n",
    "\n",
    "_ = cp.sensitivity([g1_1,g1_2,t], f, [(2000, 4000)], [(2000, 2000)], T, [l1, l2,l3,l5,l6, l7,l10], [np.zeros(T)])"
   ]
  },
  {
   "cell_type": "markdown",
   "metadata": {},
   "source": [
    "**2.2 Teszt:**<br>\n",
    "Most cseréljük fel a költségeket."
   ]
  },
  {
   "cell_type": "code",
   "execution_count": null,
   "metadata": {},
   "outputs": [],
   "source": [
    "def f(val, i):\n",
    "     return [vo.VPPGasEngine(4000, 2000, 2000, 100), vo.VPPGasEngine(6000, val[0]+val[1]*i, val[0]+val[1]*i, 10),vo.VPPEnergyStorage(0,10000, 1000, 1000, 0.1, 0.1, 10, 10)]\n",
    "g1_1 = vo.VPPGasEngine(4000, 2000, 2000, 100)\n",
    "g1_2 = vo.VPPGasEngine(6000, 2000, 2000, 10)\n",
    "t = vo.VPPEnergyStorage(0,10000, 1000, 1000, 0.1, 0.1, 10, 10)\n",
    "\n",
    "_ = cp.sensitivity([g1_1,g1_2,t], f, [(2000, 4000)], [(2000, 2000)], T, [l1, l2,l3,l5,l6, l7,l10], [np.zeros(T)])"
   ]
  },
  {
   "cell_type": "markdown",
   "metadata": {},
   "source": [
    "**Összefoglalás:**<br>\n",
    "Összességében hasonló görbéket kapunk, mintha csak gázmotorok szerepelnének, csak kevésbé szögleteseket, a tárolónak köszönhetően sokkal \"görbébb\" függvényeket kapunk. Ezek mellett sokszor kisebbek a hibák, mintha csak gázmotorok lennének, illetve sok esetben az eddig nem teljesíthető teszteket is sikerül elvégeznie."
   ]
  },
  {
   "cell_type": "markdown",
   "metadata": {},
   "source": [
    "#### Gázmtorok + napelem"
   ]
  },
  {
   "cell_type": "markdown",
   "metadata": {},
   "source": [
    "**1. Teszt:**<br>\n",
    "Adjunk egy napelemet a 2 gázmotorhoz úgy, hogy annak termelését arányosra állítjuk a gázmotorokéval. "
   ]
  },
  {
   "cell_type": "code",
   "execution_count": null,
   "metadata": {},
   "outputs": [],
   "source": [
    "def f(val, i):\n",
    "     return [vo.VPPGasEngine(1500, 1500, 1500, 10), vo.VPPGasEngine(1500, val[0]+val[1]*i, val[0]+val[1]*i, 10),vo.VPPSolarPanel(1000, 500, 500, 1, T, seed=seed)]\n",
    "g1_1 = vo.VPPGasEngine(1500, 1500, 1500, 10)\n",
    "g1_2 = vo.VPPGasEngine(1500, 1500, 1500, 10)\n",
    "s = vo.VPPSolarPanel(1000, 500, 500, 1, T, seed=seed)\n",
    "\n",
    "_ = cp.sensitivity([g1_1,g1_2, s], f, [(1500, 0)], [(1500, 1500)], T, [l1, l2, l3, l7], [np.zeros(T)])"
   ]
  },
  {
   "cell_type": "markdown",
   "metadata": {},
   "source": [
    "**1.1 Teszt:**<br>\n",
    "Módosítjuk a paramétereket, hogy minden esetben elvégezhető legyen az optimalizálás."
   ]
  },
  {
   "cell_type": "code",
   "execution_count": null,
   "metadata": {},
   "outputs": [],
   "source": [
    "def f(val, i):\n",
    "     return [vo.VPPGasEngine(1500, 1500, 1500, 10), vo.VPPGasEngine(1500, val[0]+val[1]*i, val[0]+val[1]*i, 10),vo.VPPSolarPanel(1000, 500, 500, 1, T, seed=seed)]\n",
    "g1_1 = vo.VPPGasEngine(1500, 1500, 1500, 10)\n",
    "g1_2 = vo.VPPGasEngine(1500, 1500, 1500, 10)\n",
    "s = vo.VPPSolarPanel(1000, 500, 500, 1, T, seed=seed)\n",
    "\n",
    "_ = cp.sensitivity([g1_1,g1_2, s], f, [(1500, 0)], [(1500, 1500),(1500, 1165),(1500, 945),(1500, 1500)], T, [l1, l2, l3, l7], [np.zeros(T)])"
   ]
  },
  {
   "cell_type": "markdown",
   "metadata": {},
   "source": [
    "**1.2 Teszt:**<br>\n",
    "Kis költség változtatás.<br>\n",
    "**Eredmény:** Hasonló az eredmény, mint az eddigieknél. (Exponenciális költség növekedés.)"
   ]
  },
  {
   "cell_type": "code",
   "execution_count": null,
   "metadata": {},
   "outputs": [],
   "source": [
    "def f(val, i):\n",
    "     return [vo.VPPGasEngine(1500, 1500, 1500, 100), vo.VPPGasEngine(1500, val[0]+val[1]*i, val[0]+val[1]*i, 10),vo.VPPSolarPanel(1000, 500, 500, 1, T, seed=seed)]\n",
    "g1_1 = vo.VPPGasEngine(1500, 1500, 1500, 100)\n",
    "g1_2 = vo.VPPGasEngine(1500, 1500, 1500, 10)\n",
    "s = vo.VPPSolarPanel(1000, 500, 500, 1, T, seed=seed)\n",
    "\n",
    "_ = cp.sensitivity([g1_1,g1_2, s], f, [(1500, 0)], [(1500, 1500),(1500, 1165),(1500, 945),(1500, 1500)], T, [l1, l2, l3, l7], [np.zeros(T)])"
   ]
  },
  {
   "cell_type": "markdown",
   "metadata": {},
   "source": [
    "**1.2.1 Teszt:**<br>\n",
    "Paraméterek visszaállítása az 1. tesztbeli értékekre.\n",
    "Itt most nincs különbség a kettő között, nem mint a tárolók esetén..."
   ]
  },
  {
   "cell_type": "code",
   "execution_count": null,
   "metadata": {},
   "outputs": [],
   "source": [
    "def f(val, i):\n",
    "     return [vo.VPPGasEngine(1500, 1500, 1500, 100), vo.VPPGasEngine(1500, val[0]+val[1]*i, val[0]+val[1]*i, 10),vo.VPPSolarPanel(1000, 500, 500, 1, T, seed=seed)]\n",
    "g1_1 = vo.VPPGasEngine(1500, 1500, 1500, 100)\n",
    "g1_2 = vo.VPPGasEngine(1500, 1500, 1500, 10)\n",
    "s = vo.VPPSolarPanel(1000, 500, 500, 1, T, seed=seed)\n",
    "\n",
    "_ = cp.sensitivity([g1_1,g1_2, s], f, [(1500, 0)], [(1500, 1500)], T, [l1, l2, l3, l7], [np.zeros(T)])"
   ]
  },
  {
   "cell_type": "markdown",
   "metadata": {},
   "source": [
    "**1.2.2 Teszt:**<br>\n",
    "Játszunk a költséggel. Lehet, hogy azért exponeneciális a költség különbség függvénye, mert a költségek is így viszonyulnak egymáshoz?<br>\n",
    "**Eredmény:** Az alábbi grafikonok alapján téves a feltevés, mivel így is exponeneciálisak lesznek."
   ]
  },
  {
   "cell_type": "code",
   "execution_count": null,
   "metadata": {},
   "outputs": [],
   "source": [
    "def f(val, i):\n",
    "     return [vo.VPPGasEngine(1500, 1500, 1500, 20), vo.VPPGasEngine(1500, val[0]+val[1]*i, val[0]+val[1]*i, 10),vo.VPPSolarPanel(1000, 500, 500, 1, T, seed=seed)]\n",
    "g1_1 = vo.VPPGasEngine(1500, 1500, 1500, 20)\n",
    "g1_2 = vo.VPPGasEngine(1500, 1500, 1500, 10)\n",
    "s = vo.VPPSolarPanel(1000, 500, 500, 1, T, seed=seed)\n",
    "\n",
    "_ = cp.sensitivity([g1_1,g1_2, s], f, [(1500, 0)], [(1500, 1500),(1500, 1165),(1500, 945),(1500, 1500)], T, [l1, l2, l3, l7], [np.zeros(T)])"
   ]
  },
  {
   "cell_type": "markdown",
   "metadata": {},
   "source": [
    "**1.3 Teszt:**<br>\n",
    "Módosítsuk az alap ramp up/down értékeket az eddigi felére. (1500 $\\rightarrow$ 750)"
   ]
  },
  {
   "cell_type": "code",
   "execution_count": null,
   "metadata": {},
   "outputs": [],
   "source": [
    "def f(val, i):\n",
    "     return [vo.VPPGasEngine(1500, 750, 750, 10), vo.VPPGasEngine(1500, val[0]+val[1]*i, val[0]+val[1]*i, 10),vo.VPPSolarPanel(1000, 500, 500, 1, T, seed=seed)]\n",
    "g1_1 = vo.VPPGasEngine(1500, 750, 750, 10)\n",
    "g1_2 = vo.VPPGasEngine(1500, 750, 750, 10)\n",
    "s = vo.VPPSolarPanel(1000, 500, 500, 1, T, seed=seed)\n",
    "\n",
    "_ = cp.sensitivity([g1_1,g1_2, s], f, [(750, 750)], [(750, 750)], T, [l1, l7], [np.zeros(T)])"
   ]
  },
  {
   "cell_type": "markdown",
   "metadata": {},
   "source": [
    "**2. Teszt:**<br>\n",
    "Növeljük meg a gázmotorok maximális termelését."
   ]
  },
  {
   "cell_type": "code",
   "execution_count": null,
   "metadata": {},
   "outputs": [],
   "source": [
    "def f(val, i):\n",
    "     return [vo.VPPGasEngine(4000, 2000, 2000, 10), vo.VPPGasEngine(6000, val[0]+val[1]*i, val[0]+val[1]*i, 10),vo.VPPSolarPanel(2000, 1000, 1000, 1, T, seed=seed)]\n",
    "g1_1 = vo.VPPGasEngine(4000, 2000, 2000, 10)\n",
    "g1_2 = vo.VPPGasEngine(6000, 2000, 2000, 10)\n",
    "s = vo.VPPSolarPanel(2000, 1000, 1000, 1, T, seed=seed)\n",
    "\n",
    "_ = cp.sensitivity([g1_1,g1_2, s], f, [(2000, 4000)], [(2000, 2000),(2000, 2000),(2000, 1997),(2000, 2000),(2000, 2000),(2000, 2000),(2000, 2000)], T, [l1, l2,l3,l5,l6, l7,l10], [np.zeros(T)])"
   ]
  },
  {
   "cell_type": "markdown",
   "metadata": {},
   "source": [
    "**2.1 Teszt:**<br>\n",
    "Legyen drágább a nagyobb max. termeléssel bíró gázmotor."
   ]
  },
  {
   "cell_type": "code",
   "execution_count": null,
   "metadata": {},
   "outputs": [],
   "source": [
    "def f(val, i):\n",
    "     return [vo.VPPGasEngine(4000, 2000, 2000, 10), vo.VPPGasEngine(6000, val[0]+val[1]*i, val[0]+val[1]*i, 100),vo.VPPSolarPanel(2000, 1000, 1000, 1, T, seed=seed)]\n",
    "g1_1 = vo.VPPGasEngine(4000, 2000, 2000, 10)\n",
    "g1_2 = vo.VPPGasEngine(6000, 2000, 2000, 100)\n",
    "s = vo.VPPSolarPanel(2000, 1000, 1000, 1, T, seed=seed)\n",
    "\n",
    "_ = cp.sensitivity([g1_1,g1_2, s], f, [(2000, 4000)], [(2000, 2000),(2000, 2000),(2000, 1997),(2000, 2000),(2000, 2000),(2000, 2000),(2000, 2000)], T, [l1, l2,l3,l5,l6, l7,l10], [np.zeros(T)])"
   ]
  },
  {
   "cell_type": "markdown",
   "metadata": {},
   "source": [
    "**2.2 Teszt:**<br>\n",
    "Most a másik motor legyen drágább."
   ]
  },
  {
   "cell_type": "code",
   "execution_count": null,
   "metadata": {},
   "outputs": [],
   "source": [
    "def f(val, i):\n",
    "     return [vo.VPPGasEngine(4000, 2000, 2000, 100), vo.VPPGasEngine(6000, val[0]+val[1]*i, val[0]+val[1]*i, 10),vo.VPPSolarPanel(2000, 1000, 1000, 1, T, seed=seed)]\n",
    "g1_1 = vo.VPPGasEngine(4000, 2000, 2000, 100)\n",
    "g1_2 = vo.VPPGasEngine(6000, 2000, 2000, 10)\n",
    "s = vo.VPPSolarPanel(2000, 1000, 1000, 1, T, seed=seed)\n",
    "\n",
    "_ = cp.sensitivity([g1_1,g1_2, s], f, [(2000, 4000)], [(2000, 2000),(2000, 2000),(2000, 1997),(2000, 2000),(2000, 2000),(2000, 2000),(2000, 2000)], T, [l1, l2,l3,l5,l6, l7,l10], [np.zeros(T)])"
   ]
  },
  {
   "cell_type": "markdown",
   "metadata": {},
   "source": [
    "**Összefogalalás:**\n",
    "Többnyire hasonló görbéket kapunk, mint a sima gázmotoroknál, csak a legtöbb esetben sokkal kacifántosabbak. Ezen felül előfordul olyan eset, melyet ez a modell teljesíteni tud, míg a sima gázmotoros nem, mely várható volt a termelt energia mennyiségének növekedése végett."
   ]
  },
  {
   "cell_type": "markdown",
   "metadata": {},
   "source": [
    "#### Gázmotork + napelem + enegia tároló"
   ]
  },
  {
   "cell_type": "markdown",
   "metadata": {},
   "source": [
    "**1. Teszt:**<br>\n",
    "Az eddigi résztvevőket kombinálva most 2 gázmotorral, 1 tárolóval és 1 napelemmel fogjuk az optimalizációt végezni."
   ]
  },
  {
   "cell_type": "code",
   "execution_count": null,
   "metadata": {},
   "outputs": [],
   "source": [
    "def f(val, i):\n",
    "     return [vo.VPPGasEngine(1500, 1500, 1500, 10), vo.VPPGasEngine(1500, val[0]+val[1]*i, val[0]+val[1]*i, 10), vo.VPPEnergyStorage(0,10000, 1000, 1000, 0.1, 0.1, 10, 10, 0), vo.VPPSolarPanel(1000, 500, 500, 1, T, seed=seed)]\n",
    "g1_1 = vo.VPPGasEngine(1500, 1500, 1500, 10)\n",
    "g1_2 = vo.VPPGasEngine(1500, 1500, 1500, 10)\n",
    "t = vo.VPPEnergyStorage(0,10000, 1000, 1000, 0.1, 0.1, 10, 10, 0)\n",
    "s = vo.VPPSolarPanel(1000, 500, 500, 1, T, seed=seed)\n",
    "\n",
    "\n",
    "_ = cp.sensitivity([g1_1,g1_2, t, s], f, [(1500, 0)], [(1500, 1500)], T, [l1, l2, l3, l7], [np.zeros(T)])"
   ]
  },
  {
   "cell_type": "markdown",
   "metadata": {},
   "source": [
    "**1.1 Teszt:**<br>\n",
    "Megváltoztatjuk a költségeket a gázmotorok esetén."
   ]
  },
  {
   "cell_type": "code",
   "execution_count": null,
   "metadata": {},
   "outputs": [],
   "source": [
    "def f(val, i):\n",
    "     return [vo.VPPGasEngine(1500, 1500, 1500, 100), vo.VPPGasEngine(1500, val[0]+val[1]*i, val[0]+val[1]*i, 10), vo.VPPEnergyStorage(0,10000, 1000, 1000, 0.1, 0.1, 10, 10, 0), vo.VPPSolarPanel(1000, 500, 500, 1, T, seed=seed)]\n",
    "g1_1 = vo.VPPGasEngine(1500, 1500, 1500, 100)\n",
    "g1_2 = vo.VPPGasEngine(1500, 1500, 1500, 10)\n",
    "t = vo.VPPEnergyStorage(0,10000, 1000, 1000, 0.1, 0.1, 10, 10, 0)\n",
    "s = vo.VPPSolarPanel(1000, 500, 500, 1, T, seed=seed)\n",
    "\n",
    "\n",
    "_ = cp.sensitivity([g1_1,g1_2, t, s], f, [(1500, 0)], [(1500, 1500)], T, [l1, l2, l3, l7], [np.zeros(T)])"
   ]
  },
  {
   "cell_type": "markdown",
   "metadata": {},
   "source": [
    "**1.2 Teszt:**<br>\n",
    "Módosítsuk az alap ramp up/down értékeket az eddigi felére. (1500 $\\rightarrow$ 750)"
   ]
  },
  {
   "cell_type": "code",
   "execution_count": null,
   "metadata": {},
   "outputs": [],
   "source": [
    "def f(val, i):\n",
    "     return [vo.VPPGasEngine(1500, 750, 750, 100), vo.VPPGasEngine(1500, val[0]+val[1]*i, val[0]+val[1]*i, 10), vo.VPPEnergyStorage(0,10000, 1000, 1000, 0.1, 0.1, 10, 10, 0), vo.VPPSolarPanel(1000, 500, 500, 1, T, seed=seed)]\n",
    "g1_1 = vo.VPPGasEngine(1500, 750, 750, 100)\n",
    "g1_2 = vo.VPPGasEngine(1500, 750, 750, 10)\n",
    "t = vo.VPPEnergyStorage(0,10000, 1000, 1000, 0.1, 0.1, 10, 10, 0)\n",
    "s = vo.VPPSolarPanel(1000, 500, 500, 1, T, seed=seed)\n",
    "\n",
    "\n",
    "_ = cp.sensitivity([g1_1,g1_2, t, s], f, [(750, 750)], [(750, 750)], T, [l1, l2, l3, l7], [np.zeros(T)])"
   ]
  },
  {
   "cell_type": "markdown",
   "metadata": {},
   "source": [
    "**2. Teszt:**<br>\n",
    "Növeljük meg a gázmotorok maximális termelését."
   ]
  },
  {
   "cell_type": "code",
   "execution_count": null,
   "metadata": {},
   "outputs": [],
   "source": [
    "def f(val, i):\n",
    "     return [vo.VPPGasEngine(4000, 2000, 2000, 10), vo.VPPGasEngine(6000, val[0]+val[1]*i, val[0]+val[1]*i, 10), vo.VPPEnergyStorage(0,10000, 1000, 1000, 0.1, 0.1, 10, 10, 0), vo.VPPSolarPanel(2000, 1000, 1000, 1, T, seed=seed)]\n",
    "g1_1 = vo.VPPGasEngine(4000, 2000, 2000, 10)\n",
    "g1_2 = vo.VPPGasEngine(6000, 2000, 2000, 10)\n",
    "t = vo.VPPEnergyStorage(0,10000, 1000, 1000, 0.1, 0.1, 10, 10, 0)\n",
    "s = vo.VPPSolarPanel(2000, 1000, 1000, 1, T, seed=seed)\n",
    "\n",
    "\n",
    "_ = cp.sensitivity([g1_1,g1_2, t, s], f, [(2000, 4000)], [(2000, 2000)], T, [l1, l2,l3,l5,l6, l7,l10], [np.zeros(T)])"
   ]
  },
  {
   "cell_type": "markdown",
   "metadata": {},
   "source": [
    "**2.1 Teszt:**<br>\n",
    "Legyen drágább a nagyobb max. termeléssel bíró gázmotor."
   ]
  },
  {
   "cell_type": "code",
   "execution_count": null,
   "metadata": {},
   "outputs": [],
   "source": [
    "def f(val, i):\n",
    "     return [vo.VPPGasEngine(4000, 2000, 2000, 10), vo.VPPGasEngine(6000, val[0]+val[1]*i, val[0]+val[1]*i, 100), vo.VPPEnergyStorage(0,10000, 1000, 1000, 0.1, 0.1, 10, 10, 0), vo.VPPSolarPanel(2000, 1000, 1000, 1, T, seed=seed)]\n",
    "g1_1 = vo.VPPGasEngine(4000, 2000, 2000, 10)\n",
    "g1_2 = vo.VPPGasEngine(6000, 2000, 2000, 100)\n",
    "t = vo.VPPEnergyStorage(0,10000, 1000, 1000, 0.1, 0.1, 10, 10, 0)\n",
    "s = vo.VPPSolarPanel(2000, 1000, 1000, 1, T, seed=seed)\n",
    "\n",
    "\n",
    "_ = cp.sensitivity([g1_1,g1_2, t, s], f, [(2000, 4000)], [(2000, 2000)], T, [l1, l2,l3,l5,l6, l7,l10], [np.zeros(T)])"
   ]
  },
  {
   "cell_type": "markdown",
   "metadata": {},
   "source": [
    "**2.2 Teszt:**<br>\n",
    "Most a másik motor legyen drágább."
   ]
  },
  {
   "cell_type": "code",
   "execution_count": null,
   "metadata": {},
   "outputs": [],
   "source": [
    "def f(val, i):\n",
    "     return [vo.VPPGasEngine(4000, 2000, 2000, 100), vo.VPPGasEngine(6000, val[0]+val[1]*i, val[0]+val[1]*i, 10), vo.VPPEnergyStorage(0,10000, 1000, 1000, 0.1, 0.1, 10, 10, 0), vo.VPPSolarPanel(2000, 1000, 1000, 1, T, seed=seed)]\n",
    "g1_1 = vo.VPPGasEngine(4000, 2000, 2000, 100)\n",
    "g1_2 = vo.VPPGasEngine(6000, 2000, 2000, 10)\n",
    "t = vo.VPPEnergyStorage(0,10000, 1000, 1000, 0.1, 0.1, 10, 10, 0)\n",
    "s = vo.VPPSolarPanel(2000, 1000, 1000, 1, T, seed=seed)\n",
    "\n",
    "\n",
    "_ = cp.sensitivity([g1_1,g1_2, t, s], f, [(2000, 4000)], [(2000, 2000)], T, [l1, l2,l3,l5,l6, l7,l10], [np.zeros(T)])"
   ]
  },
  {
   "cell_type": "markdown",
   "metadata": {},
   "source": [
    "**Összefogalalás:**\n",
    "Itt is többnyire hasonló görbéket kapunk, mint a tárolók esetén, viszont még ívesebbeket, kevesebb \"hegye\" van a görbéknek. Ezen felül ebben az esetben a hibák hamarabb kisebb változtatások esetén is már kezdenek előjönni, viszont kisebbek, mint a többi esetén. Hasonló mondható el a költségekről is, hamarabb nőnek, viszont sokkal kevesebbet."
   ]
  },
  {
   "cell_type": "markdown",
   "metadata": {},
   "source": [
    "### Költség érzékenysége (Gázmotoroknál)"
   ]
  },
  {
   "cell_type": "markdown",
   "metadata": {},
   "source": [
    "#### Csak gázmotorok"
   ]
  },
  {
   "cell_type": "markdown",
   "metadata": {},
   "source": [
    "**1. Teszt:** <br>\n",
    "2-2 gázmotorral végezzük ezt a tesztet, és azok közül az egyik költségét változtatjuk.<br>\n",
    "**Eredmény:** Ahogy azt a grafikonokon is láthatjuk, a paraméter változtatására vagy szakaszonként, vagy teljesen lineáris változást tapasztalhatunk a költségfüggvényben."
   ]
  },
  {
   "cell_type": "code",
   "execution_count": null,
   "metadata": {},
   "outputs": [],
   "source": [
    "# ========= Ne módosítsd! ==========\n",
    "cp.globalcurrcat = 1\n",
    "# ============================\n",
    "def f(val, i):\n",
    "     return [vo.VPPGasEngine(1500, 1500, 1500, 50), vo.VPPGasEngine(1500, 1500, 1500, val[0]+i*val[1])]\n",
    "g1_1 = vo.VPPGasEngine(1500, 1500, 1500, 50)\n",
    "g1_2 = vo.VPPGasEngine(1500, 1500, 1500, 50)\n",
    "\n",
    "\n",
    "_ = cp.sensitivity([g1_1,g1_2], f, [(50, 50)], [(50, 50)], T, [l1, l2, l3, l7], [np.zeros(T)])"
   ]
  },
  {
   "cell_type": "markdown",
   "metadata": {},
   "source": [
    "**1.1 Teszt:**<br>\n",
    "Vizsgáljuk meg azt az esetet, amikor a változtatott költségű gázmotor fel- és lefutási értékeit megfelezzük.<br>\n",
    "**Eredmény:** Sok különbség az elöző esethez képest nincsen a költségeket tekintve, viszont itt már a termelésben észlelhetünk különbségeket, de többnyire konstans hibákkal. Ezen felül a 3. teszteset itt már nem teljesíthető."
   ]
  },
  {
   "cell_type": "code",
   "execution_count": null,
   "metadata": {},
   "outputs": [],
   "source": [
    "def f(val, i):\n",
    "     return [vo.VPPGasEngine(1500, 1500, 1500, 50), vo.VPPGasEngine(1500, 1500, 1500, val[0]+i*val[1])]\n",
    "g1_1 = vo.VPPGasEngine(1500, 1500, 1500, 50)\n",
    "g1_2 = vo.VPPGasEngine(1500, 750, 750, 50)\n",
    "\n",
    "\n",
    "_ = cp.sensitivity([g1_1,g1_2], f, [(50, 50)], [(50, 50)], T, [l1, l2, l3, l7], [np.zeros(T)])"
   ]
  },
  {
   "cell_type": "markdown",
   "metadata": {},
   "source": [
    "**2. Teszt:**<br>\n",
    "Most növeljük meg a gázmotorok maximális termelését és vele együtt a fel- és lefutási ráták értékeit.<br>\n",
    "**Eredmény:** sok különbség ez esetben sincs az eddigi ereményekhez képest. Egyedül az hozható fel, hogy ez több esetet képes teljesíteni."
   ]
  },
  {
   "cell_type": "code",
   "execution_count": null,
   "metadata": {},
   "outputs": [],
   "source": [
    "def f(val, i):\n",
    "     return [vo.VPPGasEngine(6000, 3000, 3000, 500), vo.VPPGasEngine(4000, 2000, 2000, val[0]+i*val[1])]\n",
    "g1_1 = vo.VPPGasEngine(6000, 3000, 3000, 500)\n",
    "g1_2 = vo.VPPGasEngine(4000, 2000, 2000, 500)\n",
    "\n",
    "\n",
    "_ = cp.sensitivity([g1_1,g1_2], f, [(500, 500)], [(500, 500)], T, [l1, l2, l3, l5, l6, l7, l10], [np.zeros(T)])"
   ]
  },
  {
   "cell_type": "markdown",
   "metadata": {},
   "source": [
    "#### Gázmotorok + tároló "
   ]
  },
  {
   "cell_type": "markdown",
   "metadata": {},
   "source": [
    "**1. Teszt:** <br>\n",
    "A teszt során 2 gázmotor és egy energia tároló segítségével oldjuk meg a feladatokat. <br>\n",
    "**Eredmények:** Az elöző szekció 1 tesztjéhez hasonlítva itt jelentős eltérések vehetők észre. Ilyen például a 2. teszt esetén 50-55% közötti érdekes ugrás a termelések hibájában, melyet a következő teszt során mélyebben megvizsgálok. Összességében viszont az mondható el, hogy olcsóbbban termeli meg a modell a szükséges áramot. "
   ]
  },
  {
   "cell_type": "code",
   "execution_count": null,
   "metadata": {},
   "outputs": [],
   "source": [
    "def f(val, i):\n",
    "     return [vo.VPPGasEngine(1500, 1500, 1500, 50), vo.VPPGasEngine(1500, 1500, 1500, val[0]+i*val[1]), vo.VPPEnergyStorage(0, 10000, 1000, 1000, 0.1, 0.1, 10, 10, 0)]\n",
    "g1_1 = vo.VPPGasEngine(1500, 1500, 1500, 50)\n",
    "g1_2 = vo.VPPGasEngine(1500, 1500, 1500, 50)\n",
    "s = vo.VPPEnergyStorage(0, 10000, 1000, 1000, 0.1, 0.1, 10, 10, 0)\n",
    "\n",
    "_ = cp.sensitivity([g1_1, g1_2, s], f, [(50, 50)], [(50, 50)], T, [l1, l2, l3, l7], [np.zeros(T)])"
   ]
  },
  {
   "cell_type": "markdown",
   "metadata": {},
   "source": [
    "**1.1 Teszt:**<br>\n",
    "Ezen teszt során egy megadott intervallumon változtatva a költség paraméterét részletesen, részvevőkre lebontva elemezem a termelést.<br>\n",
    "**Eredmények:** Megvizsgálva a termelési görbéket szépen látszik, ahogy a költséget változtatjuk azok miként alakulnak. Ezen az intervallumon 3 ponton történik változás, melyek rendre 17 és 18 között, 20 és 21 között, valamint 22 és 23 között. Ha összevetjük az elöző teszt 2. esetével jól látszik, ahogyan a költség függvény változik ott mi történik a termelésben\n"
   ]
  },
  {
   "cell_type": "code",
   "execution_count": null,
   "metadata": {},
   "outputs": [],
   "source": [
    "def f(val):\n",
    "     return [vo.VPPGasEngine(1500, 1500, 1500, 50), vo.VPPGasEngine(1500, 1500, 1500, val), vo.VPPEnergyStorage(0, 10000, 1000, 1000, 0.1, 0.1, 10, 10, 0)]\n",
    "cp.sensitivity_by_participants(f, 50-50*0.7, 24, 10, l2, d, T)"
   ]
  },
  {
   "cell_type": "markdown",
   "metadata": {},
   "source": [
    "**1.2 Teszt:**<br>\n",
    "Másik intervallumra is megnézve.<br>\n",
    "**Eredmények:** Itt csak 1 töréspont vehető észre."
   ]
  },
  {
   "cell_type": "code",
   "execution_count": null,
   "metadata": {},
   "outputs": [],
   "source": [
    "def f(val):\n",
    "     return [vo.VPPGasEngine(1500, 1500, 1500, 50), vo.VPPGasEngine(1500, 1500, 1500, val), vo.VPPEnergyStorage(0, 10000, 1000, 1000, 0.1, 0.1, 10, 10, 0)]\n",
    "cp.sensitivity_by_participants(f, 50+50*0.6,50+50*0.7, 10, l2, d, T)"
   ]
  },
  {
   "cell_type": "markdown",
   "metadata": {},
   "source": [
    "**1.3 Teszt:**<br>\n",
    "Nézzük meg másik fogyasztási görbére is.<br>\n",
    "**Eredmények:** Itt is csak 1 ilyen pont található."
   ]
  },
  {
   "cell_type": "code",
   "execution_count": null,
   "metadata": {},
   "outputs": [],
   "source": [
    "def f(val):\n",
    "     return [vo.VPPGasEngine(1500, 1500, 1500, 50), vo.VPPGasEngine(1500, 1500, 1500, val), vo.VPPEnergyStorage(0, 10000, 1000, 1000, 0.1, 0.1, 10, 10, 0)]\n",
    "cp.sensitivity_by_participants(f, 50+50*0.65,50+50*0.75, 10, l3, d, T, (30,150))"
   ]
  },
  {
   "cell_type": "markdown",
   "metadata": {},
   "source": [
    "**2. Teszt:**<br>\n",
    "Vizsgáljuk meg azt az esetet, amikor a változtatott költségű gázmotor fel- és lefutási értékeit megfelezzük<br>\n",
    "**Eredmények:** A sima gázmotoros esethez képest sokkal érdekesebb eredményeket kaptunk. Sok esetben nőttek azon pontok száma, ami után a modell termelési stratégiát vált. Következő tesztek ezek részletesebb vizsgálatáról fognak szólni."
   ]
  },
  {
   "cell_type": "code",
   "execution_count": null,
   "metadata": {},
   "outputs": [],
   "source": [
    "def f(val, i):\n",
    "     return [vo.VPPGasEngine(1500, 1500, 1500, 50), vo.VPPGasEngine(1500, 750, 750, val[0]+i*val[1]), vo.VPPEnergyStorage(0, 10000, 1000, 1000, 0.1, 0.1, 10, 10, 0)]\n",
    "g1_1 = vo.VPPGasEngine(1500, 1500, 1500, 50)\n",
    "g1_2 = vo.VPPGasEngine(1500, 750, 750, 50)\n",
    "s = vo.VPPEnergyStorage(0, 10000, 1000, 1000, 0.1, 0.1, 10, 10, 0)\n",
    "\n",
    "_ = cp.sensitivity([g1_1, g1_2, s], f, [(50, 50)], [(50, 50)], T, [l1, l2, l3, l7], [np.zeros(T)])"
   ]
  },
  {
   "cell_type": "markdown",
   "metadata": {},
   "source": [
    "**2.1 Teszt:**<br>\n",
    "Elöző teszt 1. vizsgálatának részletesebb megtekintése.<br>\n",
    "**Eredmények:** Szépen látszik a grafikonon, hogy egy idő után már érdemes bekapcsolni az 1-es gázmotort, mert úgy olcsóbb a termelés."
   ]
  },
  {
   "cell_type": "code",
   "execution_count": null,
   "metadata": {},
   "outputs": [],
   "source": [
    "def f(val):\n",
    "     return [vo.VPPGasEngine(1500, 1500, 1500, 50), vo.VPPGasEngine(1500, 750, 750, val), vo.VPPEnergyStorage(0, 10000, 1000, 1000, 0.1, 0.1, 10, 10, 0)]\n",
    "cp.sensitivity_by_participants(f, 50-50*0.45,50-50*0.5, 10, l1, d, T, (30,40), addcontour=False)"
   ]
  },
  {
   "cell_type": "markdown",
   "metadata": {},
   "source": [
    "**2.2 Teszt:**<br>\n",
    "Ezöző teszt 2. vizsgálatának részletesebb megtekintése.<br>\n",
    "**Eredmények:** It is szépen látszik a grafikonokon, hogy hol változnak az értékek itt is a változások száma megegyezik a grafikonon láthatóéval."
   ]
  },
  {
   "cell_type": "code",
   "execution_count": null,
   "metadata": {},
   "outputs": [],
   "source": [
    "def f(val):\n",
    "     return [vo.VPPGasEngine(1500, 1500, 1500, 50), vo.VPPGasEngine(1500, 750, 750, val), vo.VPPEnergyStorage(0, 10000, 1000, 1000, 0.1, 0.1, 10, 10, 0)]\n",
    "cp.sensitivity_by_participants(f, 50-50*0.55,50-50*0.25, 10, l2, d, T, (30,40), addcontour=False)"
   ]
  },
  {
   "cell_type": "markdown",
   "metadata": {},
   "source": [
    "**3. Teszt:**<br>\n",
    "Növeljük meg a termelési képességüket a gázmotoroknak.<br>\n",
    "**Eredmények:** Az eredményekben nincs semmi érdekes. A hibák konstansok, a költség lineárisan csökken/nő."
   ]
  },
  {
   "cell_type": "code",
   "execution_count": null,
   "metadata": {},
   "outputs": [],
   "source": [
    "def f(val, i):\n",
    "     return [vo.VPPGasEngine(6000, 3000, 3000, 500), vo.VPPGasEngine(4000, 2000, 2000, val[0]+i*val[1]),vo.VPPEnergyStorage(0, 10000, 2000, 2000, 0.1, 0.1, 10, 10, 0)]\n",
    "g1_1 = vo.VPPGasEngine(6000, 3000, 3000, 500)\n",
    "g1_2 = vo.VPPGasEngine(4000, 2000, 2000, 500)\n",
    "s = vo.VPPEnergyStorage(0, 10000, 2000, 2000, 0.1, 0.1, 10, 10, 0)\n",
    "\n",
    "_ = cp.sensitivity([g1_1,g1_2,s], f, [(500, 500)], [(500, 500)], T, [l1, l2, l3, l5, l6, l7, l10], [np.zeros(T)])"
   ]
  },
  {
   "cell_type": "markdown",
   "metadata": {},
   "source": [
    "#### Gázmotorok + napelem"
   ]
  },
  {
   "cell_type": "markdown",
   "metadata": {},
   "source": [
    "**1. Teszt:**<br>\n",
    "Ezen tesztek során 2 gázmotor és egy napelem lesz a részvevőnk.<br>\n",
    "**Eredmények:** A grafikonokon 1 érdekes jelenség van csak. A csökkentés esetén az utolcsó -100%-ra a hiba megugrik."
   ]
  },
  {
   "cell_type": "code",
   "execution_count": null,
   "metadata": {},
   "outputs": [],
   "source": [
    "def f(val, i):\n",
    "     return [vo.VPPGasEngine(1500, 1500, 1500, 50), vo.VPPGasEngine(1500, 1500, 1500, val[0]+val[1]*i),vo.VPPSolarPanel(1000, 500, 500, 1, T, seed=seed)]\n",
    "g1_1 = vo.VPPGasEngine(1500, 1500, 1500, 50)\n",
    "g1_2 = vo.VPPGasEngine(1500, 1500, 1500, 50)\n",
    "s = vo.VPPSolarPanel(1000, 500, 500, 1, T, seed=seed)\n",
    "\n",
    "_ = cp.sensitivity([g1_1,g1_2, s], f, [(50, 50)], [(50, 50)], T, [l1, l2, l3, l7], [np.zeros(T)])"
   ]
  },
  {
   "cell_type": "markdown",
   "metadata": {},
   "source": [
    "**1.1 Teszt:**<br>\n",
    "Most az elöző teszt esetén említett felugrást vizsgálom.<br>\n",
    "**Eredmények:** Mivel addigra a gázmotor költsége 0 lesz, így inkább kitermeli ingyen az energiát, minthogy a napelemét használja 1 költségért."
   ]
  },
  {
   "cell_type": "code",
   "execution_count": null,
   "metadata": {},
   "outputs": [],
   "source": [
    "def f(val):\n",
    "     return [vo.VPPGasEngine(1500, 1500, 1500, 50), vo.VPPGasEngine(1500, 1500, 1500, val), vo.VPPSolarPanel(1000, 500, 500, 1, T, seed=seed)]\n",
    "cp.sensitivity_by_participants(f, 0,50-50*0.95, 2, l1, d, T)"
   ]
  },
  {
   "cell_type": "markdown",
   "metadata": {},
   "source": [
    "**2. Teszt:**<br>\n",
    "Módosítsuk most a változtatott gázmotor fel- és lefutási értékeit a felére.<br>\n",
    "**Eredmények:** Hasonló eseteket tapasztalhatunk mintha csak gázmotorok lennének a teszben. Viszont a termelési hibák amikor változnak akkor azt kisebb mértékben teszik."
   ]
  },
  {
   "cell_type": "code",
   "execution_count": null,
   "metadata": {},
   "outputs": [],
   "source": [
    "def f(val, i):\n",
    "     return [vo.VPPGasEngine(1500, 1500, 1500, 50), vo.VPPGasEngine(1500, 750, 750, val[0]+val[1]*i),vo.VPPSolarPanel(1000, 500, 500, 1, T, seed=seed)]\n",
    "g1_1 = vo.VPPGasEngine(1500, 1500, 1500, 50)\n",
    "g1_2 = vo.VPPGasEngine(1500, 750, 750, 50)\n",
    "s = vo.VPPSolarPanel(1000, 500, 500, 1, T, seed=seed)\n",
    "\n",
    "_ = cp.sensitivity([g1_1,g1_2, s], f, [(50, 50)], [(50, 50)], T, [l1, l2, l3, l7], [np.zeros(T)])"
   ]
  },
  {
   "cell_type": "markdown",
   "metadata": {},
   "source": [
    "**3. Teszt:**<br>\n",
    "Növeljük meg a termelési képességüket a gázmotoroknak.<br>\n",
    "**Eredmények:** Nincs semmi érdekes sajnos. Ugyan azt kaptuk, mint az eredeti gázmotorosnál, csak itt vannak hibák is és olcsóbb a termelés a napelem miatt."
   ]
  },
  {
   "cell_type": "code",
   "execution_count": null,
   "metadata": {},
   "outputs": [],
   "source": [
    "def f(val, i):\n",
    "     return [vo.VPPGasEngine(6000, 3000, 3000, 50), vo.VPPGasEngine(4000, 2000, 2000, val[0]+val[1]*i),vo.VPPSolarPanel(3000, 1500, 1500, 1, T, seed=seed)]\n",
    "g1_1 = vo.VPPGasEngine(6000, 3000, 3000, 50)\n",
    "g1_2 = vo.VPPGasEngine(4000, 2000, 2000, 50)\n",
    "s = vo.VPPSolarPanel(3000, 1500, 1500, 1, T, seed=seed)\n",
    "\n",
    "_ = cp.sensitivity([g1_1,g1_2, s], f, [(50, 50)], [(50, 50)], T, [l1, l2, l3, l7], [np.zeros(T)])"
   ]
  },
  {
   "cell_type": "markdown",
   "metadata": {},
   "source": [
    "#### Gázmotorok + napelem + enegia tároló"
   ]
  },
  {
   "cell_type": "markdown",
   "metadata": {},
   "source": [
    "**1. Teszt:**<br>\n",
    "A tesztek során 2 gázmotort, 1 tárolót és 1 napelemet alkalmazok.<br>\n",
    "**Eredmények:** Az első tesztnél már látható, hogy a termelésnél a hiba eléggé hullámos, amit a következő tesztekben jobban meg is vizsgálok."
   ]
  },
  {
   "cell_type": "code",
   "execution_count": null,
   "metadata": {},
   "outputs": [],
   "source": [
    "def f(val, i):\n",
    "     return [vo.VPPGasEngine(1500, 1500, 1500, 50), vo.VPPGasEngine(1500, 1500, 1500, val[0]+val[1]*i),vo.VPPSolarPanel(1000, 500, 500, 1, T, seed=seed),vo.VPPEnergyStorage(0, 10000, 1000, 1000, 0.1, 0.1, 10, 10, 0)]\n",
    "g1_1 = vo.VPPGasEngine(1500, 1500, 1500, 50)\n",
    "g1_2 = vo.VPPGasEngine(1500, 1500, 1500, 50)\n",
    "st = vo.VPPEnergyStorage(0, 10000, 1000, 1000, 0.1, 0.1, 10, 10, 0)\n",
    "so = vo.VPPSolarPanel(1000, 500, 500, 1, T, seed=seed)\n",
    "\n",
    "_ = cp.sensitivity([g1_1,g1_2, so, st], f, [(50, 50)], [(50, 50)], T, [l1, l2, l3, l7], [np.zeros(T)])"
   ]
  },
  {
   "cell_type": "markdown",
   "metadata": {},
   "source": [
    "**1.1 Teszt:**<br>\n",
    "Az elöző teszteset első vizsgálatának részletesebb tárgyalása.<br>"
   ]
  },
  {
   "cell_type": "code",
   "execution_count": null,
   "metadata": {},
   "outputs": [],
   "source": [
    "def f(val):\n",
    "     return [vo.VPPGasEngine(1500, 1500, 1500, 50), vo.VPPGasEngine(1500, 1500, 1500, val), vo.VPPSolarPanel(1000, 500, 500, 1, T, seed=seed),vo.VPPEnergyStorage(0, 10000, 1000, 1000, 0.1, 0.1, 10, 10, 0)]\n",
    "cp.sensitivity_by_participants(f, 50-50*0.8,50-50*0.4, 4, l1, d, T)"
   ]
  },
  {
   "cell_type": "markdown",
   "metadata": {},
   "source": [
    "**2. Teszt:**<br>\n",
    "Módosítsuk a változtatott gázmotor fel- és lefutási rátáját a felére."
   ]
  },
  {
   "cell_type": "code",
   "execution_count": null,
   "metadata": {},
   "outputs": [],
   "source": [
    "def f(val, i):\n",
    "     return [vo.VPPGasEngine(1500, 1500, 1500, 50), vo.VPPGasEngine(1500, 750, 750, val[0]+val[1]*i),vo.VPPSolarPanel(1000, 500, 500, 1, T, seed=seed),vo.VPPEnergyStorage(0, 10000, 1000, 1000, 0.1, 0.1, 10, 10, 0)]\n",
    "g1_1 = vo.VPPGasEngine(1500, 1500, 1500, 50)\n",
    "g1_2 = vo.VPPGasEngine(1500, 750, 750, 50)\n",
    "st = vo.VPPEnergyStorage(0, 10000, 1000, 1000, 0.1, 0.1, 10, 10, 0)\n",
    "so = vo.VPPSolarPanel(1000, 500, 500, 1, T, seed=seed)\n",
    "\n",
    "_ = cp.sensitivity([g1_1,g1_2, so, st], f, [(50, 50)], [(50, 50)], T, [l1, l2, l3, l7], [np.zeros(T)])"
   ]
  },
  {
   "cell_type": "markdown",
   "metadata": {},
   "source": [
    "**2.1 Teszt:**<br>\n",
    "Vizsgáljuk meg a 3. esetet az elöző tesztből."
   ]
  },
  {
   "cell_type": "code",
   "execution_count": null,
   "metadata": {},
   "outputs": [],
   "source": [
    "def f(val):\n",
    "     return [vo.VPPGasEngine(1500, 1500, 1500, 50), vo.VPPGasEngine(1500, 750, 750, val), vo.VPPSolarPanel(1000, 500, 500, 1, T, seed=seed),vo.VPPEnergyStorage(0, 10000, 1000, 1000, 0.1, 0.1, 10, 10, 0)]\n",
    "cp.sensitivity_by_participants(f, 50-50*0.55,50-50*0.25, 4, l3, d, T)"
   ]
  },
  {
   "cell_type": "markdown",
   "metadata": {},
   "source": [
    "**3. Teszt:**<br>\n",
    "Növeljük meg a gázmotorok termelését."
   ]
  },
  {
   "cell_type": "code",
   "execution_count": null,
   "metadata": {},
   "outputs": [],
   "source": [
    "def f(val, i):\n",
    "     return [vo.VPPGasEngine(6000, 3000, 3000, 50), vo.VPPGasEngine(4000, 2000, 2000, val[0]+val[1]*i),vo.VPPSolarPanel(3000, 1500, 1500, 1, T, seed=seed),vo.VPPEnergyStorage(0, 10000, 3000, 3000, 0.1, 0.1, 10, 10, 0)]\n",
    "g1_1 = vo.VPPGasEngine(6000, 3000, 3000, 50)\n",
    "g1_2 = vo.VPPGasEngine(4000, 2000, 2000, 50)\n",
    "st = vo.VPPEnergyStorage(0, 10000, 3000, 3000, 0.1, 0.1, 10, 10, 0)\n",
    "so = vo.VPPSolarPanel(3000, 1500, 1500, 1, T, seed=seed)\n",
    "\n",
    "_ = cp.sensitivity([g1_1,g1_2, so, st], f, [(50, 50)], [(50, 50)], T, [l1, l2, l3, l4, l5, l6, l7, l10], [np.zeros(T)])"
   ]
  },
  {
   "cell_type": "markdown",
   "metadata": {},
   "source": [
    "**3.1 Teszt:**<br>\n",
    "Vizsgáljuk meg a 2. esetet az elöző tesztből."
   ]
  },
  {
   "cell_type": "code",
   "execution_count": null,
   "metadata": {},
   "outputs": [],
   "source": [
    "def f(val):\n",
    "     return [vo.VPPGasEngine(6000, 3000, 3000, 50), vo.VPPGasEngine(4000, 2000, 2000, val), vo.VPPSolarPanel(3000, 1500, 1500, 1, T, seed=seed),vo.VPPEnergyStorage(0, 10000, 3000, 3000, 0.1, 0.1, 10, 10, 0)]\n",
    "cp.sensitivity_by_participants(f, 50,50+50*0.05, 3, l2, d, T)"
   ]
  },
  {
   "cell_type": "markdown",
   "metadata": {},
   "source": [
    "### Max termlés érzékenysége (Gázmotoroknál)"
   ]
  },
  {
   "cell_type": "markdown",
   "metadata": {},
   "source": [
    "#### Csak gázmotorok"
   ]
  },
  {
   "cell_type": "markdown",
   "metadata": {},
   "source": [
    "**1. Teszt:**"
   ]
  },
  {
   "cell_type": "code",
   "execution_count": null,
   "metadata": {},
   "outputs": [],
   "source": [
    "cp.globalcurrcat = 2\n",
    "def f(val, i):\n",
    "     return [vo.VPPGasEngine(1500, 1500, 1500, 10), vo.VPPGasEngine(val[0]+val[1]*i, 1500, 1500, 10)]\n",
    "g1_1 = vo.VPPGasEngine(1500, 1500, 1500, 10)\n",
    "g1_2 = vo.VPPGasEngine(1500, 1500, 1500, 10)\n",
    "\n",
    "\n",
    "_ = cp.sensitivity([g1_1,g1_2], f, [(1500, 1500)], [(1500, 1500)], T, [l1, l2, l3, l7], [np.zeros(T)])"
   ]
  },
  {
   "cell_type": "markdown",
   "metadata": {},
   "source": [
    "**1.1 Teszt:**<br>\n",
    "Elöző teszt 2 eset pozitív irányának vizsgálata."
   ]
  },
  {
   "cell_type": "code",
   "execution_count": null,
   "metadata": {},
   "outputs": [],
   "source": [
    "def f(val):\n",
    "     return [vo.VPPGasEngine(1500, 1500, 1500, 10), vo.VPPGasEngine(val, 1500, 1500, 10)]\n",
    "cp.sensitivity_by_participants(f, 1500,1500+1500*0.05, 2, l2, d, T, addcontour=False)"
   ]
  },
  {
   "cell_type": "markdown",
   "metadata": {},
   "source": [
    "**2. Teszt:**"
   ]
  },
  {
   "cell_type": "code",
   "execution_count": null,
   "metadata": {},
   "outputs": [],
   "source": [
    "def f(val, i):\n",
    "     return [vo.VPPGasEngine(1500, 1500, 1500, 100), vo.VPPGasEngine(val[0]+val[1]*i, 3000, 3000, 10)]\n",
    "g1_1 = vo.VPPGasEngine(1500, 1500, 1500, 100)\n",
    "g1_2 = vo.VPPGasEngine(1500, 3000, 3000, 10)\n",
    "\n",
    "\n",
    "_ = cp.sensitivity([g1_1,g1_2], f, [(1500, 7000)], [(1500, 1500)], T, [l1, l2, l3,l7], [np.zeros(T)])"
   ]
  },
  {
   "cell_type": "markdown",
   "metadata": {},
   "source": [
    "**2.1 Teszt:**<br>\n",
    "Elöző teszt 1 esete csökkentésnél."
   ]
  },
  {
   "cell_type": "code",
   "execution_count": null,
   "metadata": {},
   "outputs": [],
   "source": [
    "def f(val):\n",
    "     return [vo.VPPGasEngine(1500, 1500, 1500, 100), vo.VPPGasEngine(val, 3000, 3000, 10)]\n",
    "cp.sensitivity_by_participants(f, 0, 1500-1500*0.35, 10, l1, d, T)"
   ]
  },
  {
   "cell_type": "markdown",
   "metadata": {},
   "source": [
    "**2.2 Teszt:**<br>\n",
    "Elöző teszt 2 esete növelésnél."
   ]
  },
  {
   "cell_type": "code",
   "execution_count": null,
   "metadata": {},
   "outputs": [],
   "source": [
    "def f(val):\n",
    "     return [vo.VPPGasEngine(1500, 1500, 1500, 100), vo.VPPGasEngine(val, 3000, 3000, 10)]\n",
    "cp.sensitivity_by_participants(f, 1500, 1500+7000*0.1, 10, l2, d, T)"
   ]
  },
  {
   "cell_type": "markdown",
   "metadata": {},
   "source": [
    "**2.3 Teszt:**<br>\n",
    "Elöző teszt 3 esete növelésnél."
   ]
  },
  {
   "cell_type": "code",
   "execution_count": null,
   "metadata": {},
   "outputs": [],
   "source": [
    "def f(val):\n",
    "     return [vo.VPPGasEngine(1500, 1500, 1500, 100), vo.VPPGasEngine(val, 3000, 3000, 10)]\n",
    "cp.sensitivity_by_participants(f, 1500, 1500+7000*0.2, 10, l3, d, T)"
   ]
  },
  {
   "cell_type": "markdown",
   "metadata": {},
   "source": [
    "#### Gázmotorok + tároló"
   ]
  },
  {
   "cell_type": "markdown",
   "metadata": {},
   "source": [
    "**1. Teszt:**"
   ]
  },
  {
   "cell_type": "code",
   "execution_count": null,
   "metadata": {},
   "outputs": [],
   "source": [
    "def f(val, i):\n",
    "     return [vo.VPPGasEngine(1500, 1500, 1500, 10), vo.VPPGasEngine(val[0]+val[1]*i, 1500, 1500, 10), vo.VPPEnergyStorage(0,10000, 1000, 1000 ,0.1, 0.1, 10, 10, 0)]\n",
    "g1_1 = vo.VPPGasEngine(1500, 1500, 1500, 10)\n",
    "g1_2 = vo.VPPGasEngine(1500, 1500, 1500, 10)\n",
    "s = vo.VPPEnergyStorage(0,10000, 1000, 1000 ,0.1, 0.1, 10, 10, 0)\n",
    "\n",
    "_ = cp.sensitivity([g1_1,g1_2,s], f, [(1500, 1500)], [(1500, 1500)], T, [l1, l2, l3, l7], [np.zeros(T)])"
   ]
  },
  {
   "cell_type": "markdown",
   "metadata": {},
   "source": [
    "**1.1 Teszt:**<br>\n",
    "Elöző teszt 1 eset negatív irány."
   ]
  },
  {
   "cell_type": "code",
   "execution_count": null,
   "metadata": {},
   "outputs": [],
   "source": [
    "def f(val):\n",
    "     return [vo.VPPGasEngine(1500, 1500, 1500, 10), vo.VPPGasEngine(val, 1500, 1500, 10), vo.VPPEnergyStorage(0,10000, 1000, 1000 ,0.1, 0.1, 10, 10, 0)]\n",
    "cp.sensitivity_by_participants(f, 1500-1500*0.7, 1500-1500*0.45, 10, l1, d, T)"
   ]
  },
  {
   "cell_type": "markdown",
   "metadata": {},
   "source": [
    "**1.2 Teszt:**<br>\n",
    "Elöző teszt 2 eset negatív irány."
   ]
  },
  {
   "cell_type": "code",
   "execution_count": null,
   "metadata": {},
   "outputs": [],
   "source": [
    "def f(val):\n",
    "     return [vo.VPPGasEngine(1500, 1500, 1500, 10), vo.VPPGasEngine(val, 1500, 1500, 10), vo.VPPEnergyStorage(0,10000, 1000, 1000 ,0.1, 0.1, 10, 10, 0)]\n",
    "cp.sensitivity_by_participants(f, 1500-1500*0.65, 1500-1500*0.45, 10, l2, d, T)"
   ]
  },
  {
   "cell_type": "markdown",
   "metadata": {},
   "source": [
    "**1.2.1 Teszt:**<br>\n",
    "Elöző teszt 2 eset negatív irány másik intervallumon."
   ]
  },
  {
   "cell_type": "code",
   "execution_count": null,
   "metadata": {},
   "outputs": [],
   "source": [
    "def f(val):\n",
    "     return [vo.VPPGasEngine(1500, 1500, 1500, 10), vo.VPPGasEngine(val, 1500, 1500, 10), vo.VPPEnergyStorage(0,10000, 1000, 1000 ,0.1, 0.1, 10, 10, 0)]\n",
    "cp.sensitivity_by_participants(f, 1500-1500*0.85, 1500-1500*0.65, 10, l2, d, T)"
   ]
  },
  {
   "cell_type": "markdown",
   "metadata": {},
   "source": [
    "**2. Teszt:**"
   ]
  },
  {
   "cell_type": "code",
   "execution_count": null,
   "metadata": {},
   "outputs": [],
   "source": [
    "def f(val, i):\n",
    "     return [vo.VPPGasEngine(1500, 1500, 1500, 100), vo.VPPGasEngine(val[0]+val[1]*i, 3000, 3000, 10), vo.VPPEnergyStorage(0,10000, 1000, 1000 ,0.1, 0.1, 10, 10, 0)]\n",
    "g1_1 = vo.VPPGasEngine(1500, 1500, 1500, 100)\n",
    "g1_2 = vo.VPPGasEngine(1500, 3000, 3000, 10)\n",
    "s = vo.VPPEnergyStorage(0,10000, 3000, 3000 ,0.1, 0.1, 10, 10, 0)\n",
    "\n",
    "_ = cp.sensitivity([g1_1,g1_2,s], f, [(1500, 7000)], [(1500, 1500)], T, [l1, l2, l3,l7], [np.zeros(T)])"
   ]
  },
  {
   "cell_type": "markdown",
   "metadata": {},
   "source": [
    "#### Gázmotorok + napelem"
   ]
  },
  {
   "cell_type": "markdown",
   "metadata": {},
   "source": [
    "**1. Teszt:**"
   ]
  },
  {
   "cell_type": "code",
   "execution_count": null,
   "metadata": {},
   "outputs": [],
   "source": [
    "def f(val, i):\n",
    "     return [vo.VPPGasEngine(1500, 1500, 1500, 10), vo.VPPGasEngine(val[0]+val[1]*i, 1500, 1500, 10), vo.VPPSolarPanel(1000, 500, 500, 1, T, seed=seed)]\n",
    "g1_1 = vo.VPPGasEngine(1500, 1500, 1500, 10)\n",
    "g1_2 = vo.VPPGasEngine(1500, 1500, 1500, 10)\n",
    "so = vo.VPPSolarPanel(1000, 500, 500, 1, T, seed=seed)\n",
    "\n",
    "_ = cp.sensitivity([g1_1,g1_2,so], f, [(1500, 1500)], [(1500, 1500)], T, [l1, l2, l3, l7], [np.zeros(T)])"
   ]
  },
  {
   "cell_type": "markdown",
   "metadata": {},
   "source": [
    "**1.1. Teszt:**<br>\n",
    "Elöző teszt 1 estének negatív oldala."
   ]
  },
  {
   "cell_type": "code",
   "execution_count": null,
   "metadata": {},
   "outputs": [],
   "source": [
    "def f(val):\n",
    "     return [vo.VPPGasEngine(1500, 1500, 1500, 10), vo.VPPGasEngine(val, 1500, 1500, 10), vo.VPPSolarPanel(1000, 500, 500, 1, T, seed=seed)]\n",
    "cp.sensitivity_by_participants(f, 1500-1500*0.4, 1500-1500*0.3, 3, l1, d, T)"
   ]
  },
  {
   "cell_type": "markdown",
   "metadata": {},
   "source": [
    "**2. Teszt:**"
   ]
  },
  {
   "cell_type": "code",
   "execution_count": null,
   "metadata": {},
   "outputs": [],
   "source": [
    "def f(val, i):\n",
    "     return [vo.VPPGasEngine(1500, 1500, 1500, 100), vo.VPPGasEngine(val[0]+val[1]*i, 3000, 3000, 10), vo.VPPSolarPanel(1000, 500, 500, 1, T, seed=seed)]\n",
    "g1_1 = vo.VPPGasEngine(1500, 1500, 1500, 100)\n",
    "g1_2 = vo.VPPGasEngine(1500, 3000, 3000, 10)\n",
    "so = vo.VPPSolarPanel(1000, 500, 500, 1, T, seed=seed)\n",
    "\n",
    "_ = cp.sensitivity([g1_1,g1_2,s], f, [(1500, 7000)], [(1500, 1500)], T, [l1, l2, l3,l7], [np.zeros(T)])"
   ]
  },
  {
   "cell_type": "markdown",
   "metadata": {},
   "source": [
    "#### Gázmotorok + tároló + napelem"
   ]
  },
  {
   "cell_type": "markdown",
   "metadata": {},
   "source": [
    "**1. Teszt:**"
   ]
  },
  {
   "cell_type": "code",
   "execution_count": null,
   "metadata": {},
   "outputs": [],
   "source": [
    "def f(val, i):\n",
    "     return [vo.VPPGasEngine(1500, 1500, 1500, 10), vo.VPPGasEngine(val[0]+val[1]*i, 1500, 1500, 10), vo.VPPEnergyStorage(0, 10000, 1000, 1000, 0.1, 0.1, 10, 10, 0),vo.VPPSolarPanel(1000, 500, 500, 1, T, seed=seed)]\n",
    "g1_1 = vo.VPPGasEngine(1500, 1500, 1500, 10)\n",
    "g1_2 = vo.VPPGasEngine(1500, 1500, 1500, 10)\n",
    "st = vo.VPPEnergyStorage(0, 10000, 1000, 1000, 0.1, 0.1, 10, 10, 0)\n",
    "so = vo.VPPSolarPanel(1000, 500, 500, 1, T, seed=seed)\n",
    "\n",
    "_ = cp.sensitivity([g1_1,g1_2,st, so], f, [(1500, 1500)], [(1500, 1500)], T, [l1, l2, l3, l7], [np.zeros(T)])"
   ]
  },
  {
   "cell_type": "markdown",
   "metadata": {},
   "source": [
    "**2. Teszt:**"
   ]
  },
  {
   "cell_type": "code",
   "execution_count": null,
   "metadata": {},
   "outputs": [],
   "source": [
    "def f(val, i):\n",
    "     return [vo.VPPGasEngine(1500, 1500, 1500, 100), vo.VPPGasEngine(val[0]+val[1]*i, 3000, 3000, 10),vo.VPPEnergyStorage(0, 10000, 1000, 1000, 0.1, 0.1, 10, 10, 0),vo.VPPSolarPanel(1000, 500, 500, 1, T, seed=seed)]\n",
    "g1_1 = vo.VPPGasEngine(1500, 1500, 1500, 100)\n",
    "g1_2 = vo.VPPGasEngine(1500, 3000, 3000, 10)\n",
    "st = vo.VPPEnergyStorage(0, 10000, 1000, 1000, 0.1, 0.1, 10, 10, 0)\n",
    "so = vo.VPPSolarPanel(1000, 500, 500, 1, T, seed=seed)\n",
    "\n",
    "_ = cp.sensitivity([g1_1,g1_2,st, so], f, [(1500, 7000)], [(1500, 1500)], T, [l1, l2, l3,l7], [np.zeros(T)])"
   ]
  },
  {
   "cell_type": "markdown",
   "metadata": {},
   "source": [
    "### Veszteségi faktor érzékenysége (Tárolók)"
   ]
  },
  {
   "cell_type": "markdown",
   "metadata": {},
   "source": [
    "**1. Teszt:**"
   ]
  },
  {
   "cell_type": "code",
   "execution_count": null,
   "metadata": {},
   "outputs": [],
   "source": [
    "cp.globalcurrcat = 3\n",
    "def f(val, i):\n",
    "     return [vo.VPPGasEngine(1500, 750, 750, 10), vo.VPPGasEngine(1500, 1500, 1500, 10), vo.VPPEnergyStorage(0, 10000, 1000, 1000, val[0] + val[1]*i, val[0] + val[1]*i, 10, 10, 0)]\n",
    "g1_1 = vo.VPPGasEngine(1500, 750, 750, 10)\n",
    "g1_2 = vo.VPPGasEngine(1500, 1500, 1500, 10)\n",
    "st = vo.VPPEnergyStorage(0, 10000, 1000, 1000, 0.1, 0.1, 10, 10, 0)\n",
    "\n",
    "_ = cp.sensitivity([g1_1,g1_2,st], f, [(.1, .899)], [(.1, .099)], T, [l1, l2, l3, l7], [np.zeros(T)])"
   ]
  },
  {
   "cell_type": "markdown",
   "metadata": {},
   "source": [
    "**1.1 Teszt:**<br>\n",
    "Elöző teszt 3. esetének részletesebb vizsgálata."
   ]
  },
  {
   "cell_type": "code",
   "execution_count": null,
   "metadata": {},
   "outputs": [],
   "source": [
    "def f(val):\n",
    "     return [vo.VPPGasEngine(1500, 750, 750, 10), vo.VPPGasEngine(1500, 1500, 1500, 10), vo.VPPEnergyStorage(0, 10000, 1000, 1000, val, val, 10, 10, 0)]\n",
    "cp.sensitivity_by_participants(f, 0.01, 0.5+0.499*1, 3, l3, d, T)"
   ]
  },
  {
   "cell_type": "markdown",
   "metadata": {},
   "source": [
    "**2. Teszt:**"
   ]
  },
  {
   "cell_type": "code",
   "execution_count": null,
   "metadata": {},
   "outputs": [],
   "source": [
    "def f(val, i):\n",
    "     return [vo.VPPGasEngine(1500, 750, 750, 1000), vo.VPPGasEngine(1500, 1500, 1500, 1000), vo.VPPEnergyStorage(0, 10000, 1000, 1000, val[0] + val[1]*i, val[0] + val[1]*i, 10, 10, 0)]\n",
    "g1_1 = vo.VPPGasEngine(1500, 750, 750, 1000)\n",
    "g1_2 = vo.VPPGasEngine(1500, 1500, 1500, 1000)\n",
    "st = vo.VPPEnergyStorage(0, 10000, 1000, 1000, 0.1, 0.1, 10, 10, 0)\n",
    "\n",
    "_ = cp.sensitivity([g1_1,g1_2,st], f, [(.1, .899)], [(.1, .099)], T, [l1, l2, l3, l7], [np.zeros(T)])"
   ]
  },
  {
   "cell_type": "markdown",
   "metadata": {},
   "source": [
    "**3. Teszt:**"
   ]
  },
  {
   "cell_type": "code",
   "execution_count": null,
   "metadata": {},
   "outputs": [],
   "source": [
    "def f(val, i):\n",
    "     return [vo.VPPGasEngine(1500, 750, 750, 1000), vo.VPPGasEngine(1500, 1500, 1500, 1000), vo.VPPEnergyStorage(0, 10000, 1000, 1000, val[0] + val[1]*i, val[0] + val[1]*i, 10, 10, 0), vo.VPPSolarPanel(1000, 500, 500, 1, T, seed=seed)]\n",
    "g1_1 = vo.VPPGasEngine(1500, 750, 750, 1000)\n",
    "g1_2 = vo.VPPGasEngine(1500, 1500, 1500, 1000)\n",
    "st = vo.VPPEnergyStorage(0, 10000, 1000, 1000, 0.1, 0.1, 10, 10, 0)\n",
    "so = vo.VPPSolarPanel(1000, 500, 500, 1, T, seed=seed)\n",
    "_ = cp.sensitivity([g1_1,g1_2,st, so], f, [(.1, .899)], [(.1, .099)], T, [l1, l2, l3, l7], [np.zeros(T)])"
   ]
  },
  {
   "cell_type": "markdown",
   "metadata": {},
   "source": [
    "**3.1 teszt:**"
   ]
  },
  {
   "cell_type": "code",
   "execution_count": null,
   "metadata": {},
   "outputs": [],
   "source": [
    "def f(val):\n",
    "     return [vo.VPPGasEngine(1500, 750, 750, 1000), vo.VPPGasEngine(1500, 1500, 1500, 1000), vo.VPPEnergyStorage(0, 10000, 1000, 1000, val, val, 10, 10, 0), vo.VPPSolarPanel(1000, 500, 500, 1, T, seed=seed)]\n",
    "cp.sensitivity_by_participants(f, 0.01, 0.5+0.499*1, 3, l1, d, T)"
   ]
  },
  {
   "cell_type": "markdown",
   "metadata": {},
   "source": [
    "**3.2 teszt:**"
   ]
  },
  {
   "cell_type": "code",
   "execution_count": null,
   "metadata": {},
   "outputs": [],
   "source": [
    "def f(val, i):\n",
    "     return [vo.VPPGasEngine(1500, 750, 750, 1000), vo.VPPGasEngine(1500, 1500, 1500, 1000), vo.VPPEnergyStorage(0, 10000, 1000, 1000, val[0] + val[1]*i, val[0] + val[1]*i, 10, 10, 0), vo.VPPSolarPanel(3000, 1500, 1500, 1, T, seed=seed)]\n",
    "g1_1 = vo.VPPGasEngine(1500, 750, 750, 1000)\n",
    "g1_2 = vo.VPPGasEngine(1500, 1500, 1500, 1000)\n",
    "st = vo.VPPEnergyStorage(0, 10000, 1000, 1000, 0.1, 0.1, 10, 10, 0)\n",
    "so = vo.VPPSolarPanel(3000, 1500, 1500, 1, T, seed=seed)\n",
    "_ = cp.sensitivity([g1_1,g1_2,st, so], f, [(.1, .899)], [(.1, .099)], T, [l1, l2, l3, l7], [np.zeros(T)])"
   ]
  },
  {
   "cell_type": "markdown",
   "metadata": {},
   "source": [
    "**3.2.1 Teszt:**"
   ]
  },
  {
   "cell_type": "code",
   "execution_count": null,
   "metadata": {},
   "outputs": [],
   "source": [
    "def f(val):\n",
    "     return [vo.VPPGasEngine(1500, 750, 750, 1000), vo.VPPGasEngine(1500, 1500, 1500, 1000), vo.VPPEnergyStorage(0, 10000, 1000, 1000, val, val, 10, 10, 0), vo.VPPSolarPanel(3000, 1500, 1500, 1, T, seed=seed)]\n",
    "cp.sensitivity_by_participants(f, 0.01, 0.5+0.499*1, 3, l1, d, T)"
   ]
  },
  {
   "cell_type": "markdown",
   "metadata": {},
   "source": [
    "**3.2.1 Teszt:**"
   ]
  },
  {
   "cell_type": "code",
   "execution_count": null,
   "metadata": {},
   "outputs": [],
   "source": [
    "def f(val):\n",
    "     return [vo.VPPGasEngine(1500, 750, 750, 1000), vo.VPPGasEngine(1500, 1500, 1500, 1000), vo.VPPEnergyStorage(0, 10000, 1000, 1000, val, val, 10, 10, 0), vo.VPPSolarPanel(3000, 1500, 1500, 1, T, seed=seed)]\n",
    "cp.sensitivity_by_participants(f, 0.01, 0.5+0.499*1, 3, l7, d, T)"
   ]
  },
  {
   "cell_type": "markdown",
   "metadata": {},
   "source": [
    "## MILP solver"
   ]
  },
  {
   "cell_type": "markdown",
   "metadata": {},
   "source": [
    "### Fel- és lefutás érzékenysége (Gázmotoroknál)"
   ]
  },
  {
   "cell_type": "markdown",
   "metadata": {},
   "source": [
    "#### Csak gázmotorok"
   ]
  },
  {
   "cell_type": "markdown",
   "metadata": {},
   "source": [
    "**1. Teszt:**<br>\n",
    "2-2 gázmotorunk van, amelyek közül a második pár 2. tagjánál módosítjuk a ramp up/down rate-et.\n",
    "Csak az *l1, l2, l3, l7* fogyaztói görbéket használjuk, mivel a többi nem teljesíthető. Ezen teszt esetén a ramp up és down értékeket csak csökkentjük, növelés nem történik.\n",
    "\n",
    "**Eredmény:**"
   ]
  },
  {
   "cell_type": "code",
   "execution_count": null,
   "metadata": {},
   "outputs": [],
   "source": [
    "cp.globalcurrcat = 0\n",
    "def f(val, i):\n",
    "     return [vo.VPPGasEngine(1500, 1500, 1500, 10, None, 20, 2000, 2000, 2, 2, 2, 2, go0=1), vo.VPPGasEngine(1500, val[0]+val[1]*i, val[0]+val[1]*i, 10, None, 20, 2000, 2000, 2, 2, 2, 2, go0=1)]\n",
    "g1_1 = vo.VPPGasEngine(1500, 1500, 1500, 10, None, 20, 2000, 2000, 2, 2, 2, 2, go0=1)\n",
    "g1_2 = vo.VPPGasEngine(1500, 1500, 1500, 10, None, 20, 2000, 2000, 2, 2, 2, 2, go0=1)\n",
    "\n",
    "\n",
    "_ = cp.sensitivity([g1_1,g1_2], f, [(1500, 0)], [(1500, 1500)], T, [l1, l2, l3, l7], [np.zeros(T)])"
   ]
  },
  {
   "cell_type": "markdown",
   "metadata": {},
   "source": [
    "**1.1 Teszt:**<br>\n",
    "Az 1. teszt módosított verziója, hogy a 3. vizsgálat is teljes egészében optimalizálható legyen."
   ]
  },
  {
   "cell_type": "code",
   "execution_count": null,
   "metadata": {},
   "outputs": [],
   "source": [
    "def f(val, i):\n",
    "     return [vo.VPPGasEngine(1500, 1500, 1500, 10, None, 20, 2000, 2000, 2, 2, 2, 2, go0=1), \n",
    "             vo.VPPGasEngine(1500, val[0]+val[1]*i, val[0]+val[1]*i, 10, None, 20, 2000, 2000, 2, 2, 2, 2, go0=1)]\n",
    "g1_1 = vo.VPPGasEngine(1500, 1500, 1500, 10, None, 20, 2000, 2000, 2, 2, 2, 2, go0=1)\n",
    "g1_2 = vo.VPPGasEngine(1500, 1500, 1500, 10, None, 20, 2000, 2000, 2, 2, 2, 2, go0=1)\n",
    "\n",
    "\n",
    "_ = cp.sensitivity([g1_1,g1_2], f, [(1500, 0)], [(1500, 1500),(1500, 1165),(1500, 625),(1500, 1500)], T, [l1, l2, l3, l7], [np.zeros(T)])"
   ]
  },
  {
   "cell_type": "markdown",
   "metadata": {},
   "source": [
    "**1.2 Teszt:**<br>\n",
    "Még egy kisebb módosítás, amely a költségeket érinti. Jelen esetben meg lett 10-szerezve az első gázmotor költsége és az olcsóbb gázmotor ramp up/down értékeit csökkentjük.<br>\n",
    "**Eredmény:** Ezzel a módosítással már elég érdekes eremények születtek. Ahogy látható, akár az első tesz esetén is már a költség függvény változásnak indult. Ez a változás ránézésre a konstans 0-ból egy exponenciális függvény."
   ]
  },
  {
   "cell_type": "code",
   "execution_count": null,
   "metadata": {},
   "outputs": [],
   "source": [
    "def f(val, i):\n",
    "     return [vo.VPPGasEngine(1500, 1500, 1500, 100, None, 20, 2000, 2000, 2, 2, 2, 2, go0=1), \n",
    "             vo.VPPGasEngine(1500, val[0]+val[1]*i, val[0]+val[1]*i, 10, None, 20, 2000, 2000, 2, 2, 2, 2, go0=1)]\n",
    "g1_1 = vo.VPPGasEngine(1500, 1500, 1500, 100, None, 20, 2000, 2000, 2, 2, 2, 2, go0=1)\n",
    "g1_2 = vo.VPPGasEngine(1500, 1500, 1500, 10, None, 20, 2000, 2000, 2, 2, 2, 2, go0=1)\n",
    "\n",
    "_ = cp.sensitivity([g1_1,g1_2], f, [(1500, 0)], [(1500, 1500),(1500, 1165),(1500, 625),(1500, 1500)], T, [l1, l2, l3, l7], [np.zeros(T)])"
   ]
  },
  {
   "cell_type": "markdown",
   "metadata": {},
   "source": [
    "**1.3. Teszt:**<br>\n",
    "Annyi módosítással az 1.2-höz képest, hogy 1500 helyett minden gázmotornak 750 az alap ramp up/down értéke."
   ]
  },
  {
   "cell_type": "code",
   "execution_count": null,
   "metadata": {},
   "outputs": [],
   "source": [
    "def f(val, i):\n",
    "     return [vo.VPPGasEngine(1500, 750, 750, 100, None, 20, 2000, 2000, 2, 2, 2, 2, go0=1),\n",
    "              vo.VPPGasEngine(1500, val[0]+val[1]*i, val[0]+val[1]*i, 10, None, 20, 2000, 2000, 2, 2, 2, 2, go0=1)]\n",
    "g1_1 = vo.VPPGasEngine(1500, 750, 750, 100, None, 20, 2000, 2000, 2, 2, 2, 2, go0=1)\n",
    "g1_2 = vo.VPPGasEngine(1500, 750, 750, 10, None, 20, 2000, 2000, 2, 2, 2, 2, go0=1)\n",
    "\n",
    "_ = cp.sensitivity([g1_1,g1_2], f, [(750, 750)], [(750, 593),(750, 750)], T, [l1, l7], [np.zeros(T)])"
   ]
  },
  {
   "cell_type": "markdown",
   "metadata": {},
   "source": [
    "**1.3.1 Teszt:**<br>\n",
    "Az elöző teszteset részletesebb vizsgálata. (1. eset csökkentés)"
   ]
  },
  {
   "cell_type": "code",
   "execution_count": null,
   "metadata": {},
   "outputs": [],
   "source": [
    "def f(val):\n",
    "     return [vo.VPPGasEngine(1500, 750, 750, 100, None, 20, 2000, 2000, 2, 2, 2, 2, go0=1), \n",
    "             vo.VPPGasEngine(1500, val, val, 10, None, 20, 2000, 2000, 2, 2, 2, 2, go0=1)]\n",
    "cp.sensitivity_by_participants(f, 190, 750, 10, l1, d, T)"
   ]
  },
  {
   "cell_type": "markdown",
   "metadata": {},
   "source": [
    "**2. Teszt**<br>\n",
    "Növeljük meg a maximális termelésüket a motoroknak és ezzel az alap ramp up/down rátát is."
   ]
  },
  {
   "cell_type": "code",
   "execution_count": null,
   "metadata": {},
   "outputs": [],
   "source": [
    "def f(val, i):\n",
    "     return [vo.VPPGasEngine(4000, 2000, 2000, 10, None, 20, 2000, 2000, 2, 2, 2, 2, go0=1),\n",
    "             vo.VPPGasEngine(6000, val[0]+val[1]*i, val[0]+val[1]*i, 10, None, 20, 2000, 2000, 2, 2, 2, 2, go0=1)]\n",
    "g1_1 = vo.VPPGasEngine(4000, 2000, 2000, 10, None, 20, 2000, 2000, 2, 2, 2, 2, go0=1)\n",
    "g1_2 = vo.VPPGasEngine(6000, 2000, 2000, 10, None, 20, 2000, 2000, 2, 2, 2, 2, go0=1)\n",
    "\n",
    "_ = cp.sensitivity([g1_1,g1_2], f, [(2000, 4000)], [(2000, 2000),(2000, 2000),(2000, 1677),(2000, 2000),(2000, 2000),(2000, 2000),(2000, 2000)], T, [l1, l2,l3,l5,l6, l7,l10], [np.zeros(T)])"
   ]
  },
  {
   "cell_type": "markdown",
   "metadata": {},
   "source": [
    "**2.1 Teszt:**<br>\n",
    "Legyen drágább a nagyobb max. termeléssel bíró gázmotor."
   ]
  },
  {
   "cell_type": "code",
   "execution_count": null,
   "metadata": {},
   "outputs": [],
   "source": [
    "def f(val, i):\n",
    "     return [vo.VPPGasEngine(4000, 2000, 2000, 10, None, 20, 2000, 2000, 2, 2, 2, 2, go0=1),\n",
    "              vo.VPPGasEngine(6000, val[0]+val[1]*i, val[0]+val[1]*i, 100, None, 20, 2000, 2000, 2, 2, 2, 2, go0=1)]\n",
    "g1_1 = vo.VPPGasEngine(4000, 2000, 2000, 10, None, 20, 2000, 2000, 2, 2, 2, 2, go0=1)\n",
    "g1_2 = vo.VPPGasEngine(6000, 2000, 2000, 100, None, 20, 2000, 2000, 2, 2, 2, 2, go0=1)\n",
    "\n",
    "_ = cp.sensitivity([g1_1,g1_2], f, [(2000, 4000)], [(2000, 2000),(2000, 2000),(2000, 1677),(2000, 2000),(2000, 2000),(2000, 2000),(2000, 2000)], T, [l1, l2,l3,l5,l6, l7,l10], [np.zeros(T)])"
   ]
  },
  {
   "cell_type": "markdown",
   "metadata": {},
   "source": [
    "**2.2 Teszt:**<br>\n",
    "Most a másik motor legyen drágább."
   ]
  },
  {
   "cell_type": "code",
   "execution_count": null,
   "metadata": {},
   "outputs": [],
   "source": [
    "def f(val, i):\n",
    "     return [vo.VPPGasEngine(4000, 2000, 2000, 100, None, 20, 2000, 2000, 2, 2, 2, 2, go0=1),\n",
    "              vo.VPPGasEngine(6000, val[0]+val[1]*i, val[0]+val[1]*i, 10, None, 20, 2000, 2000, 2, 2, 2, 2, go0=1)]\n",
    "g1_1 = vo.VPPGasEngine(4000, 2000, 2000, 100, None, 20, 2000, 2000, 2, 2, 2, 2, go0=1)\n",
    "g1_2 = vo.VPPGasEngine(6000, 2000, 2000, 10, None, 20, 2000, 2000, 2, 2, 2, 2, go0=1)\n",
    "\n",
    "_ = cp.sensitivity([g1_1,g1_2], f, [(2000, 4000)], [(2000, 2000),(2000, 2000),(2000, 1677),(2000, 2000),(2000, 2000),(2000, 2000),(2000, 2000)], T, [l1, l2,l3,l5,l6, l7,l10], [np.zeros(T)])"
   ]
  },
  {
   "cell_type": "markdown",
   "metadata": {},
   "source": [
    "**Összefogalaló:**<br>\n",
    "Az előbbi tesztek esetén amennyiben azonos költségekkel futottak a motorok azon esetekben a költség nem változott, viszont amint különbség volt közöttük, egyből exponeneciális változás volt tapasztalható.\n",
    "Termelés tekintetében is a költséghez van köze a függvény alakjának, ha a költségek megegyeznek, akkor egy keszekusza függvényt kapunk, viszont amint különböznek, ez is átvált exponenciálisba."
   ]
  },
  {
   "cell_type": "markdown",
   "metadata": {},
   "source": [
    "#### Gázmotorok + energia tároló"
   ]
  },
  {
   "cell_type": "markdown",
   "metadata": {},
   "source": [
    "**1. Teszt:**<br>\n",
    "Úgy, hogy bejött a tároló, az eddig nem teljesíthető optimalizáciokat is el lehetett végezni, viszont ennek következtében az ottani költségek hatalmasat ugrottak."
   ]
  },
  {
   "cell_type": "code",
   "execution_count": null,
   "metadata": {},
   "outputs": [],
   "source": [
    "def f(val, i):\n",
    "     return [vo.VPPGasEngine(1500, 1500, 1500, 10, None, 20, 2000, 2000, 2, 2, 2, 2, go0=1),\n",
    "              vo.VPPGasEngine(1500, val[0]+val[1]*i, val[0]+val[1]*i, 10, None, 20, 2000, 2000, 2, 2, 2, 2, go0=1),\n",
    "                vo.VPPEnergyStorage(0,10000, 1000, 1000, 0.1, 0.1, 10, 10, 0)]\n",
    "g1_1 = vo.VPPGasEngine(1500, 1500, 1500, 10, None, 20, 2000, 2000, 2, 2, 2, 2, go0=1)\n",
    "g1_2 = vo.VPPGasEngine(1500, 1500, 1500, 10, None, 20, 2000, 2000, 2, 2, 2, 2, go0=1)\n",
    "t = vo.VPPEnergyStorage(0,10000, 1000, 1000, 0.1, 0.1, 10, 10, 0)\n",
    "\n",
    "_ = cp.sensitivity([g1_1,g1_2, t], f, [(1500, 0)], [(1500, 1500)], T, [l1, l2, l3, l7], [np.zeros(T)])"
   ]
  },
  {
   "cell_type": "markdown",
   "metadata": {},
   "source": [
    "**1.1 Teszt:**<br>\n",
    "Visszatérve a tároló nélkül is teljesíthető paraméterekre. Ezen eredmények igazolják az előbbi tesztnél leírtakat."
   ]
  },
  {
   "cell_type": "code",
   "execution_count": null,
   "metadata": {},
   "outputs": [],
   "source": [
    "def f(val, i):\n",
    "     return [vo.VPPGasEngine(1500, 1500, 1500, 10, None, 20, 2000, 2000, 2, 2, 2, 2, go0=1),\n",
    "              vo.VPPGasEngine(1500, val[0]+val[1]*i, val[0]+val[1]*i, 10, None, 20, 2000, 2000, 2, 2, 2, 2, go0=1),\n",
    "                vo.VPPEnergyStorage(0,10000, 1000, 1000, 0.1, 0.1, 10, 10, 0)]\n",
    "g1_1 = vo.VPPGasEngine(1500, 1500, 1500, 10, None, 20, 2000, 2000, 2, 2, 2, 2, go0=1)\n",
    "g1_2 = vo.VPPGasEngine(1500, 1500, 1500, 10, None, 20, 2000, 2000, 2, 2, 2, 2, go0=1)\n",
    "t = vo.VPPEnergyStorage(0,10000, 1000, 1000, 0.1, 0.1, 10, 10)\n",
    "\n",
    "\n",
    "_ = cp.sensitivity([g1_1,g1_2, t], f, [(1500, 0)], [(1500, 1500),(1500, 1165),(1500, 625),(1500, 1500)], T, [l1, l2, l3, l7], [np.zeros(T)])"
   ]
  },
  {
   "cell_type": "markdown",
   "metadata": {},
   "source": [
    "**1.2 Teszt:**<br>\n",
    "Növeljük meg az egyik gázmotor költségét."
   ]
  },
  {
   "cell_type": "code",
   "execution_count": null,
   "metadata": {},
   "outputs": [],
   "source": [
    "def f(val, i):\n",
    "     return [vo.VPPGasEngine(1500, 1500, 1500, 100, None, 20, 2000, 2000, 2, 2, 2, 2, go0=1),\n",
    "              vo.VPPGasEngine(1500, val[0]+val[1]*i, val[0]+val[1]*i, 10, None, 20, 2000, 2000, 2, 2, 2, 2, go0=1), \n",
    "              vo.VPPEnergyStorage(0,10000, 1000, 1000, 0.1, 0.1, 10, 10)]\n",
    "g1_1 = vo.VPPGasEngine(1500, 1500, 1500, 100, None, 20, 2000, 2000, 2, 2, 2, 2, go0=1)\n",
    "g1_2 = vo.VPPGasEngine(1500, 1500, 1500, 10, None, 20, 2000, 2000, 2, 2, 2, 2, go0=1)\n",
    "t = vo.VPPEnergyStorage(0,10000, 1000, 1000, 0.1, 0.1, 10, 10)\n",
    "\n",
    "_ = cp.sensitivity([g1_1,g1_2,t], f, [(1500, 0)], [(1500, 1500),(1500, 1165),(1500, 625),(1500, 1500)], T, [l1, l2, l3, l7], [np.zeros(T)])"
   ]
  },
  {
   "cell_type": "markdown",
   "metadata": {},
   "source": [
    "**1.2.1 Teszt:**<br>\n",
    "Most helyezzük vissza az összes paramétert úgy, hogy azok 1500-nak százalékos értékével csökkentsék az alap értéket. Ez nem fogja <br>\n",
    "**Eredmény:** Nem tapasztalható releváns eltérés a grafikonok között. Ránézésre olyan, mintha nagyobb intervallumon vennénk a függvényeket."
   ]
  },
  {
   "cell_type": "code",
   "execution_count": null,
   "metadata": {},
   "outputs": [],
   "source": [
    "def f(val, i):\n",
    "     return [vo.VPPGasEngine(1500, 1500, 1500, 100, None, 20, 2000, 2000, 2, 2, 2, 2, go0=1), \n",
    "             vo.VPPGasEngine(1500, val[0]+val[1]*i, val[0]+val[1]*i, 10, None, 20, 2000, 2000, 2, 2, 2, 2, go0=1),\n",
    "             vo.VPPEnergyStorage(0,10000, 1000, 1000, 0.1, 0.1, 10, 10)]\n",
    "g1_1 = vo.VPPGasEngine(1500, 1500, 1500, 100, None, 20, 2000, 2000, 2, 2, 2, 2, go0=1)\n",
    "g1_2 = vo.VPPGasEngine(1500, 1500, 1500, 10, None, 20, 2000, 2000, 2, 2, 2, 2, go0=1)\n",
    "t = vo.VPPEnergyStorage(0,10000, 1000, 1000, 0.1, 0.1, 10, 10)\n",
    "\n",
    "_ = cp.sensitivity([g1_1,g1_2,t], f, [(1500, 0)], [(1500, 1500)], T, [l1, l2, l3, l7], [np.zeros(T)])"
   ]
  },
  {
   "cell_type": "markdown",
   "metadata": {},
   "source": [
    "**1.3. Teszt:**<br>\n",
    "Csökentjük az alap ramp up/down értékeket. (1500 $\\rightarrow$ 750)"
   ]
  },
  {
   "cell_type": "code",
   "execution_count": null,
   "metadata": {},
   "outputs": [],
   "source": [
    "def f(val, i):\n",
    "     return [vo.VPPGasEngine(1500, 750, 750, 100, None, 20, 2000, 2000, 2, 2, 2, 2, go0=1), \n",
    "             vo.VPPGasEngine(1500, val[0]+val[1]*i, val[0]+val[1]*i, 10, None, 20, 2000, 2000, 2, 2, 2, 2, go0=1),\n",
    "             vo.VPPEnergyStorage(0,10000, 1000, 1000, 0.1, 0.1, 10, 10)]\n",
    "g1_1 = vo.VPPGasEngine(1500, 750, 750, 100, None, 20, 2000, 2000, 2, 2, 2, 2, go0=1)\n",
    "g1_2 = vo.VPPGasEngine(1500, 750, 750, 10, None, 20, 2000, 2000, 2, 2, 2, 2, go0=1)\n",
    "t = vo.VPPEnergyStorage(0,10000, 1000, 1000, 0.1, 0.1, 10, 10)\n",
    "\n",
    "_ = cp.sensitivity([g1_1,g1_2,t], f, [(750, 750)], [(750, 750)], T, [l1, l2, l7], [np.zeros(T)])"
   ]
  },
  {
   "cell_type": "markdown",
   "metadata": {},
   "source": [
    "**2. Teszt**<br>\n",
    "Növeljük meg a maximális termelésüket a motoroknak és ezzel az alap ramp up/down rátát is."
   ]
  },
  {
   "cell_type": "code",
   "execution_count": null,
   "metadata": {},
   "outputs": [],
   "source": [
    "def f(val, i):\n",
    "     return [vo.VPPGasEngine(4000, 2000, 2000, 10, None, 20, 2000, 2000, 2, 2, 2, 2, go0=1), \n",
    "             vo.VPPGasEngine(6000, val[0]+val[1]*i, val[0]+val[1]*i, 10, None, 20, 2000, 2000, 2, 2, 2, 2, go0=1),\n",
    "             vo.VPPEnergyStorage(0,10000, 1000, 1000, 0.1, 0.1, 10, 10)]\n",
    "g1_1 = vo.VPPGasEngine(4000, 2000, 2000, 10, None, 20, 2000, 2000, 2, 2, 2, 2, go0=1)\n",
    "g1_2 = vo.VPPGasEngine(6000, 2000, 2000, 10, None, 20, 2000, 2000, 2, 2, 2, 2, go0=1)\n",
    "t = vo.VPPEnergyStorage(0,10000, 1000, 1000, 0.1, 0.1, 10, 10)\n",
    "\n",
    "_ = cp.sensitivity([g1_1,g1_2,t], f, [(2000, 4000)], [(2000, 2000)], T, [l1, l2,l3,l5,l6, l7,l10], [np.zeros(T)])"
   ]
  },
  {
   "cell_type": "markdown",
   "metadata": {},
   "source": [
    "**2.1 Teszt:**<br>"
   ]
  },
  {
   "cell_type": "code",
   "execution_count": null,
   "metadata": {},
   "outputs": [],
   "source": [
    "def f(val, i):\n",
    "     return [vo.VPPGasEngine(4000, 2000, 2000, 10, None, 20, 2000, 2000, 2, 2, 2, 2, go0=1), \n",
    "             vo.VPPGasEngine(6000, val[0]+val[1]*i, val[0]+val[1]*i, 100, None, 20, 2000, 2000, 2, 2, 2, 2, go0=1),\n",
    "             vo.VPPEnergyStorage(0,10000, 1000, 1000, 0.1, 0.1, 10, 10)]\n",
    "g1_1 = vo.VPPGasEngine(4000, 2000, 2000, 10, None, 20, 2000, 2000, 2, 2, 2, 2, go0=1)\n",
    "g1_2 = vo.VPPGasEngine(6000, 2000, 2000, 100, None, 20, 2000, 2000, 2, 2, 2, 2, go0=1)\n",
    "t = vo.VPPEnergyStorage(0,10000, 1000, 1000, 0.1, 0.1, 10, 10)\n",
    "\n",
    "_ = cp.sensitivity([g1_1,g1_2,t], f, [(2000, 4000)], [(2000, 2000)], T, [l1, l2,l3,l5,l6, l7,l10], [np.zeros(T)])"
   ]
  },
  {
   "cell_type": "markdown",
   "metadata": {},
   "source": [
    "**2.2 Teszt:**"
   ]
  },
  {
   "cell_type": "code",
   "execution_count": null,
   "metadata": {},
   "outputs": [],
   "source": [
    "def f(val, i):\n",
    "     return [vo.VPPGasEngine(4000, 2000, 2000, 100, None, 20, 2000, 2000, 2, 2, 2, 2, go0=1), \n",
    "             vo.VPPGasEngine(6000, val[0]+val[1]*i, val[0]+val[1]*i, 10, None, 20, 2000, 2000, 2, 2, 2, 2, go0=1),\n",
    "             vo.VPPEnergyStorage(0,10000, 1000, 1000, 0.1, 0.1, 10, 10)]\n",
    "g1_1 = vo.VPPGasEngine(4000, 2000, 2000, 100, None, 20, 2000, 2000, 2, 2, 2, 2, go0=1)\n",
    "g1_2 = vo.VPPGasEngine(6000, 2000, 2000, 10, None, 20, 2000, 2000, 2, 2, 2, 2, go0=1)\n",
    "t = vo.VPPEnergyStorage(0,10000, 1000, 1000, 0.1, 0.1, 10, 10)\n",
    "\n",
    "_ = cp.sensitivity([g1_1,g1_2,t], f, [(2000, 4000)], [(2000, 2000)], T, [l1, l2,l3,l5,l6, l7,l10], [np.zeros(T)])"
   ]
  },
  {
   "cell_type": "markdown",
   "metadata": {},
   "source": [
    "**Összefoglalás:**<br>\n",
    "Összességében hasonló görbéket kapunk, mintha csak gázmotorok szerepelnének, csak kevésbé szögleteseket, a tárolónak köszönhetően sokkal \"görbébb\" függvényeket kapunk. Ezek mellett sokszor kisebbek a hibák, mintha csak gázmotorok lennének, illetve sok esetben az eddig nem teljesíthető teszteket is sikerül elvégeznie."
   ]
  },
  {
   "cell_type": "markdown",
   "metadata": {},
   "source": [
    "#### Gázmtorok + napelem"
   ]
  },
  {
   "cell_type": "markdown",
   "metadata": {},
   "source": [
    "**1. Teszt:**<br>\n",
    "Adjunk egy napelemet a 2. gázmotorhoz, úgy, hogy annak termelését arányosra állítjuk a gázmotorokéval. "
   ]
  },
  {
   "cell_type": "code",
   "execution_count": null,
   "metadata": {},
   "outputs": [],
   "source": [
    "def f(val, i):\n",
    "     return [vo.VPPGasEngine(1500, 1500, 1500, 10, None, 20, 2000, 2000, 2, 2, 2, 2, go0=1), \n",
    "             vo.VPPGasEngine(1500, val[0]+val[1]*i, val[0]+val[1]*i, 10, None, 20, 2000, 2000, 2, 2, 2, 2, go0=1),\n",
    "             vo.VPPSolarPanel(1000, 500, 500, 1, T, seed=seed)]\n",
    "g1_1 = vo.VPPGasEngine(1500, 1500, 1500, 10, None, 20, 2000, 2000, 2, 2, 2, 2, go0=1)\n",
    "g1_2 = vo.VPPGasEngine(1500, 1500, 1500, 10, None, 20, 2000, 2000, 2, 2, 2, 2, go0=1)\n",
    "s = vo.VPPSolarPanel(1000, 500, 500, 1, T, seed=seed)\n",
    "\n",
    "_ = cp.sensitivity([g1_1,g1_2, s], f, [(1500, 0)], [(1500, 1500)], T, [l1, l2, l3, l7], [np.zeros(T)])"
   ]
  },
  {
   "cell_type": "markdown",
   "metadata": {},
   "source": [
    "**1.1 Teszt:**<br>\n",
    "Módosítjuk a paraétereket, hogy minden esetben elvégezhető legyen az optimalizálás."
   ]
  },
  {
   "cell_type": "code",
   "execution_count": null,
   "metadata": {},
   "outputs": [],
   "source": [
    "def f(val, i):\n",
    "     return [vo.VPPGasEngine(1500, 1500, 1500, 10, None, 20, 2000, 2000, 2, 2, 2, 2, go0=1), \n",
    "             vo.VPPGasEngine(1500, val[0]+val[1]*i, val[0]+val[1]*i, 10, None, 20, 2000, 2000, 2, 2, 2, 2, go0=1),\n",
    "             vo.VPPSolarPanel(1000, 500, 500, 1, T, seed=seed)]\n",
    "g1_1 = vo.VPPGasEngine(1500, 1500, 1500, 10, None, 20, 2000, 2000, 2, 2, 2, 2, go0=1)\n",
    "g1_2 = vo.VPPGasEngine(1500, 1500, 1500, 10, None, 20, 2000, 2000, 2, 2, 2, 2, go0=1)\n",
    "s = vo.VPPSolarPanel(1000, 500, 500, 1, T, seed=seed)\n",
    "\n",
    "_ = cp.sensitivity([g1_1,g1_2, s], f, [(1500, 0)], [(1500, 1500),(1500, 1165),(1500, 945),(1500, 1500)], T, [l1, l2, l3, l7], [np.zeros(T)])"
   ]
  },
  {
   "cell_type": "markdown",
   "metadata": {},
   "source": [
    "**1.2 Teszt:**<br>\n",
    "Kis költség változtatás.<br>\n",
    "**Eredmény:** Hasonló az eredmény, mint az eddigieknél. (Exponenciális költség növekedés.)"
   ]
  },
  {
   "cell_type": "code",
   "execution_count": null,
   "metadata": {},
   "outputs": [],
   "source": [
    "def f(val, i):\n",
    "     return [vo.VPPGasEngine(1500, 1500, 1500, 100, None, 20, 2000, 2000, 2, 2, 2, 2, go0=1), \n",
    "             vo.VPPGasEngine(1500, val[0]+val[1]*i, val[0]+val[1]*i, 10, None, 20, 2000, 2000, 2, 2, 2, 2, go0=1),\n",
    "             vo.VPPSolarPanel(1000, 500, 500, 1, T, seed=seed)]\n",
    "g1_1 = vo.VPPGasEngine(1500, 1500, 1500, 100, None, 20, 2000, 2000, 2, 2, 2, 2, go0=1)\n",
    "g1_2 = vo.VPPGasEngine(1500, 1500, 1500, 10, None, 20, 2000, 2000, 2, 2, 2, 2, go0=1)\n",
    "s = vo.VPPSolarPanel(1000, 500, 500, 1, T, seed=seed)\n",
    "\n",
    "_ = cp.sensitivity([g1_1,g1_2, s], f, [(1500, 0)], [(1500, 1500),(1500, 1165),(1500, 945),(1500, 1500)], T, [l1, l2, l3, l7], [np.zeros(T)])"
   ]
  },
  {
   "cell_type": "markdown",
   "metadata": {},
   "source": [
    "**1.2.1 Teszt:**<br>\n",
    "Paraméterek visszaállítása az 1. tesztbeli értékekre.\n",
    "Itt most nincs különbség a kettő között, nem mint a tárolók esetén..."
   ]
  },
  {
   "cell_type": "code",
   "execution_count": null,
   "metadata": {},
   "outputs": [],
   "source": [
    "def f(val, i):\n",
    "     return [vo.VPPGasEngine(1500, 1500, 1500, 100, None, 20, 2000, 2000, 2, 2, 2, 2, go0=1), \n",
    "             vo.VPPGasEngine(1500, val[0]+val[1]*i, val[0]+val[1]*i, 10, None, 20, 2000, 2000, 2, 2, 2, 2, go0=1),\n",
    "             vo.VPPSolarPanel(1000, 500, 500, 1, T, seed=seed)]\n",
    "g1_1 = vo.VPPGasEngine(1500, 1500, 1500, 100, None, 20, 2000, 2000, 2, 2, 2, 2, go0=1)\n",
    "g1_2 = vo.VPPGasEngine(1500, 1500, 1500, 10, None, 20, 2000, 2000, 2, 2, 2, 2, go0=1)\n",
    "s = vo.VPPSolarPanel(1000, 500, 500, 1, T, seed=seed)\n",
    "\n",
    "_ = cp.sensitivity([g1_1,g1_2, s], f, [(1500, 0)], [(1500, 1500)], T, [l1, l2, l3, l7], [np.zeros(T)])"
   ]
  },
  {
   "cell_type": "markdown",
   "metadata": {},
   "source": [
    "**1.2.2 Teszt:**<br>\n",
    "Játszunk a költséggel. Lehet, hogy azért exponeneciális a költség különbség függvénye, mert a költségek is így viszonyulnak egymáshoz?<br>\n",
    "**Eredmény:** Az alábbi grafikonok alapján téves a feltevés, mivel így is exponeneciálisak lesznek."
   ]
  },
  {
   "cell_type": "code",
   "execution_count": null,
   "metadata": {},
   "outputs": [],
   "source": [
    "def f(val, i):\n",
    "     return [vo.VPPGasEngine(1500, 1500, 1500, 20, None, 20, 2000, 2000, 2, 2, 2, 2, go0=1), \n",
    "             vo.VPPGasEngine(1500, val[0]+val[1]*i, val[0]+val[1]*i, 10, None, 20, 2000, 2000, 2, 2, 2, 2, go0=1),\n",
    "             vo.VPPSolarPanel(1000, 500, 500, 1, T, seed=seed)]\n",
    "g1_1 = vo.VPPGasEngine(1500, 1500, 1500, 20, None, 20, 2000, 2000, 2, 2, 2, 2, go0=1)\n",
    "g1_2 = vo.VPPGasEngine(1500, 1500, 1500, 10, None, 20, 2000, 2000, 2, 2, 2, 2, go0=1)\n",
    "s = vo.VPPSolarPanel(1000, 500, 500, 1, T, seed=seed)\n",
    "\n",
    "_ = cp.sensitivity([g1_1,g1_2, s], f, [(1500, 0)], [(1500, 1500),(1500, 1165),(1500, 945),(1500, 1500)], T, [l1, l2, l3, l7], [np.zeros(T)])"
   ]
  },
  {
   "cell_type": "markdown",
   "metadata": {},
   "source": [
    "**1.3 Teszt:**<br>\n",
    "Módosítsuk az alap ramp up/down értékeket az eddigi felére. (1500 $\\rightarrow$ 750)"
   ]
  },
  {
   "cell_type": "code",
   "execution_count": null,
   "metadata": {},
   "outputs": [],
   "source": [
    "def f(val, i):\n",
    "     return [vo.VPPGasEngine(1500, 750, 750, 10, None, 20, 2000, 2000, 2, 2, 2, 2, go0=1), \n",
    "             vo.VPPGasEngine(1500, val[0]+val[1]*i, val[0]+val[1]*i, 10, None, 20, 2000, 2000, 2, 2, 2, 2, go0=1),\n",
    "             vo.VPPSolarPanel(1000, 500, 500, 1, T, seed=seed)]\n",
    "g1_1 = vo.VPPGasEngine(1500, 750, 750, 10, None, 20, 2000, 2000, 2, 2, 2, 2, go0=1)\n",
    "g1_2 = vo.VPPGasEngine(1500, 750, 750, 10, None, 20, 2000, 2000, 2, 2, 2, 2, go0=1)\n",
    "s = vo.VPPSolarPanel(1000, 500, 500, 1, T, seed=seed)\n",
    "\n",
    "_ = cp.sensitivity([g1_1,g1_2, s], f, [(750, 750)], [(750, 750)], T, [l1, l7], [np.zeros(T)])"
   ]
  },
  {
   "cell_type": "markdown",
   "metadata": {},
   "source": [
    "**2. Teszt:**<br>\n",
    "Legyen drágább a nagyobb max. termeléssel bíró gázmotor."
   ]
  },
  {
   "cell_type": "code",
   "execution_count": null,
   "metadata": {},
   "outputs": [],
   "source": [
    "def f(val, i):\n",
    "     return [vo.VPPGasEngine(4000, 2000, 2000, 10, None, 20, 2000, 2000, 2, 2, 2, 2, go0=1), \n",
    "             vo.VPPGasEngine(6000, val[0]+val[1]*i, val[0]+val[1]*i, 10, None, 20, 2000, 2000, 2, 2, 2, 2, go0=1),\n",
    "             vo.VPPSolarPanel(2000, 1000, 1000, 1, T, seed=seed)]\n",
    "g1_1 = vo.VPPGasEngine(4000, 2000, 2000, 10, None, 20, 2000, 2000, 2, 2, 2, 2, go0=1)\n",
    "g1_2 = vo.VPPGasEngine(6000, 2000, 2000, 10, None, 20, 2000, 2000, 2, 2, 2, 2, go0=1)\n",
    "s = vo.VPPSolarPanel(2000, 1000, 1000, 1, T, seed=seed)\n",
    "\n",
    "_ = cp.sensitivity([g1_1,g1_2, s], f, [(2000, 4000)], [(2000, 2000),(2000, 2000),(2000, 1997),(2000, 2000),(2000, 2000),(2000, 2000),(2000, 2000)], T, [l1, l2,l3,l5,l6, l7,l10], [np.zeros(T)])"
   ]
  },
  {
   "cell_type": "markdown",
   "metadata": {},
   "source": [
    "**2.1 Teszt:**<br>\n",
    "Legyen drágább a nagyobb max. termeléssel bíró gázmotor."
   ]
  },
  {
   "cell_type": "code",
   "execution_count": null,
   "metadata": {},
   "outputs": [],
   "source": [
    "def f(val, i):\n",
    "     return [vo.VPPGasEngine(4000, 2000, 2000, 10, None, 20, 2000, 2000, 2, 2, 2, 2, go0=1), \n",
    "             vo.VPPGasEngine(6000, val[0]+val[1]*i, val[0]+val[1]*i, 100, None, 20, 2000, 2000, 2, 2, 2, 2, go0=1),\n",
    "             vo.VPPSolarPanel(2000, 1000, 1000, 1, T, seed=seed)]\n",
    "g1_1 = vo.VPPGasEngine(4000, 2000, 2000, 10, None, 20, 2000, 2000, 2, 2, 2, 2, go0=1)\n",
    "g1_2 = vo.VPPGasEngine(6000, 2000, 2000, 100, None, 20, 2000, 2000, 2, 2, 2, 2, go0=1)\n",
    "s = vo.VPPSolarPanel(2000, 1000, 1000, 1, T, seed=seed)\n",
    "\n",
    "_ = cp.sensitivity([g1_1,g1_2, s], f, [(2000, 4000)], [(2000, 2000),(2000, 2000),(2000, 1997),(2000, 2000),(2000, 2000),(2000, 2000),(2000, 2000)], T, [l1, l2,l3,l5,l6, l7,l10], [np.zeros(T)])"
   ]
  },
  {
   "cell_type": "markdown",
   "metadata": {},
   "source": [
    "**2.2 Teszt:**<br>\n",
    "Most a másik motor legyen drágább."
   ]
  },
  {
   "cell_type": "code",
   "execution_count": null,
   "metadata": {},
   "outputs": [],
   "source": [
    "def f(val, i):\n",
    "     return [vo.VPPGasEngine(4000, 2000, 2000, 100, None, 20, 2000, 2000, 2, 2, 2, 2, go0=1), \n",
    "             vo.VPPGasEngine(6000, val[0]+val[1]*i, val[0]+val[1]*i, 10, None, 20, 2000, 2000, 2, 2, 2, 2, go0=1),\n",
    "             vo.VPPSolarPanel(2000, 1000, 1000, 1, T, seed=seed)]\n",
    "g1_1 = vo.VPPGasEngine(4000, 2000, 2000, 100, None, 20, 2000, 2000, 2, 2, 2, 2, go0=1)\n",
    "g1_2 = vo.VPPGasEngine(6000, 2000, 2000, 10, None, 20, 2000, 2000, 2, 2, 2, 2, go0=1)\n",
    "s = vo.VPPSolarPanel(2000, 1000, 1000, 1, T, seed=seed)\n",
    "\n",
    "_ = cp.sensitivity([g1_1,g1_2, s], f, [(2000, 4000)], [(2000, 2000),(2000, 2000),(2000, 1997),(2000, 2000),(2000, 2000),(2000, 2000),(2000, 2000)], T, [l1, l2,l3,l5,l6, l7,l10], [np.zeros(T)])"
   ]
  },
  {
   "cell_type": "markdown",
   "metadata": {},
   "source": [
    "**Összefogalalás:**\n",
    "Többnyire hasonló görbéket kapunk, mint a sima gázotoroknál, csak a legtöbb esetben sokkal kacifántosabbak. Ezen felül előfordul olyan eset, melyet ez a modell teljesíteni tud, míg a sima gázmotoros nem, mely várható volt a termelt energia mennyiségének növekedése végett."
   ]
  },
  {
   "cell_type": "markdown",
   "metadata": {},
   "source": [
    "#### Gázmotork + napelem + enegia tároló"
   ]
  },
  {
   "cell_type": "markdown",
   "metadata": {},
   "source": [
    "**1. Teszt:**<br>\n",
    "Az eddigi résztvevőket kombinálva most 2 gázmotorral, 1 tárolóval és 1 napelemmel fogjuk az optimalizációt végezni."
   ]
  },
  {
   "cell_type": "code",
   "execution_count": null,
   "metadata": {},
   "outputs": [],
   "source": [
    "def f(val, i):\n",
    "     return [vo.VPPGasEngine(1500, 1500, 1500, 10, None, 20, 2000, 2000, 2, 2, 2, 2, go0=1), \n",
    "             vo.VPPGasEngine(1500, val[0]+val[1]*i, val[0]+val[1]*i, 10, None, 20, 2000, 2000, 2, 2, 2, 2, go0=1), \n",
    "             vo.VPPEnergyStorage(0,10000, 1000, 1000, 0.1, 0.1, 10, 10, 0), \n",
    "             vo.VPPSolarPanel(1000, 500, 500, 1, T, seed=seed)]\n",
    "g1_1 = vo.VPPGasEngine(1500, 1500, 1500, 10, None, 20, 2000, 2000, 2, 2, 2, 2, go0=1)\n",
    "g1_2 = vo.VPPGasEngine(1500, 1500, 1500, 10, None, 20, 2000, 2000, 2, 2, 2, 2, go0=1)\n",
    "t = vo.VPPEnergyStorage(0,10000, 1000, 1000, 0.1, 0.1, 10, 10, 0)\n",
    "s = vo.VPPSolarPanel(1000, 500, 500, 1, T, seed=seed)\n",
    "\n",
    "\n",
    "_ = cp.sensitivity([g1_1,g1_2, t, s], f, [(1500, 0)], [(1500, 1500)], T, [l1, l2, l3, l7], [np.zeros(T)])"
   ]
  },
  {
   "cell_type": "markdown",
   "metadata": {},
   "source": [
    "**1.1 Teszt:**<br>\n",
    "Megváltoztatjuk a költségeket a gázmotorok esetén."
   ]
  },
  {
   "cell_type": "code",
   "execution_count": null,
   "metadata": {},
   "outputs": [],
   "source": [
    "def f(val, i):\n",
    "     return [vo.VPPGasEngine(1500, 1500, 1500, 100, None, 20, 2000, 2000, 2, 2, 2, 2, go0=1), \n",
    "             vo.VPPGasEngine(1500, val[0]+val[1]*i, val[0]+val[1]*i, 10, None, 20, 2000, 2000, 2, 2, 2, 2, go0=1), \n",
    "             vo.VPPEnergyStorage(0,10000, 1000, 1000, 0.1, 0.1, 10, 10, 0), \n",
    "             vo.VPPSolarPanel(1000, 500, 500, 1, T, seed=seed)]\n",
    "g1_1 = vo.VPPGasEngine(1500, 1500, 1500, 100, None, 20, 2000, 2000, 2, 2, 2, 2, go0=1)\n",
    "g1_2 = vo.VPPGasEngine(1500, 1500, 1500, 10, None, 20, 2000, 2000, 2, 2, 2, 2, go0=1)\n",
    "t = vo.VPPEnergyStorage(0,10000, 1000, 1000, 0.1, 0.1, 10, 10, 0)\n",
    "s = vo.VPPSolarPanel(1000, 500, 500, 1, T, seed=seed)\n",
    "\n",
    "\n",
    "_ = cp.sensitivity([g1_1,g1_2, t, s], f, [(1500, 0)], [(1500, 1500)], T, [l1, l2, l3, l7], [np.zeros(T)])"
   ]
  },
  {
   "cell_type": "markdown",
   "metadata": {},
   "source": [
    "**1.2 Teszt:**<br>\n",
    "Módosítsuk az alap ramp up/down értékeket az eddigi felére. (1500 $\\rightarrow$ 750)"
   ]
  },
  {
   "cell_type": "code",
   "execution_count": null,
   "metadata": {},
   "outputs": [],
   "source": [
    "def f(val, i):\n",
    "     return [vo.VPPGasEngine(1500, 750, 750, 100, None, 20, 2000, 2000, 2, 2, 2, 2, go0=1), \n",
    "             vo.VPPGasEngine(1500, val[0]+val[1]*i, val[0]+val[1]*i, 10, None, 20, 2000, 2000, 2, 2, 2, 2, go0=1), \n",
    "             vo.VPPEnergyStorage(0,10000, 1000, 1000, 0.1, 0.1, 10, 10, 0), \n",
    "             vo.VPPSolarPanel(1000, 500, 500, 1, T, seed=seed)]\n",
    "g1_1 = vo.VPPGasEngine(1500, 750, 750, 100, None, 20, 2000, 2000, 2, 2, 2, 2, go0=1)\n",
    "g1_2 = vo.VPPGasEngine(1500, 750, 750, 10, None, 20, 2000, 2000, 2, 2, 2, 2, go0=1)\n",
    "t = vo.VPPEnergyStorage(0,10000, 1000, 1000, 0.1, 0.1, 10, 10, 0)\n",
    "s = vo.VPPSolarPanel(1000, 500, 500, 1, T, seed=seed)\n",
    "\n",
    "\n",
    "_ = cp.sensitivity([g1_1,g1_2, t, s], f, [(750, 750)], [(750, 750)], T, [l1, l2, l3, l7], [np.zeros(T)])"
   ]
  },
  {
   "cell_type": "markdown",
   "metadata": {},
   "source": [
    "**2. Teszt:**<br>\n",
    "Legyen drágább a nagyobb max. termeléssel bíró gázmotor."
   ]
  },
  {
   "cell_type": "code",
   "execution_count": null,
   "metadata": {},
   "outputs": [],
   "source": [
    "def f(val, i):\n",
    "     return [vo.VPPGasEngine(4000, 2000, 2000, 10, None, 20, 2000, 2000, 2, 2, 2, 2, go0=1), \n",
    "             vo.VPPGasEngine(6000, val[0]+val[1]*i, val[0]+val[1]*i, 10, None, 20, 2000, 2000, 2, 2, 2, 2, go0=1), \n",
    "             vo.VPPEnergyStorage(0,10000, 1000, 1000, 0.1, 0.1, 10, 10, 0), \n",
    "             vo.VPPSolarPanel(2000, 1000, 1000, 1, T, seed=seed)]\n",
    "g1_1 = vo.VPPGasEngine(4000, 2000, 2000, 10, None, 20, 2000, 2000, 2, 2, 2, 2, go0=1)\n",
    "g1_2 = vo.VPPGasEngine(6000, 2000, 2000, 10, None, 20, 2000, 2000, 2, 2, 2, 2, go0=1)\n",
    "t = vo.VPPEnergyStorage(0,10000, 1000, 1000, 0.1, 0.1, 10, 10, 0)\n",
    "s = vo.VPPSolarPanel(2000, 1000, 1000, 1, T, seed=seed)\n",
    "\n",
    "\n",
    "_ = cp.sensitivity([g1_1,g1_2, t, s], f, [(2000, 4000)], [(2000, 2000)], T, [l1, l2,l3,l5,l6, l7,l10], [np.zeros(T)])"
   ]
  },
  {
   "cell_type": "markdown",
   "metadata": {},
   "source": [
    "**2.1 Teszt:**<br>\n",
    "Legyen drágább a nagyobb max. termeléssel bíró gázmotor."
   ]
  },
  {
   "cell_type": "code",
   "execution_count": null,
   "metadata": {},
   "outputs": [],
   "source": [
    "def f(val, i):\n",
    "     return [vo.VPPGasEngine(4000, 2000, 2000, 10, None, 20, 2000, 2000, 2, 2, 2, 2, go0=1), \n",
    "             vo.VPPGasEngine(6000, val[0]+val[1]*i, val[0]+val[1]*i, 100, None, 20, 2000, 2000, 2, 2, 2, 2, go0=1), \n",
    "             vo.VPPEnergyStorage(0,10000, 1000, 1000, 0.1, 0.1, 10, 10, 0), \n",
    "             vo.VPPSolarPanel(2000, 1000, 1000, 1, T, seed=seed)]\n",
    "g1_1 = vo.VPPGasEngine(4000, 2000, 2000, 10, None, 20, 2000, 2000, 2, 2, 2, 2, go0=1)\n",
    "g1_2 = vo.VPPGasEngine(6000, 2000, 2000, 100, None, 20, 2000, 2000, 2, 2, 2, 2, go0=1)\n",
    "t = vo.VPPEnergyStorage(0,10000, 1000, 1000, 0.1, 0.1, 10, 10, 0)\n",
    "s = vo.VPPSolarPanel(2000, 1000, 1000, 1, T, seed=seed)\n",
    "\n",
    "\n",
    "_ = cp.sensitivity([g1_1,g1_2, t, s], f, [(2000, 4000)], [(2000, 2000)], T, [l1, l2,l3,l5,l6, l7,l10], [np.zeros(T)])"
   ]
  },
  {
   "cell_type": "markdown",
   "metadata": {},
   "source": [
    "**2.2 Teszt:**<br>\n",
    "Most a másik motor legyen drágább."
   ]
  },
  {
   "cell_type": "code",
   "execution_count": null,
   "metadata": {},
   "outputs": [],
   "source": [
    "def f(val, i):\n",
    "     return [vo.VPPGasEngine(4000, 2000, 2000, 100, None, 20, 2000, 2000, 2, 2, 2, 2, go0=1), \n",
    "             vo.VPPGasEngine(6000, val[0]+val[1]*i, val[0]+val[1]*i, 10, None, 20, 2000, 2000, 2, 2, 2, 2, go0=1), \n",
    "             vo.VPPEnergyStorage(0,10000, 1000, 1000, 0.1, 0.1, 10, 10, 0), \n",
    "             vo.VPPSolarPanel(2000, 1000, 1000, 1, T, seed=seed)]\n",
    "g1_1 = vo.VPPGasEngine(4000, 2000, 2000, 100, None, 20, 2000, 2000, 2, 2, 2, 2, go0=1)\n",
    "g1_2 = vo.VPPGasEngine(6000, 2000, 2000, 10, None, 20, 2000, 2000, 2, 2, 2, 2, go0=1)\n",
    "t = vo.VPPEnergyStorage(0,10000, 1000, 1000, 0.1, 0.1, 10, 10, 0)\n",
    "s = vo.VPPSolarPanel(2000, 1000, 1000, 1, T, seed=seed)\n",
    "\n",
    "\n",
    "_ = cp.sensitivity([g1_1,g1_2, t, s], f, [(2000, 4000)], [(2000, 2000)], T, [l1, l2,l3,l5,l6, l7,l10], [np.zeros(T)])"
   ]
  },
  {
   "cell_type": "markdown",
   "metadata": {},
   "source": [
    "**Összefogalalás:**\n",
    "Itt is többnyire hasonló görbéket kapunk, mint a tárolók esetén, viszont még ívesebbeket, kevesebb \"hegye\" van a görbéknek. Ezen felül ebben az esetben a hibák hamarabb kisebb változtatások esetén is már kezdenek előjönni, viszont kisebbek, mint a többi esetén. Hasonló mondható el a költségekről is, hamarabb nőnek, viszont sokkal kevesebbet."
   ]
  },
  {
   "cell_type": "markdown",
   "metadata": {},
   "source": [
    "### Költség érzékenysége (Gázmotoroknál)"
   ]
  },
  {
   "cell_type": "markdown",
   "metadata": {},
   "source": [
    "#### Csak gázmotorok"
   ]
  },
  {
   "cell_type": "markdown",
   "metadata": {},
   "source": [
    "**1. Teszt:** <br>\n",
    "2-2 gázotorral végezzük ezt a tesztet és azok közül az egyik költségét változtatjuk.<br>\n",
    "**Eredmény:** Ahogy azt a grafikonokon is láthatjuk a paraméter változtatására vagy szakaszonként, vagy telejsen lineáris változást tapasztalhatunk a költségfüggvényben."
   ]
  },
  {
   "cell_type": "code",
   "execution_count": null,
   "metadata": {},
   "outputs": [],
   "source": [
    "cp.globalcurrcat = 1\n",
    "def f(val, i):\n",
    "     return [vo.VPPGasEngine(1500, 1500, 1500, 50, None, 20, 2000, 2000, 2, 2, 2, 2, go0=1), \n",
    "             vo.VPPGasEngine(1500, 1500, 1500, val[0]+i*val[1], None, 20, 2000, 2000, 2, 2, 2, 2, go0=1)]\n",
    "g1_1 = vo.VPPGasEngine(1500, 1500, 1500, 50, None, 20, 2000, 2000, 2, 2, 2, 2, go0=1)\n",
    "g1_2 = vo.VPPGasEngine(1500, 1500, 1500, 50, None, 20, 2000, 2000, 2, 2, 2, 2, go0=1)\n",
    "\n",
    "\n",
    "_ = cp.sensitivity([g1_1,g1_2], f, [(50, 50)], [(50, 50)], T, [l1, l2, l3, l7], [np.zeros(T)])"
   ]
  },
  {
   "cell_type": "markdown",
   "metadata": {},
   "source": [
    "**1.1 Teszt:**<br>\n",
    "Vizsgáljuk meg azt az esetet, amikor a változtatott költségű gázmotor fel-és lefutási értékeit megfelezzük.<br>\n",
    "**Eredmény:** Sok különbség az elöző esethez képest nincsen a költségeket tekintve, viszont itt már a termelésben észlelhetünk különbségeket, de többniyre konstans hibákkal. Ezen felül a 3. teszteset itt már nem teljesíthető."
   ]
  },
  {
   "cell_type": "code",
   "execution_count": null,
   "metadata": {},
   "outputs": [],
   "source": [
    "def f(val, i):\n",
    "     return [vo.VPPGasEngine(1500, 1500, 1500, 50, None, 20, 2000, 2000, 2, 2, 2, 2, go0=1), \n",
    "             vo.VPPGasEngine(1500, 1500, 1500, val[0]+i*val[1], None, 20, 2000, 2000, 2, 2, 2, 2, go0=1)]\n",
    "g1_1 = vo.VPPGasEngine(1500, 1500, 1500, 50, None, 20, 2000, 2000, 2, 2, 2, 2, go0=1)\n",
    "g1_2 = vo.VPPGasEngine(1500, 750, 750, 50, None, 20, 2000, 2000, 2, 2, 2, 2, go0=1)\n",
    "\n",
    "\n",
    "_ = cp.sensitivity([g1_1,g1_2], f, [(50, 50)], [(50, 50)], T, [l1, l2, l3, l7], [np.zeros(T)])"
   ]
  },
  {
   "cell_type": "markdown",
   "metadata": {},
   "source": [
    "**2. Teszt:**<br>\n",
    "Most növeljük meg a gázmotorok maximális termelésést és vele együtt a fel- és lefutási ráták értékeit.<br>\n",
    "**Eredmény:** sok különbség ez esetben nincs az eddigi ereményekhez képest. Egyedül az hozható fel, hogy több esetet képes teljesíteni."
   ]
  },
  {
   "cell_type": "code",
   "execution_count": null,
   "metadata": {},
   "outputs": [],
   "source": [
    "def f(val, i):\n",
    "     return [vo.VPPGasEngine(6000, 3000, 3000, 500, None, 20, 2000, 2000, 2, 2, 2, 2, go0=1), \n",
    "             vo.VPPGasEngine(4000, 2000, 2000, val[0]+i*val[1], None, 20, 2000, 2000, 2, 2, 2, 2, go0=1)]\n",
    "g1_1 = vo.VPPGasEngine(6000, 3000, 3000, 500, None, 20, 2000, 2000, 2, 2, 2, 2, go0=1)\n",
    "g1_2 = vo.VPPGasEngine(4000, 2000, 2000, 500, None, 20, 2000, 2000, 2, 2, 2, 2, go0=1)\n",
    "\n",
    "\n",
    "_ = cp.sensitivity([g1_1,g1_2], f, [(500, 500)], [(500, 500)], T, [l1, l2, l3, l5, l6, l7, l10], [np.zeros(T)])"
   ]
  },
  {
   "cell_type": "markdown",
   "metadata": {},
   "source": [
    "#### Gázmotorok + tároló "
   ]
  },
  {
   "cell_type": "markdown",
   "metadata": {},
   "source": [
    "**1. Teszt:** <br>\n",
    "A teszt során 2 gázmotor és egy energia tároló segítségével oldjuk meg a feladatokat. <br>\n",
    "**Eredmények:** Az elöző szekció 1 tesztjéhez hasonlítva itt jelentős eltérések vehető észre. Ilyen például a 2. teszt esetén 50-55% közötti érdekes ugrás a termelések hibájában, melyet a következő teszt során méylebben megvizsgálok. Összességében viszont az mondható el, hogy olcsóbbban tereli meg a modell a szükséges áramot. "
   ]
  },
  {
   "cell_type": "code",
   "execution_count": null,
   "metadata": {},
   "outputs": [],
   "source": [
    "def f(val, i):\n",
    "     return [vo.VPPGasEngine(1500, 1500, 1500, 50, None, 20, 2000, 2000, 2, 2, 2, 2, go0=1), \n",
    "             vo.VPPGasEngine(1500, 1500, 1500, val[0]+i*val[1], None, 20, 2000, 2000, 2, 2, 2, 2, go0=1), \n",
    "             vo.VPPEnergyStorage(0, 10000, 1000, 1000, 0.1, 0.1, 10, 10, 0)]\n",
    "g1_1 = vo.VPPGasEngine(1500, 1500, 1500, 50, None, 20, 2000, 2000, 2, 2, 2, 2, go0=1)\n",
    "g1_2 = vo.VPPGasEngine(1500, 1500, 1500, 50, None, 20, 2000, 2000, 2, 2, 2, 2, go0=1)\n",
    "s = vo.VPPEnergyStorage(0, 10000, 1000, 1000, 0.1, 0.1, 10, 10, 0)\n",
    "\n",
    "_ = cp.sensitivity([g1_1, g1_2, s], f, [(50, 50)], [(50, 50)], T, [l1, l2, l3, l7], [np.zeros(T)])"
   ]
  },
  {
   "cell_type": "markdown",
   "metadata": {},
   "source": [
    "**1.1 Teszt:**<br>\n",
    "Ezen teszt során egy megadott intervallumon változtatva a költség paraméterét részletesen, részvevőkre lebontva elemezem a termelést.<br>\n",
    "**Eredmények:** Megvizsgálva a termelési görbéket szépen látszik, ahogy a költséget változtatjuk azok miként alakulnak. Ezen az intervallumon 3 ponton történik változás, melyek rendre 17 és 18 között, 20 és 21 között, valamint 22 és 23 között. Ha összevetjük az elöző teszt 2. esetével jól látszik, hogy ahogyan a költség függvény változik ott miként történik a termelésben\n"
   ]
  },
  {
   "cell_type": "code",
   "execution_count": null,
   "metadata": {},
   "outputs": [],
   "source": [
    "def f(val):\n",
    "     return [vo.VPPGasEngine(1500, 1500, 1500, 50, None, 20, 2000, 2000, 2, 2, 2, 2, go0=1), \n",
    "             vo.VPPGasEngine(1500, 1500, 1500, val, None, 20, 2000, 2000, 2, 2, 2, 2, go0=1), \n",
    "             vo.VPPEnergyStorage(0, 10000, 1000, 1000, 0.1, 0.1, 10, 10, 0)]\n",
    "cp.sensitivity_by_participants(f, 50-50*0.5, 50-50*0.4, 10, l2, d, T)"
   ]
  },
  {
   "cell_type": "markdown",
   "metadata": {},
   "source": [
    "**1.2 Teszt:**<br>\n",
    "Másik intervallumra is megnézve.<br>\n",
    "**Eredmények:** Itt csak 1 töréspont vehető észre."
   ]
  },
  {
   "cell_type": "code",
   "execution_count": null,
   "metadata": {},
   "outputs": [],
   "source": [
    "def f(val):\n",
    "     return [vo.VPPGasEngine(1500, 1500, 1500, 50, None, 20, 2000, 2000, 2, 2, 2, 2, go0=1), \n",
    "             vo.VPPGasEngine(1500, 1500, 1500, val, None, 20, 2000, 2000, 2, 2, 2, 2, go0=1), \n",
    "             vo.VPPEnergyStorage(0, 10000, 1000, 1000, 0.1, 0.1, 10, 10, 0)]\n",
    "cp.sensitivity_by_participants(f, 50+50*0.6,50+50*0.7, 10, l2, d, T)"
   ]
  },
  {
   "cell_type": "markdown",
   "metadata": {},
   "source": [
    "**1.3 Teszt:**<br>\n",
    "Nézzük meg másik fogyasztási görbére is.<br>\n",
    "**Eredmények:** Itt is csak 1 ilyen pont található."
   ]
  },
  {
   "cell_type": "code",
   "execution_count": null,
   "metadata": {},
   "outputs": [],
   "source": [
    "def f(val):\n",
    "     return [vo.VPPGasEngine(1500, 1500, 1500, 50, None, 20, 2000, 2000, 2, 2, 2, 2, go0=1), \n",
    "             vo.VPPGasEngine(1500, 1500, 1500, val, None, 20, 2000, 2000, 2, 2, 2, 2, go0=1), \n",
    "             vo.VPPEnergyStorage(0, 10000, 1000, 1000, 0.1, 0.1, 10, 10, 0)]\n",
    "cp.sensitivity_by_participants(f, 50+50*0.65,50+50*0.75, 10, l3, d, T, (30,150))"
   ]
  },
  {
   "cell_type": "markdown",
   "metadata": {},
   "source": [
    "**2. Teszt:**<br>\n",
    "Vizsgáljuk meg azt az esetet, amikor a változtatott költségű gázmotor fel-és lefutási értékeit megfelezzük<br>\n",
    "**Eredmények:** A sima gázmotoros esethez képest sokkal érdekesebb eredményeket kaptunk. Sok esetben nőttek azon pontok száma ami után a modell termelési stratégiát vált. Következő tesztek ezek részletesebb vizsgálatáról fognak szólni."
   ]
  },
  {
   "cell_type": "code",
   "execution_count": null,
   "metadata": {},
   "outputs": [],
   "source": [
    "def f(val, i):\n",
    "     return [vo.VPPGasEngine(1500, 1500, 1500, 50, None, 20, 2000, 2000, 2, 2, 2, 2, go0=1), \n",
    "             vo.VPPGasEngine(1500, 750, 750, val[0]+i*val[1], None, 20, 2000, 2000, 2, 2, 2, 2, go0=1), \n",
    "             vo.VPPEnergyStorage(0, 10000, 1000, 1000, 0.1, 0.1, 10, 10, 0)]\n",
    "g1_1 = vo.VPPGasEngine(1500, 1500, 1500, 50, None, 20, 2000, 2000, 2, 2, 2, 2, go0=1)\n",
    "g1_2 = vo.VPPGasEngine(1500, 750, 750, 50, None, 20, 2000, 2000, 2, 2, 2, 2, go0=1)\n",
    "s = vo.VPPEnergyStorage(0, 10000, 1000, 1000, 0.1, 0.1, 10, 10, 0)\n",
    "\n",
    "_ = cp.sensitivity([g1_1, g1_2, s], f, [(50, 50)], [(50, 50)], T, [l1, l2, l3, l7], [np.zeros(T)])"
   ]
  },
  {
   "cell_type": "markdown",
   "metadata": {},
   "source": [
    "**2.1 Teszt:**<br>\n",
    "Ezöző teszt 1. vizsgálatának részletesebb megtekintése.<br>\n",
    "**Eredmények:** Szépen látszik a grafikonon, hogy egy idő után már érdemes bekapcsolni az 1-es gázmotort, mert úgy olcsóbb a termelés."
   ]
  },
  {
   "cell_type": "code",
   "execution_count": null,
   "metadata": {},
   "outputs": [],
   "source": [
    "def f(val):\n",
    "     return [vo.VPPGasEngine(1500, 1500, 1500, 50, None, 20, 2000, 2000, 2, 2, 2, 2, go0=1), \n",
    "             vo.VPPGasEngine(1500, 750, 750, val, None, 20, 2000, 2000, 2, 2, 2, 2, go0=1), \n",
    "             vo.VPPEnergyStorage(0, 10000, 1000, 1000, 0.1, 0.1, 10, 10, 0)]\n",
    "cp.sensitivity_by_participants(f, 50-50*0.45,50-50*0.5, 10, l1, d, T, (30,40), addcontour=False)"
   ]
  },
  {
   "cell_type": "markdown",
   "metadata": {},
   "source": [
    "**2.2 Teszt:**<br>\n",
    "Ezöző teszt 2. vizsgálatának részletesebb megtekintése.<br>\n",
    "**Eredmények:** It is szépen látszik a grafikonokon, hogy hol változnak az értékek itt is a változások száma megegyezik a grafikonon láthatóéval."
   ]
  },
  {
   "cell_type": "code",
   "execution_count": null,
   "metadata": {},
   "outputs": [],
   "source": [
    "def f(val):\n",
    "     return [vo.VPPGasEngine(1500, 1500, 1500, 50, None, 20, 2000, 2000, 2, 2, 2, 2, go0=1), \n",
    "             vo.VPPGasEngine(1500, 750, 750, val, None, 20, 2000, 2000, 2, 2, 2, 2, go0=1), \n",
    "             vo.VPPEnergyStorage(0, 10000, 1000, 1000, 0.1, 0.1, 10, 10, 0)]\n",
    "cp.sensitivity_by_participants(f, 50-50*0.55,50-50*0.25, 10, l2, d, T, (30,40), addcontour=False)"
   ]
  },
  {
   "cell_type": "markdown",
   "metadata": {},
   "source": [
    "**3. Teszt:**<br>\n",
    "Növeljük meg a termelési képességüket a gázmotoroknak.<br>\n",
    "**Eredmények:** Az eredményekben nincs semmi érdekes. A hibák konstansok, a költség lineárisan csökken/nő."
   ]
  },
  {
   "cell_type": "code",
   "execution_count": null,
   "metadata": {},
   "outputs": [],
   "source": [
    "def f(val, i):\n",
    "     return [vo.VPPGasEngine(6000, 3000, 3000, 500, None, 20, 2000, 2000, 2, 2, 2, 2, go0=1), \n",
    "             vo.VPPGasEngine(4000, 2000, 2000, val[0]+i*val[1], None, 20, 2000, 2000, 2, 2, 2, 2, go0=1),\n",
    "             vo.VPPEnergyStorage(0, 10000, 2000, 2000, 0.1, 0.1, 10, 10, 0)]\n",
    "g1_1 = vo.VPPGasEngine(6000, 3000, 3000, 500, None, 20, 2000, 2000, 2, 2, 2, 2, go0=1)\n",
    "g1_2 = vo.VPPGasEngine(4000, 2000, 2000, 500, None, 20, 2000, 2000, 2, 2, 2, 2, go0=1)\n",
    "s = vo.VPPEnergyStorage(0, 10000, 2000, 2000, 0.1, 0.1, 10, 10, 0)\n",
    "\n",
    "_ = cp.sensitivity([g1_1,g1_2,s], f, [(500, 500)], [(500, 500)], T, [l1, l2, l3, l5, l6, l7, l10], [np.zeros(T)])"
   ]
  },
  {
   "cell_type": "markdown",
   "metadata": {},
   "source": [
    "#### Gázmotorok + napelem"
   ]
  },
  {
   "cell_type": "markdown",
   "metadata": {},
   "source": [
    "**1. Teszt:**<br>\n",
    "Ezen tesztek során 2 gázmotor és egy napelem lesz a részvevőnk.<br>\n",
    "**Eredmények:** A grafikonokon 1 érdekes jelenség van csak. A csökkentés esetén az utolcsó -100%-ra a hiba megugrik."
   ]
  },
  {
   "cell_type": "code",
   "execution_count": null,
   "metadata": {},
   "outputs": [],
   "source": [
    "def f(val, i):\n",
    "     return [vo.VPPGasEngine(1500, 1500, 1500, 50, None, 20, 2000, 2000, 2, 2, 2, 2, go0=1), \n",
    "             vo.VPPGasEngine(1500, 1500, 1500, val[0]+val[1]*i, None, 20, 2000, 2000, 2, 2, 2, 2, go0=1),\n",
    "             vo.VPPSolarPanel(1000, 500, 500, 1, T, seed=seed)]\n",
    "g1_1 = vo.VPPGasEngine(1500, 1500, 1500, 50, None, 20, 2000, 2000, 2, 2, 2, 2, go0=1)\n",
    "g1_2 = vo.VPPGasEngine(1500, 1500, 1500, 50, None, 20, 2000, 2000, 2, 2, 2, 2, go0=1)\n",
    "s = vo.VPPSolarPanel(1000, 500, 500, 1, T, seed=seed)\n",
    "\n",
    "_ = cp.sensitivity([g1_1,g1_2, s], f, [(50, 50)], [(50, 50)], T, [l1, l2, l3, l7], [np.zeros(T)])"
   ]
  },
  {
   "cell_type": "markdown",
   "metadata": {},
   "source": [
    "**1.1 Teszt:**<br>\n",
    "Most az elöző teszt esetén említett felugrást vizsgálom.<br>\n",
    "**Eredmények:** Mivel addigra a gázmotor költsége 0 lesz, így inkább kitermeli ingyen az energiát, minthogy a napelemét használja 1 költségért."
   ]
  },
  {
   "cell_type": "code",
   "execution_count": null,
   "metadata": {},
   "outputs": [],
   "source": [
    "def f(val):\n",
    "     return [vo.VPPGasEngine(1500, 1500, 1500, 50, None, 20, 2000, 2000, 2, 2, 2, 2, go0=1), \n",
    "             vo.VPPGasEngine(1500, 1500, 1500, val, None, 20, 2000, 2000, 2, 2, 2, 2, go0=1), \n",
    "             vo.VPPSolarPanel(1000, 500, 500, 1, T, seed=seed)]\n",
    "cp.sensitivity_by_participants(f, 0,50-50*0.95, 2, l1, d, T)"
   ]
  },
  {
   "cell_type": "markdown",
   "metadata": {},
   "source": [
    "**2. Teszt:**<br>\n",
    "Módosítsuk most a változtatott gázmotor fel- és lefutási értékeit a felére.<br>\n",
    "**Eredmények:** Hasonló eseteket tapasztalhatunk mintha csak gázmotorok lennének a teszben. Viszont a termelési hibák amikor változnak akkor azt kisebb értékben teszik."
   ]
  },
  {
   "cell_type": "code",
   "execution_count": null,
   "metadata": {},
   "outputs": [],
   "source": [
    "def f(val, i):\n",
    "     return [vo.VPPGasEngine(1500, 1500, 1500, 50, None, 20, 2000, 2000, 2, 2, 2, 2, go0=1), \n",
    "             vo.VPPGasEngine(1500, 750, 750, val[0]+val[1]*i, None, 20, 2000, 2000, 2, 2, 2, 2, go0=1),\n",
    "             vo.VPPSolarPanel(1000, 500, 500, 1, T, seed=seed)]\n",
    "g1_1 = vo.VPPGasEngine(1500, 1500, 1500, 50, None, 20, 2000, 2000, 2, 2, 2, 2, go0=1)\n",
    "g1_2 = vo.VPPGasEngine(1500, 750, 750, 50, None, 20, 2000, 2000, 2, 2, 2, 2, go0=1)\n",
    "s = vo.VPPSolarPanel(1000, 500, 500, 1, T, seed=seed)\n",
    "\n",
    "_ = cp.sensitivity([g1_1,g1_2, s], f, [(50, 50)], [(50, 50)], T, [l1, l2, l3, l7], [np.zeros(T)])"
   ]
  },
  {
   "cell_type": "markdown",
   "metadata": {},
   "source": [
    "**3. Teszt:**<br>\n",
    "Növeljük meg a termelési képességüket a gázmotoroknak.<br>\n",
    "**Eredmények:** Nincs semmi érdekes sajnos. Ugyan azt kaptuk, mint az eredeti gázmotorsnál, csak itt vannak hibák is és olcsóbb a termelés a napelem miatt."
   ]
  },
  {
   "cell_type": "code",
   "execution_count": null,
   "metadata": {},
   "outputs": [],
   "source": [
    "def f(val, i):\n",
    "     return [vo.VPPGasEngine(6000, 3000, 3000, 50, None, 20, 2000, 2000, 2, 2, 2, 2, go0=1), \n",
    "             vo.VPPGasEngine(4000, 2000, 2000, val[0]+val[1]*i, None, 20, 2000, 2000, 2, 2, 2, 2, go0=1),\n",
    "             vo.VPPSolarPanel(3000, 1500, 1500, 1, T, seed=seed)]\n",
    "g1_1 = vo.VPPGasEngine(6000, 3000, 3000, 50, None, 20, 2000, 2000, 2, 2, 2, 2, go0=1)\n",
    "g1_2 = vo.VPPGasEngine(4000, 2000, 2000, 50, None, 20, 2000, 2000, 2, 2, 2, 2, go0=1)\n",
    "s = vo.VPPSolarPanel(3000, 1500, 1500, 1, T, seed=seed)\n",
    "\n",
    "_ = cp.sensitivity([g1_1,g1_2, s], f, [(50, 50)], [(50, 50)], T, [l1, l2, l3, l7], [np.zeros(T)])"
   ]
  },
  {
   "cell_type": "markdown",
   "metadata": {},
   "source": [
    "#### Gázmotorok + napelem + enegia tároló"
   ]
  },
  {
   "cell_type": "markdown",
   "metadata": {},
   "source": [
    "**1. Teszt:**<br>\n",
    "A tesztek során 2 gázmotort, 1 tárolót és 1 napelemet alkalmazok.<br>\n",
    "**Eredmények:** Az első tesztnél már látható, hogy a terlésnél a hiba eléggé hullámos, amit a következő tesztekben jobban meg is vizsgálok."
   ]
  },
  {
   "cell_type": "code",
   "execution_count": null,
   "metadata": {},
   "outputs": [],
   "source": [
    "def f(val, i):\n",
    "     return [vo.VPPGasEngine(1500, 1500, 1500, 50, None, 20, 2000, 2000, 2, 2, 2, 2, go0=1), \n",
    "             vo.VPPGasEngine(1500, 1500, 1500, val[0]+val[1]*i, None, 20, 2000, 2000, 2, 2, 2, 2, go0=1),\n",
    "             vo.VPPSolarPanel(1000, 500, 500, 1, T, seed=seed),\n",
    "             vo.VPPEnergyStorage(0, 10000, 1000, 1000, 0.1, 0.1, 10, 10, 0)]\n",
    "g1_1 = vo.VPPGasEngine(1500, 1500, 1500, 50, None, 20, 2000, 2000, 2, 2, 2, 2, go0=1)\n",
    "g1_2 = vo.VPPGasEngine(1500, 1500, 1500, 50, None, 20, 2000, 2000, 2, 2, 2, 2, go0=1)\n",
    "st = vo.VPPEnergyStorage(0, 10000, 1000, 1000, 0.1, 0.1, 10, 10, 0)\n",
    "so = vo.VPPSolarPanel(1000, 500, 500, 1, T, seed=seed)\n",
    "\n",
    "_ = cp.sensitivity([g1_1,g1_2, so, st], f, [(50, 50)], [(50, 50)], T, [l1, l2, l3, l7], [np.zeros(T)])"
   ]
  },
  {
   "cell_type": "markdown",
   "metadata": {},
   "source": [
    "**1.1 Teszt:**<br>\n",
    "Az elöző teszteset első vizsgálatának részletesebb tárgyalása.<br>"
   ]
  },
  {
   "cell_type": "code",
   "execution_count": null,
   "metadata": {},
   "outputs": [],
   "source": [
    "def f(val):\n",
    "     return [vo.VPPGasEngine(1500, 1500, 1500, 50, None, 20, 2000, 2000, 2, 2, 2, 2, go0=1), \n",
    "             vo.VPPGasEngine(1500, 1500, 1500, val, None, 20, 2000, 2000, 2, 2, 2, 2, go0=1), \n",
    "             vo.VPPSolarPanel(1000, 500, 500, 1, T, seed=seed),\n",
    "             vo.VPPEnergyStorage(0, 10000, 1000, 1000, 0.1, 0.1, 10, 10, 0)]\n",
    "cp.sensitivity_by_participants(f, 50-50*0.8,50-50*0.4, 4, l1, d, T)"
   ]
  },
  {
   "cell_type": "markdown",
   "metadata": {},
   "source": [
    "**2. Teszt:**<br>\n",
    "Módosítsuk a változtatott gázmotor fel- és lefutási rátáját a felére."
   ]
  },
  {
   "cell_type": "code",
   "execution_count": null,
   "metadata": {},
   "outputs": [],
   "source": [
    "def f(val, i):\n",
    "     return [vo.VPPGasEngine(1500, 1500, 1500, 50, None, 20, 2000, 2000, 2, 2, 2, 2, go0=1), \n",
    "             vo.VPPGasEngine(1500, 750, 750, val[0]+val[1]*i, None, 20, 2000, 2000, 2, 2, 2, 2, go0=1),\n",
    "             vo.VPPSolarPanel(1000, 500, 500, 1, T, seed=seed),\n",
    "             vo.VPPEnergyStorage(0, 10000, 1000, 1000, 0.1, 0.1, 10, 10, 0)]\n",
    "g1_1 = vo.VPPGasEngine(1500, 1500, 1500, 50, None, 20, 2000, 2000, 2, 2, 2, 2, go0=1)\n",
    "g1_2 = vo.VPPGasEngine(1500, 750, 750, 50, None, 20, 2000, 2000, 2, 2, 2, 2, go0=1)\n",
    "st = vo.VPPEnergyStorage(0, 10000, 1000, 1000, 0.1, 0.1, 10, 10, 0)\n",
    "so = vo.VPPSolarPanel(1000, 500, 500, 1, T, seed=seed)\n",
    "\n",
    "_ = cp.sensitivity([g1_1,g1_2, so, st], f, [(50, 50)], [(50, 50)], T, [l1, l2, l3, l7], [np.zeros(T)])"
   ]
  },
  {
   "cell_type": "markdown",
   "metadata": {},
   "source": [
    "**2.1 Teszt:**<br>\n",
    "Vizsgáljuk meg a 3. esetet az elöző tesztből."
   ]
  },
  {
   "cell_type": "code",
   "execution_count": null,
   "metadata": {},
   "outputs": [],
   "source": [
    "def f(val):\n",
    "     return [vo.VPPGasEngine(1500, 1500, 1500, 50, None, 20, 2000, 2000, 2, 2, 2, 2, go0=1), \n",
    "             vo.VPPGasEngine(1500, 750, 750, val, None, 20, 2000, 2000, 2, 2, 2, 2, go0=1), \n",
    "             vo.VPPSolarPanel(1000, 500, 500, 1, T, seed=seed),\n",
    "             vo.VPPEnergyStorage(0, 10000, 1000, 1000, 0.1, 0.1, 10, 10, 0)]\n",
    "cp.sensitivity_by_participants(f, 50-50*0.55,50-50*0.25, 4, l3, d, T)"
   ]
  },
  {
   "cell_type": "markdown",
   "metadata": {},
   "source": [
    "**3. Teszt:**<br>\n",
    "Növeljük meg a gázmotorok termelését."
   ]
  },
  {
   "cell_type": "code",
   "execution_count": null,
   "metadata": {},
   "outputs": [],
   "source": [
    "def f(val, i):\n",
    "     return [vo.VPPGasEngine(6000, 3000, 3000, 50, None, 20, 2000, 2000, 2, 2, 2, 2, go0=1), \n",
    "             vo.VPPGasEngine(4000, 2000, 2000, val[0]+val[1]*i, None, 20, 2000, 2000, 2, 2, 2, 2, go0=1),\n",
    "             vo.VPPSolarPanel(3000, 1500, 1500, 1, T, seed=seed),\n",
    "             vo.VPPEnergyStorage(0, 10000, 3000, 3000, 0.1, 0.1, 10, 10, 0)]\n",
    "g1_1 = vo.VPPGasEngine(6000, 3000, 3000, 50, None, 20, 2000, 2000, 2, 2, 2, 2, go0=1)\n",
    "g1_2 = vo.VPPGasEngine(4000, 2000, 2000, 50, None, 20, 2000, 2000, 2, 2, 2, 2, go0=1)\n",
    "st = vo.VPPEnergyStorage(0, 10000, 3000, 3000, 0.1, 0.1, 10, 10, 0)\n",
    "so = vo.VPPSolarPanel(3000, 1500, 1500, 1, T, seed=seed)\n",
    "\n",
    "_ = cp.sensitivity([g1_1,g1_2, so, st], f, [(50, 50)], [(50, 50)], T, [l1, l2, l3, l4, l5, l6, l7, l10], [np.zeros(T)])"
   ]
  },
  {
   "cell_type": "markdown",
   "metadata": {},
   "source": [
    "**3.1 Teszt:**<br>\n",
    "Vizsgáljuk meg a 2. esetet az elöző tesztből."
   ]
  },
  {
   "cell_type": "code",
   "execution_count": null,
   "metadata": {},
   "outputs": [],
   "source": [
    "def f(val):\n",
    "     return [vo.VPPGasEngine(6000, 3000, 3000, 50, None, 20, 2000, 2000, 2, 2, 2, 2, go0=1), \n",
    "             vo.VPPGasEngine(4000, 2000, 2000, val, None, 20, 2000, 2000, 2, 2, 2, 2, go0=1), \n",
    "             vo.VPPSolarPanel(3000, 1500, 1500, 1, T, seed=seed),\n",
    "             vo.VPPEnergyStorage(0, 10000, 3000, 3000, 0.1, 0.1, 10, 10, 0)]\n",
    "cp.sensitivity_by_participants(f, 50,50+50*0.05, 3, l2, d, T)"
   ]
  },
  {
   "cell_type": "markdown",
   "metadata": {},
   "source": [
    "### Max termlés érzékenysége (Gázmotoroknál)"
   ]
  },
  {
   "cell_type": "markdown",
   "metadata": {},
   "source": [
    "#### Csak gázmotorok"
   ]
  },
  {
   "cell_type": "markdown",
   "metadata": {},
   "source": [
    "**1. Teszt:**"
   ]
  },
  {
   "cell_type": "code",
   "execution_count": null,
   "metadata": {},
   "outputs": [],
   "source": [
    "cp.globalcurrcat = 2\n",
    "def f(val, i):\n",
    "     return [vo.VPPGasEngine(1500, 1500, 1500, 10, None, 20, 2000, 2000, 2, 2, 2, 2, go0=1), \n",
    "             vo.VPPGasEngine(val[0]+val[1]*i, 1500, 1500, 10, None, 20, 2000, 2000, 2, 2, 2, 2, go0=1)]\n",
    "g1_1 = vo.VPPGasEngine(1500, 1500, 1500, 10, None, 20, 2000, 2000, 2, 2, 2, 2, go0=1)\n",
    "g1_2 = vo.VPPGasEngine(1500, 1500, 1500, 10, None, 20, 2000, 2000, 2, 2, 2, 2, go0=1)\n",
    "\n",
    "\n",
    "_ = cp.sensitivity([g1_1,g1_2], f, [(1500, 1500)], [(1500, 1500)], T, [l1, l2, l3, l7], [np.zeros(T)])"
   ]
  },
  {
   "cell_type": "markdown",
   "metadata": {},
   "source": [
    "**1.1 Teszt:**<br>\n",
    "Elöző teszt 2 eset pozitív irányának vizsgálata."
   ]
  },
  {
   "cell_type": "code",
   "execution_count": null,
   "metadata": {},
   "outputs": [],
   "source": [
    "def f(val):\n",
    "     return [vo.VPPGasEngine(1500, 1500, 1500, 10, None, 20, 2000, 2000, 2, 2, 2, 2, go0=1), \n",
    "             vo.VPPGasEngine(val, 1500, 1500, 10, None, 20, 2000, 2000, 2, 2, 2, 2, go0=1)]\n",
    "cp.sensitivity_by_participants(f, 1500- 1500*0.5,15001500*0.3, 3, l1, d, T, addcontour=False)"
   ]
  },
  {
   "cell_type": "markdown",
   "metadata": {},
   "source": [
    "**2. Teszt:**"
   ]
  },
  {
   "cell_type": "code",
   "execution_count": null,
   "metadata": {},
   "outputs": [],
   "source": [
    "def f(val, i):\n",
    "     return [vo.VPPGasEngine(1500, 1500, 1500, 100, None, 20, 2000, 2000, 2, 2, 2, 2, go0=1), \n",
    "             vo.VPPGasEngine(val[0]+val[1]*i, 3000, 3000, 10, None, 20, 2000, 2000, 2, 2, 2, 2, go0=1)]\n",
    "g1_1 = vo.VPPGasEngine(1500, 1500, 1500, 100, None, 20, 2000, 2000, 2, 2, 2, 2, go0=1)\n",
    "g1_2 = vo.VPPGasEngine(1500, 3000, 3000, 10, None, 20, 2000, 2000, 2, 2, 2, 2, go0=1)\n",
    "\n",
    "\n",
    "_ = cp.sensitivity([g1_1,g1_2], f, [(1500, 7000)], [(1500, 1500)], T, [l1, l2, l3,l7], [np.zeros(T)])"
   ]
  },
  {
   "cell_type": "markdown",
   "metadata": {},
   "source": [
    "**2.1 Teszt:**<br>\n",
    "Elöző teszt 1 esete csökkentésnél."
   ]
  },
  {
   "cell_type": "code",
   "execution_count": null,
   "metadata": {},
   "outputs": [],
   "source": [
    "def f(val):\n",
    "     return [vo.VPPGasEngine(1500, 1500, 1500, 100, None, 20, 2000, 2000, 2, 2, 2, 2, go0=1), \n",
    "             vo.VPPGasEngine(val, 3000, 3000, 10, None, 20, 2000, 2000, 2, 2, 2, 2, go0=1)]\n",
    "cp.sensitivity_by_participants(f, 0, 1500-1500*0.35, 10, l1, d, T)"
   ]
  },
  {
   "cell_type": "markdown",
   "metadata": {},
   "source": [
    "**2.2 Teszt:**<br>\n",
    "Elöző teszt 2 esete növelésnél."
   ]
  },
  {
   "cell_type": "code",
   "execution_count": null,
   "metadata": {},
   "outputs": [],
   "source": [
    "def f(val):\n",
    "     return [vo.VPPGasEngine(1500, 1500, 1500, 100, None, 20, 2000, 2000, 2, 2, 2, 2, go0=1), \n",
    "             vo.VPPGasEngine(val, 3000, 3000, 10, None, 20, 2000, 2000, 2, 2, 2, 2, go0=1)]\n",
    "cp.sensitivity_by_participants(f, 1500, 1500+7000*0.1, 10, l2, d, T)"
   ]
  },
  {
   "cell_type": "markdown",
   "metadata": {},
   "source": [
    "**2.3 Teszt:**<br>\n",
    "Elöző teszt 3 esete növelésnél."
   ]
  },
  {
   "cell_type": "code",
   "execution_count": null,
   "metadata": {},
   "outputs": [],
   "source": [
    "def f(val):\n",
    "     return [vo.VPPGasEngine(1500, 1500, 1500, 100, None, 20, 2000, 2000, 2, 2, 2, 2, go0=1), \n",
    "             vo.VPPGasEngine(val, 3000, 3000, 10, None, 20, 2000, 2000, 2, 2, 2, 2, go0=1)]\n",
    "cp.sensitivity_by_participants(f, 1500, 1500+7000*0.2, 10, l3, d, T)"
   ]
  },
  {
   "cell_type": "markdown",
   "metadata": {},
   "source": [
    "#### Gázmotorok + tároló"
   ]
  },
  {
   "cell_type": "markdown",
   "metadata": {},
   "source": [
    "**1. Teszt:**"
   ]
  },
  {
   "cell_type": "code",
   "execution_count": null,
   "metadata": {},
   "outputs": [],
   "source": [
    "def f(val, i):\n",
    "     return [vo.VPPGasEngine(1500, 1500, 1500, 10, None, 20, 2000, 2000, 2, 2, 2, 2, go0=1), \n",
    "             vo.VPPGasEngine(val[0]+val[1]*i, 1500, 1500, 10, None, 20, 2000, 2000, 2, 2, 2, 2, go0=1), \n",
    "             vo.VPPEnergyStorage(0,10000, 1000, 1000 ,0.1, 0.1, 10, 10, 0)]\n",
    "g1_1 = vo.VPPGasEngine(1500, 1500, 1500, 10, None, 20, 2000, 2000, 2, 2, 2, 2, go0=1)\n",
    "g1_2 = vo.VPPGasEngine(1500, 1500, 1500, 10, None, 20, 2000, 2000, 2, 2, 2, 2, go0=1)\n",
    "s = vo.VPPEnergyStorage(0,10000, 1000, 1000 ,0.1, 0.1, 10, 10, 0)\n",
    "\n",
    "_ = cp.sensitivity([g1_1,g1_2,s], f, [(1500, 1500)], [(1500, 1500)], T, [l1, l2, l3, l7], [np.zeros(T)])"
   ]
  },
  {
   "cell_type": "markdown",
   "metadata": {},
   "source": [
    "**1.1 Teszt:**<br>\n",
    "Elöző teszt 1 eset negatív irány."
   ]
  },
  {
   "cell_type": "code",
   "execution_count": null,
   "metadata": {},
   "outputs": [],
   "source": [
    "def f(val):\n",
    "     return [vo.VPPGasEngine(1500, 1500, 1500, 10, None, 20, 2000, 2000, 2, 2, 2, 2, go0=1), \n",
    "             vo.VPPGasEngine(val, 1500, 1500, 10, None, 20, 2000, 2000, 2, 2, 2, 2, go0=1), \n",
    "             vo.VPPEnergyStorage(0,10000, 1000, 1000 ,0.1, 0.1, 10, 10, 0)]\n",
    "cp.sensitivity_by_participants(f, 1500, 1500+1500*0.05, 3, l2, d, T)"
   ]
  },
  {
   "cell_type": "markdown",
   "metadata": {},
   "source": [
    "**1.2 Teszt:**<br>\n",
    "Elöző teszt 2 eset negatív irány."
   ]
  },
  {
   "cell_type": "code",
   "execution_count": null,
   "metadata": {},
   "outputs": [],
   "source": [
    "def f(val):\n",
    "     return [vo.VPPGasEngine(1500, 1500, 1500, 10, None, 20, 2000, 2000, 2, 2, 2, 2, go0=1), \n",
    "             vo.VPPGasEngine(val, 1500, 1500, 10, None, 20, 2000, 2000, 2, 2, 2, 2, go0=1), \n",
    "             vo.VPPEnergyStorage(0,10000, 1000, 1000 ,0.1, 0.1, 10, 10, 0)]\n",
    "cp.sensitivity_by_participants(f, 1500-1500*0.65, 1500-1500*0.45, 3, l2, d, T)"
   ]
  },
  {
   "cell_type": "markdown",
   "metadata": {},
   "source": [
    "**1.2.1 Teszt:**<br>\n",
    "Elöző teszt 2 eset negatív irány másik intervallumon."
   ]
  },
  {
   "cell_type": "code",
   "execution_count": null,
   "metadata": {},
   "outputs": [],
   "source": [
    "def f(val):\n",
    "     return [vo.VPPGasEngine(1500, 1500, 1500, 10, None, 20, 2000, 2000, 2, 2, 2, 2, go0=1), \n",
    "             vo.VPPGasEngine(val, 1500, 1500, 10, None, 20, 2000, 2000, 2, 2, 2, 2, go0=1), \n",
    "             vo.VPPEnergyStorage(0,10000, 1000, 1000 ,0.1, 0.1, 10, 10, 0)]\n",
    "cp.sensitivity_by_participants(f, 1500-1500*0.85, 1500-1500*0.65, 10, l2, d, T)"
   ]
  },
  {
   "cell_type": "markdown",
   "metadata": {},
   "source": [
    "**2. Teszt:**"
   ]
  },
  {
   "cell_type": "code",
   "execution_count": null,
   "metadata": {},
   "outputs": [],
   "source": [
    "def f(val, i):\n",
    "     return [vo.VPPGasEngine(1500, 1500, 1500, 100, None, 20, 2000, 2000, 2, 2, 2, 2, go0=1), \n",
    "             vo.VPPGasEngine(val[0]+val[1]*i, 3000, 3000, 10, None, 20, 2000, 2000, 2, 2, 2, 2, go0=1), \n",
    "             vo.VPPEnergyStorage(0,10000, 1000, 1000 ,0.1, 0.1, 10, 10, 0)]\n",
    "g1_1 = vo.VPPGasEngine(1500, 1500, 1500, 100, None, 20, 2000, 2000, 2, 2, 2, 2, go0=1)\n",
    "g1_2 = vo.VPPGasEngine(1500, 3000, 3000, 10, None, 20, 2000, 2000, 2, 2, 2, 2, go0=1)\n",
    "s = vo.VPPEnergyStorage(0,10000, 3000, 3000 ,0.1, 0.1, 10, 10, 0)\n",
    "\n",
    "_ = cp.sensitivity([g1_1,g1_2,s], f, [(1500, 7000)], [(1500, 1500)], T, [l1, l2, l3,l7], [np.zeros(T)])"
   ]
  },
  {
   "cell_type": "markdown",
   "metadata": {},
   "source": [
    "#### Gázmotorok + napelem"
   ]
  },
  {
   "cell_type": "markdown",
   "metadata": {},
   "source": [
    "**1. Teszt:**"
   ]
  },
  {
   "cell_type": "code",
   "execution_count": null,
   "metadata": {},
   "outputs": [],
   "source": [
    "def f(val, i):\n",
    "     return [vo.VPPGasEngine(1500, 1500, 1500, 10, None, 20, 2000, 2000, 2, 2, 2, 2, go0=1), \n",
    "             vo.VPPGasEngine(val[0]+val[1]*i, 1500, 1500, 10, None, 20, 2000, 2000, 2, 2, 2, 2, go0=1), \n",
    "             vo.VPPSolarPanel(1000, 500, 500, 1, T, seed=seed)]\n",
    "g1_1 = vo.VPPGasEngine(1500, 1500, 1500, 10, None, 20, 2000, 2000, 2, 2, 2, 2, go0=1)\n",
    "g1_2 = vo.VPPGasEngine(1500, 1500, 1500, 10, None, 20, 2000, 2000, 2, 2, 2, 2, go0=1)\n",
    "so = vo.VPPSolarPanel(1000, 500, 500, 1, T, seed=seed)\n",
    "\n",
    "_ = cp.sensitivity([g1_1,g1_2,so], f, [(1500, 1500)], [(1500, 1500)], T, [l1, l2, l3, l7], [np.zeros(T)])"
   ]
  },
  {
   "cell_type": "markdown",
   "metadata": {},
   "source": [
    "**1.1. Teszt:**<br>\n",
    "Elöző teszt 1 estének negatív oldala."
   ]
  },
  {
   "cell_type": "code",
   "execution_count": null,
   "metadata": {},
   "outputs": [],
   "source": [
    "def f(val):\n",
    "     return [vo.VPPGasEngine(1500, 1500, 1500, 10, None, 20, 2000, 2000, 2, 2, 2, 2, go0=1), \n",
    "             vo.VPPGasEngine(val, 1500, 1500, 10, None, 20, 2000, 2000, 2, 2, 2, 2, go0=1), \n",
    "             vo.VPPSolarPanel(1000, 500, 500, 1, T, seed=seed)]\n",
    "cp.sensitivity_by_participants(f, 1500-1500*0.4, 1500-1500*0.3, 3, l1, d, T)"
   ]
  },
  {
   "cell_type": "markdown",
   "metadata": {},
   "source": [
    "**2. Teszt:**"
   ]
  },
  {
   "cell_type": "code",
   "execution_count": null,
   "metadata": {},
   "outputs": [],
   "source": [
    "def f(val, i):\n",
    "     return [vo.VPPGasEngine(1500, 1500, 1500, 100, None, 20, 2000, 2000, 2, 2, 2, 2, go0=1), \n",
    "             vo.VPPGasEngine(val[0]+val[1]*i, 3000, 3000, 10, None, 20, 2000, 2000, 2, 2, 2, 2, go0=1), \n",
    "             vo.VPPSolarPanel(1000, 500, 500, 1, T, seed=seed)]\n",
    "g1_1 = vo.VPPGasEngine(1500, 1500, 1500, 100, None, 20, 2000, 2000, 2, 2, 2, 2, go0=1)\n",
    "g1_2 = vo.VPPGasEngine(1500, 3000, 3000, 10, None, 20, 2000, 2000, 2, 2, 2, 2, go0=1)\n",
    "so = vo.VPPSolarPanel(1000, 500, 500, 1, T, seed=seed)\n",
    "\n",
    "_ = cp.sensitivity([g1_1,g1_2,s], f, [(1500, 7000)], [(1500, 1500)], T, [l1, l2, l3,l7], [np.zeros(T)])"
   ]
  },
  {
   "cell_type": "markdown",
   "metadata": {},
   "source": [
    "#### Gázmotorok + tároló + napelem"
   ]
  },
  {
   "cell_type": "markdown",
   "metadata": {},
   "source": [
    "**1. Teszt:**"
   ]
  },
  {
   "cell_type": "code",
   "execution_count": null,
   "metadata": {},
   "outputs": [],
   "source": [
    "def f(val, i):\n",
    "     return [vo.VPPGasEngine(1500, 1500, 1500, 10, None, 20, 2000, 2000, 2, 2, 2, 2, go0=1), \n",
    "             vo.VPPGasEngine(val[0]+val[1]*i, 1500, 1500, 10, None, 20, 2000, 2000, 2, 2, 2, 2, go0=1), \n",
    "             vo.VPPEnergyStorage(0, 10000, 1000, 1000, 0.1, 0.1, 10, 10, 0),\n",
    "             vo.VPPSolarPanel(1000, 500, 500, 1, T, seed=seed)]\n",
    "g1_1 = vo.VPPGasEngine(1500, 1500, 1500, 10, None, 20, 2000, 2000, 2, 2, 2, 2, go0=1)\n",
    "g1_2 = vo.VPPGasEngine(1500, 1500, 1500, 10, None, 20, 2000, 2000, 2, 2, 2, 2, go0=1)\n",
    "st = vo.VPPEnergyStorage(0, 10000, 1000, 1000, 0.1, 0.1, 10, 10, 0)\n",
    "so = vo.VPPSolarPanel(1000, 500, 500, 1, T, seed=seed)\n",
    "\n",
    "_ = cp.sensitivity([g1_1,g1_2,st, so], f, [(1500, 1500)], [(1500, 1500)], T, [l1, l2, l3, l7], [np.zeros(T)])"
   ]
  },
  {
   "cell_type": "markdown",
   "metadata": {},
   "source": [
    "**2. Teszt:**"
   ]
  },
  {
   "cell_type": "code",
   "execution_count": null,
   "metadata": {},
   "outputs": [],
   "source": [
    "def f(val, i):\n",
    "     return [vo.VPPGasEngine(1500, 1500, 1500, 100, None, 20, 2000, 2000, 2, 2, 2, 2, go0=1), \n",
    "             vo.VPPGasEngine(val[0]+val[1]*i, 3000, 3000, 10, None, 20, 2000, 2000, 2, 2, 2, 2, go0=1),\n",
    "             vo.VPPEnergyStorage(0, 10000, 1000, 1000, 0.1, 0.1, 10, 10, 0),\n",
    "             vo.VPPSolarPanel(1000, 500, 500, 1, T, seed=seed)]\n",
    "g1_1 = vo.VPPGasEngine(1500, 1500, 1500, 100, None, 20, 2000, 2000, 2, 2, 2, 2, go0=1)\n",
    "g1_2 = vo.VPPGasEngine(1500, 3000, 3000, 10, None, 20, 2000, 2000, 2, 2, 2, 2, go0=1)\n",
    "st = vo.VPPEnergyStorage(0, 10000, 1000, 1000, 0.1, 0.1, 10, 10, 0)\n",
    "so = vo.VPPSolarPanel(1000, 500, 500, 1, T, seed=seed)\n",
    "\n",
    "_ = cp.sensitivity([g1_1,g1_2,st, so], f, [(1500, 7000)], [(1500, 1500)], T, [l1, l2, l3,l7], [np.zeros(T)])"
   ]
  },
  {
   "cell_type": "markdown",
   "metadata": {},
   "source": [
    "### Veszteségi faktor érzékenysége (Tárolók)"
   ]
  },
  {
   "cell_type": "markdown",
   "metadata": {},
   "source": [
    "**1. Teszt:**"
   ]
  },
  {
   "cell_type": "code",
   "execution_count": null,
   "metadata": {},
   "outputs": [],
   "source": [
    "cp.globalcurrcat = 3\n",
    "def f(val, i):\n",
    "     return [vo.VPPGasEngine(1500, 750, 750, 10, None, 20, 2000, 2000, 2, 2, 2, 2, go0=1), \n",
    "             vo.VPPGasEngine(1500, 1500, 1500, 10, None, 20, 2000, 2000, 2, 2, 2, 2, go0=1), \n",
    "             vo.VPPEnergyStorage(0, 10000, 1000, 1000, val[0] + val[1]*i, val[0] + val[1]*i, 10, 10, 0)]\n",
    "g1_1 = vo.VPPGasEngine(1500, 750, 750, 10, None, 20, 2000, 2000, 2, 2, 2, 2, go0=1)\n",
    "g1_2 = vo.VPPGasEngine(1500, 1500, 1500, 10, None, 20, 2000, 2000, 2, 2, 2, 2, go0=1)\n",
    "st = vo.VPPEnergyStorage(0, 10000, 1000, 1000, 0.1, 0.1, 10, 10, 0)\n",
    "\n",
    "_ = cp.sensitivity([g1_1,g1_2,st], f, [(.1, .899)], [(.1, .099)], T, [l1, l2, l3, l7], [np.zeros(T)])"
   ]
  },
  {
   "cell_type": "markdown",
   "metadata": {},
   "source": [
    "**1.1 Teszt:**<br>\n",
    "Elöző teszt 3. esetének részletesebb vizsgálata."
   ]
  },
  {
   "cell_type": "code",
   "execution_count": null,
   "metadata": {},
   "outputs": [],
   "source": [
    "def f(val):\n",
    "     return [vo.VPPGasEngine(1500, 750, 750, 10, None, 20, 2000, 2000, 2, 2, 2, 2, go0=1), \n",
    "             vo.VPPGasEngine(1500, 1500, 1500, 10, None, 20, 2000, 2000, 2, 2, 2, 2, go0=1), \n",
    "             vo.VPPEnergyStorage(0, 10000, 1000, 1000, val, val, 10, 10, 0)]\n",
    "cp.sensitivity_by_participants(f, 0.01, 0.5+0.499*1, 3, l3, d, T)"
   ]
  },
  {
   "cell_type": "markdown",
   "metadata": {},
   "source": [
    "**2. Teszt:**"
   ]
  },
  {
   "cell_type": "code",
   "execution_count": null,
   "metadata": {},
   "outputs": [],
   "source": [
    "def f(val, i):\n",
    "     return [vo.VPPGasEngine(1500, 750, 750, 1000, None, 20, 2000, 2000, 2, 2, 2, 2, go0=1), \n",
    "             vo.VPPGasEngine(1500, 1500, 1500, 1000, None, 20, 2000, 2000, 2, 2, 2, 2, go0=1), \n",
    "             vo.VPPEnergyStorage(0, 10000, 1000, 1000, val[0] + val[1]*i, val[0] + val[1]*i, 10, 10, 0)]\n",
    "g1_1 = vo.VPPGasEngine(1500, 750, 750, 1000, None, 20, 2000, 2000, 2, 2, 2, 2, go0=1)\n",
    "g1_2 = vo.VPPGasEngine(1500, 1500, 1500, 1000, None, 20, 2000, 2000, 2, 2, 2, 2, go0=1)\n",
    "st = vo.VPPEnergyStorage(0, 10000, 1000, 1000, 0.1, 0.1, 10, 10, 0)\n",
    "\n",
    "_ = cp.sensitivity([g1_1,g1_2,st], f, [(.1, .899)], [(.1, .099)], T, [l1, l2, l3, l7], [np.zeros(T)])"
   ]
  },
  {
   "cell_type": "markdown",
   "metadata": {},
   "source": [
    "**3. Teszt:**"
   ]
  },
  {
   "cell_type": "code",
   "execution_count": null,
   "metadata": {},
   "outputs": [],
   "source": [
    "def f(val, i):\n",
    "     return [vo.VPPGasEngine(1500, 750, 750, 1000, None, 20, 2000, 2000, 2, 2, 2, 2, go0=1), \n",
    "             vo.VPPGasEngine(1500, 1500, 1500, 1000, None, 20, 2000, 2000, 2, 2, 2, 2, go0=1), \n",
    "             vo.VPPEnergyStorage(0, 10000, 1000, 1000, val[0] + val[1]*i, val[0] + val[1]*i, 10, 10, 0), \n",
    "             vo.VPPSolarPanel(1000, 500, 500, 1, T, seed=seed)]\n",
    "g1_1 = vo.VPPGasEngine(1500, 750, 750, 1000, None, 20, 2000, 2000, 2, 2, 2, 2, go0=1)\n",
    "g1_2 = vo.VPPGasEngine(1500, 1500, 1500, 1000, None, 20, 2000, 2000, 2, 2, 2, 2, go0=1)\n",
    "st = vo.VPPEnergyStorage(0, 10000, 1000, 1000, 0.1, 0.1, 10, 10, 0)\n",
    "so = vo.VPPSolarPanel(1000, 500, 500, 1, T, seed=seed)\n",
    "_ = cp.sensitivity([g1_1,g1_2,st, so], f, [(.1, .899)], [(.1, .099)], T, [l1, l2, l3, l7], [np.zeros(T)])"
   ]
  },
  {
   "cell_type": "markdown",
   "metadata": {},
   "source": [
    "**3.1 teszt:**"
   ]
  },
  {
   "cell_type": "code",
   "execution_count": null,
   "metadata": {},
   "outputs": [],
   "source": [
    "def f(val):\n",
    "     return [vo.VPPGasEngine(1500, 750, 750, 1000, None, 20, 2000, 2000, 2, 2, 2, 2, go0=1), \n",
    "             vo.VPPGasEngine(1500, 1500, 1500, 1000, None, 20, 2000, 2000, 2, 2, 2, 2, go0=1), \n",
    "             vo.VPPEnergyStorage(0, 10000, 1000, 1000, val, val, 10, 10, 0), \n",
    "             vo.VPPSolarPanel(1000, 500, 500, 1, T, seed=seed)]\n",
    "cp.sensitivity_by_participants(f, 0.01, 0.5+0.499*1, 3, l1, d, T)"
   ]
  },
  {
   "cell_type": "markdown",
   "metadata": {},
   "source": [
    "**3.2 teszt:**"
   ]
  },
  {
   "cell_type": "code",
   "execution_count": null,
   "metadata": {},
   "outputs": [],
   "source": [
    "def f(val, i):\n",
    "     return [vo.VPPGasEngine(1500, 750, 750, 1000, None, 20, 2000, 2000, 2, 2, 2, 2, go0=1), \n",
    "             vo.VPPGasEngine(1500, 1500, 1500, 1000, None, 20, 2000, 2000, 2, 2, 2, 2, go0=1), \n",
    "             vo.VPPEnergyStorage(0, 10000, 1000, 1000, val[0] + val[1]*i, val[0] + val[1]*i, 10, 10, 0), \n",
    "             vo.VPPSolarPanel(3000, 1500, 1500, 1, T, seed=seed)]\n",
    "g1_1 = vo.VPPGasEngine(1500, 750, 750, 1000, None, 20, 2000, 2000, 2, 2, 2, 2, go0=1)\n",
    "g1_2 = vo.VPPGasEngine(1500, 1500, 1500, 1000, None, 20, 2000, 2000, 2, 2, 2, 2, go0=1)\n",
    "st = vo.VPPEnergyStorage(0, 10000, 1000, 1000, 0.1, 0.1, 10, 10, 0)\n",
    "so = vo.VPPSolarPanel(3000, 1500, 1500, 1, T, seed=seed)\n",
    "_ = cp.sensitivity([g1_1,g1_2,st, so], f, [(.1, .899)], [(.1, .099)], T, [l1, l2, l3, l7], [np.zeros(T)])"
   ]
  },
  {
   "cell_type": "markdown",
   "metadata": {},
   "source": [
    "**3.2.1 Teszt:**"
   ]
  },
  {
   "cell_type": "code",
   "execution_count": null,
   "metadata": {},
   "outputs": [],
   "source": [
    "def f(val):\n",
    "     return [vo.VPPGasEngine(1500, 750, 750, 1000, None, 20, 2000, 2000, 2, 2, 2, 2, go0=1), \n",
    "             vo.VPPGasEngine(1500, 1500, 1500, 1000, None, 20, 2000, 2000, 2, 2, 2, 2, go0=1), \n",
    "             vo.VPPEnergyStorage(0, 10000, 1000, 1000, val, val, 10, 10, 0), \n",
    "             vo.VPPSolarPanel(3000, 1500, 1500, 1, T, seed=seed)]\n",
    "cp.sensitivity_by_participants(f, 0.01, 0.5+0.499*1, 3, l1, d, T)"
   ]
  },
  {
   "cell_type": "markdown",
   "metadata": {},
   "source": [
    "**3.2.1 Teszt:**"
   ]
  },
  {
   "cell_type": "code",
   "execution_count": null,
   "metadata": {},
   "outputs": [],
   "source": [
    "def f(val):\n",
    "     return [vo.VPPGasEngine(1500, 750, 750, 1000, None, 20, 2000, 2000, 2, 2, 2, 2, go0=1), \n",
    "             vo.VPPGasEngine(1500, 1500, 1500, 1000, None, 20, 2000, 2000, 2, 2, 2, 2, go0=1), \n",
    "             vo.VPPEnergyStorage(0, 10000, 1000, 1000, val, val, 10, 10, 0), \n",
    "             vo.VPPSolarPanel(3000, 1500, 1500, 1, T, seed=seed)]\n",
    "cp.sensitivity_by_participants(f, 0.01, 0.5+0.499*1, 3, l7, d, T)"
   ]
  },
  {
   "cell_type": "markdown",
   "metadata": {},
   "source": [
    "# Összegzés"
   ]
  },
  {
   "cell_type": "markdown",
   "metadata": {},
   "source": [
    "## Ez a kódrész csak akkor ad értelmes adatokat, ha előtte futtatva lettek a fentebbi tesztek úgy, hogy a `globalsummerize` kapcsoló igazra volt állítva (ilyen esetben ajánlom a `globaldisplay` kapcsoló hamisra állítását, hogy a grafikonok ne jelenjenek meg)."
   ]
  },
  {
   "cell_type": "code",
   "execution_count": null,
   "metadata": {},
   "outputs": [],
   "source": [
    "cp.summerize()"
   ]
  },
  {
   "cell_type": "code",
   "execution_count": null,
   "metadata": {},
   "outputs": [],
   "source": [
    "def f(val, i, j):\n",
    "     return [vo.VPPGasEngine(1500, 750, 750, 100), vo.VPPGasEngine(1500, val[0]+val[0]*i, val[0]+val[0]*i, val[1]+val[1]*j)]\n",
    "g1_1 = vo.VPPGasEngine(1500, 750, 750, 100)\n",
    "g1_2 = vo.VPPGasEngine(1500, 750, 750, 50)\n",
    "\n",
    "_ = cp.sensitivity_2([g1_1,g1_2], f, [\"Fel-, lefutási ráta\", \"Költség\"], [(750, 50)], T, [l1, l7], [np.zeros(T)], view=[[(30,315), (30,315), (30,315)]])"
   ]
  },
  {
   "cell_type": "code",
   "execution_count": null,
   "metadata": {},
   "outputs": [],
   "source": [
    "def f(val, i, j):\n",
    "     return [vo.VPPGasEngine(1500, 750, 750, 100, None, 20, 1000, 1000, 2, 2, 2, 2), vo.VPPGasEngine(1500, val[0]+val[0]*i, val[0]+val[0]*i, val[1]+val[1]*j, None, 20, 1000, 1000, 2, 2, 2, 2)]\n",
    "g1_1 = vo.VPPGasEngine(1500, 750, 750, 100, None, 20, 1000, 1000, 2, 2, 2, 2)\n",
    "g1_2 = vo.VPPGasEngine(1500, 750, 750, 50, None, 20, 1000, 1000, 2, 2, 2, 2)\n",
    "\n",
    "_ = cp.sensitivity_2([g1_1,g1_2], f, [\"Fel-, lefutási ráta\", \"Költség\"], [(750, 50)], T, [l1, l7], [np.zeros(T)], view=[[(30,315), (30,315), (30,315)]])"
   ]
  },
  {
   "cell_type": "code",
   "execution_count": null,
   "metadata": {},
   "outputs": [],
   "source": [
    "def f(val):\n",
    "     return [vo.VPPGasEngine(1500, 750, 750, 100), vo.VPPGasEngine(1500, 1500, 1500, val)]\n",
    "\n",
    "\n",
    "cp.sensitivity_by_participants(f, 99, 100, 4, l1, d, T)"
   ]
  }
 ],
 "metadata": {
  "kernelspec": {
   "display_name": "Python 3",
   "language": "python",
   "name": "python3"
  },
  "language_info": {
   "codemirror_mode": {
    "name": "ipython",
    "version": 3
   },
   "file_extension": ".py",
   "mimetype": "text/x-python",
   "name": "python",
   "nbconvert_exporter": "python",
   "pygments_lexer": "ipython3",
   "version": "3.11.6"
  }
 },
 "nbformat": 4,
 "nbformat_minor": 2
}
